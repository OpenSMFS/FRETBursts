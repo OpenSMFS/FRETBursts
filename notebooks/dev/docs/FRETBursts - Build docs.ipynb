{
 "metadata": {
  "name": "",
  "signature": "sha256:71636a171512154a6a92c4f56677df9533ba90f64d0075dbb6b4683e0155cd99"
 },
 "nbformat": 3,
 "nbformat_minor": 0,
 "worksheets": [
  {
   "cells": [
    {
     "cell_type": "code",
     "collapsed": false,
     "input": [
      "#!pip install sphinxcontrib-napoleon"
     ],
     "language": "python",
     "metadata": {},
     "outputs": [],
     "prompt_number": 1
    },
    {
     "cell_type": "code",
     "collapsed": false,
     "input": [
      "%run load_fretbursts.py"
     ],
     "language": "python",
     "metadata": {},
     "outputs": [
      {
       "output_type": "stream",
       "stream": "stdout",
       "text": [
        "C:\\Data\\Antonio\\software\\src\\fretbursts\n",
        " - Optimized (cython) burst search loaded."
       ]
      },
      {
       "output_type": "stream",
       "stream": "stdout",
       "text": [
        "\n",
        " - Optimized (cython) photon counting loaded.\n",
        "\n",
        "FRETBursts revision:\n",
        " a396719 Merge branch 'project_structure'\n"
       ]
      },
      {
       "output_type": "stream",
       "stream": "stdout",
       "text": [
        "\n"
       ]
      }
     ],
     "prompt_number": 2
    },
    {
     "cell_type": "code",
     "collapsed": false,
     "input": [
      "import os\n",
      "\n",
      "%cd $NOTEBOOK_DIR\n",
      "#FRETBURSTS_DIR = r\"C:\\Data\\Antonio\\software\\src\\fretbursts\"\n",
      "#FRETBURSTS_DIR = r\"/Users/anto/src/fretbursts\"\n",
      "DOCS_DIR = FRETBURSTS_DIR + r'/docs/source/'\n",
      "HTML_DIR= os.path.abspath('.') + '/docs_html/'"
     ],
     "language": "python",
     "metadata": {},
     "outputs": [
      {
       "output_type": "stream",
       "stream": "stdout",
       "text": [
        "C:\\Data\\Antonio\\software\\Dropbox\\notebooks\\frebursts_notebooks\\dev\\docs\n"
       ]
      }
     ],
     "prompt_number": 3
    },
    {
     "cell_type": "code",
     "collapsed": false,
     "input": [
      "!sphinx-build -b html \"$DOCS_DIR\" \"$HTML_DIR\""
     ],
     "language": "python",
     "metadata": {},
     "outputs": [
      {
       "output_type": "stream",
       "stream": "stdout",
       "text": [
        "Running Sphinx v1.2.2\n",
        "loading pickled environment... done\n",
        "building [html]: targets for 0 source files that are out of date\n",
        "updating environment: 0 added, 0 changed, 0 removed\n",
        "looking for now-outdated files... none found\n",
        "no targets are out of date.\n"
       ]
      }
     ],
     "prompt_number": 4
    },
    {
     "cell_type": "code",
     "collapsed": false,
     "input": [
      "print 'sphinx-build -b html \"%s\" \"%s\"' % (DOCS_DIR, HTML_DIR)"
     ],
     "language": "python",
     "metadata": {},
     "outputs": [
      {
       "output_type": "stream",
       "stream": "stdout",
       "text": [
        "sphinx-build -b html \"C:\\Data\\Antonio\\software\\src\\fretbursts/docs/source/\" \"C:\\Data\\Antonio\\software\\Dropbox\\notebooks\\frebursts_notebooks\\dev\\docs/docs_html/\"\n"
       ]
      }
     ],
     "prompt_number": 5
    },
    {
     "cell_type": "code",
     "collapsed": false,
     "input": [
      "sphinx-build -b html"
     ],
     "language": "python",
     "metadata": {},
     "outputs": []
    },
    {
     "cell_type": "code",
     "collapsed": false,
     "input": [
      "print HTML_DIR"
     ],
     "language": "python",
     "metadata": {},
     "outputs": [
      {
       "output_type": "stream",
       "stream": "stdout",
       "text": [
        "C:\\Data\\Antonio\\software\\Dropbox\\notebooks\\5samples/docs_html/\n"
       ]
      }
     ],
     "prompt_number": 3
    },
    {
     "cell_type": "code",
     "collapsed": false,
     "input": [
      "!make.bat html"
     ],
     "language": "python",
     "metadata": {},
     "outputs": []
    },
    {
     "cell_type": "code",
     "collapsed": false,
     "input": [],
     "language": "python",
     "metadata": {},
     "outputs": []
    },
    {
     "cell_type": "code",
     "collapsed": false,
     "input": [
      "cd $FRETBURSTS_DIR"
     ],
     "language": "python",
     "metadata": {},
     "outputs": [
      {
       "output_type": "stream",
       "stream": "stdout",
       "text": [
        "C:\\Data\\Antonio\\software\\src\\fretbursts\n"
       ]
      }
     ],
     "prompt_number": 7
    },
    {
     "cell_type": "code",
     "collapsed": false,
     "input": [],
     "language": "python",
     "metadata": {},
     "outputs": [],
     "prompt_number": 19
    },
    {
     "cell_type": "code",
     "collapsed": false,
     "input": [],
     "language": "python",
     "metadata": {},
     "outputs": []
    }
   ],
   "metadata": {}
  }
 ]
}