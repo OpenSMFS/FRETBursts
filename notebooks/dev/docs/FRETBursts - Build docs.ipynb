{
 "metadata": {
  "name": "",
  "signature": "sha256:27720d848c9a9b74f014352e202b3cc1bcdddbfde6e85d15ca598b36f95e26ef"
 },
 "nbformat": 3,
 "nbformat_minor": 0,
 "worksheets": [
  {
   "cells": [
    {
     "cell_type": "markdown",
     "metadata": {},
     "source": [
      "#\u00a0Build the Sphinx documention"
     ]
    },
    {
     "cell_type": "markdown",
     "metadata": {},
     "source": [
      "With this notebook you can builld a local copy of FRETBursts documentation.\n",
      "\n",
      "Make sure you have installed sphinx 1.2.2  and the napoleon extension (`sphinxcontrib-napoleon`)."
     ]
    },
    {
     "cell_type": "code",
     "collapsed": false,
     "input": [
      "#!pip install sphinxcontrib-napoleon"
     ],
     "language": "python",
     "metadata": {},
     "outputs": []
    },
    {
     "cell_type": "markdown",
     "metadata": {},
     "source": [
      "Also, you need the theme `shinx_rtd_theme`. Download it from https://github.com/snide/sphinx_rtd_theme and put the folder `sphinx_rtd_theme` inside  `fretbursts/docs/source/_themes/`."
     ]
    },
    {
     "cell_type": "code",
     "collapsed": false,
     "input": [
      "import os\n",
      "\n",
      "DOCS_DIR = r'../../../docs/source/'\n",
      "HTML_DIR= os.path.abspath('.') + '/docs_html/'"
     ],
     "language": "python",
     "metadata": {},
     "outputs": []
    },
    {
     "cell_type": "code",
     "collapsed": false,
     "input": [
      "!sphinx-build -b html \"$DOCS_DIR\" \"$HTML_DIR\""
     ],
     "language": "python",
     "metadata": {},
     "outputs": []
    },
    {
     "cell_type": "markdown",
     "metadata": {},
     "source": [
      "Read the generated documentation [here](/notebooks/dev/docs/docs_html/index.html)."
     ]
    },
    {
     "cell_type": "code",
     "collapsed": false,
     "input": [],
     "language": "python",
     "metadata": {},
     "outputs": []
    },
    {
     "cell_type": "code",
     "collapsed": false,
     "input": [],
     "language": "python",
     "metadata": {},
     "outputs": []
    },
    {
     "cell_type": "markdown",
     "metadata": {},
     "source": [
      "# Stash area"
     ]
    },
    {
     "cell_type": "code",
     "collapsed": false,
     "input": [
      "print 'sphinx-build -b html \"%s\" \"%s\"' % (DOCS_DIR, HTML_DIR)"
     ],
     "language": "python",
     "metadata": {},
     "outputs": []
    },
    {
     "cell_type": "code",
     "collapsed": false,
     "input": [
      "print HTML_DIR"
     ],
     "language": "python",
     "metadata": {},
     "outputs": []
    },
    {
     "cell_type": "code",
     "collapsed": false,
     "input": [
      "#!make.bat html"
     ],
     "language": "python",
     "metadata": {},
     "outputs": []
    },
    {
     "cell_type": "code",
     "collapsed": false,
     "input": [],
     "language": "python",
     "metadata": {},
     "outputs": []
    }
   ],
   "metadata": {}
  }
 ]
}