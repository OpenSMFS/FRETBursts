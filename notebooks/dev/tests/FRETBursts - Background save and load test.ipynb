{
 "metadata": {
  "name": "",
  "signature": "sha256:381b7e3e1367d84ccf82e8f9660babb371bc801a61211fa48888a634910d015c"
 },
 "nbformat": 3,
 "nbformat_minor": 0,
 "worksheets": [
  {
   "cells": [
    {
     "cell_type": "markdown",
     "metadata": {},
     "source": [
      "#Test the background caching mechanism"
     ]
    },
    {
     "cell_type": "markdown",
     "metadata": {},
     "source": [
      "## Load software and data"
     ]
    },
    {
     "cell_type": "code",
     "collapsed": false,
     "input": [
      "%run ../../load_fretbursts.py"
     ],
     "language": "python",
     "metadata": {},
     "outputs": []
    },
    {
     "cell_type": "markdown",
     "metadata": {},
     "source": [
      "Load and process the data:"
     ]
    },
    {
     "cell_type": "code",
     "collapsed": false,
     "input": [
      "data_dir = 'C:\\Data\\Antonio\\data/'"
     ],
     "language": "python",
     "metadata": {},
     "outputs": []
    },
    {
     "cell_type": "code",
     "collapsed": false,
     "input": [
      "fname = data_dir + u'/manta/2014-04-11/17d_200p_2_600mW_reall_steer_20.dat'"
     ],
     "language": "python",
     "metadata": {},
     "outputs": []
    },
    {
     "cell_type": "code",
     "collapsed": false,
     "input": [
      "d1 = loader.multispot48(fname)\n",
      "d2 = loader.multispot48(fname)"
     ],
     "language": "python",
     "metadata": {},
     "outputs": []
    },
    {
     "cell_type": "code",
     "collapsed": false,
     "input": [
      "def compare_data_bg(d1, d2):\n",
      "    mch_arrays = ['bg', 'bg_dd', 'bg_ad', 'bg_aa', 'Lim', 'Ph_p']\n",
      "    scalars = ['nperiods', 'bg_time_s', 'bg_auto_th', 'bg_fun_name']\n",
      "    for name in mch_arrays:\n",
      "        for ich, arr in enumerate(d1[name]):\n",
      "            assert np.allclose(arr, d2[name][ich])\n",
      "    for name in scalars:\n",
      "        assert d1[name] == d2[name]"
     ],
     "language": "python",
     "metadata": {},
     "outputs": []
    },
    {
     "cell_type": "code",
     "collapsed": false,
     "input": [
      "#reload(bg_cache)"
     ],
     "language": "python",
     "metadata": {},
     "outputs": []
    },
    {
     "cell_type": "markdown",
     "metadata": {},
     "source": [
      "#Manual threshold"
     ]
    },
    {
     "cell_type": "code",
     "collapsed": false,
     "input": [
      "bg_cache.remove_cache(d2)"
     ],
     "language": "python",
     "metadata": {},
     "outputs": []
    },
    {
     "cell_type": "code",
     "collapsed": false,
     "input": [
      "d1.calc_bg(bg.exp_fit, time_s=20, tail_min_us=300)\n",
      "d2.calc_bg_cache(bg.exp_fit, time_s=20, tail_min_us=300)"
     ],
     "language": "python",
     "metadata": {},
     "outputs": []
    },
    {
     "cell_type": "code",
     "collapsed": false,
     "input": [
      "compare_data_bg(d1, d2)"
     ],
     "language": "python",
     "metadata": {},
     "outputs": []
    },
    {
     "cell_type": "code",
     "collapsed": false,
     "input": [
      "d2.calc_bg_cache(bg.exp_fit, time_s=20, tail_min_us=300)"
     ],
     "language": "python",
     "metadata": {},
     "outputs": []
    },
    {
     "cell_type": "code",
     "collapsed": false,
     "input": [
      "compare_data_bg(d1, d2)"
     ],
     "language": "python",
     "metadata": {},
     "outputs": []
    },
    {
     "cell_type": "markdown",
     "metadata": {},
     "source": [
      "#Auto threshold"
     ]
    },
    {
     "cell_type": "code",
     "collapsed": false,
     "input": [
      "d1.calc_bg(bg.exp_fit, time_s=20, tail_min_us='auto', F_bg=1.7)\n",
      "d2.calc_bg_cache(bg.exp_fit, time_s=20, tail_min_us='auto', F_bg=1.7)"
     ],
     "language": "python",
     "metadata": {},
     "outputs": []
    },
    {
     "cell_type": "code",
     "collapsed": false,
     "input": [
      "compare_data_bg(d1, d2)"
     ],
     "language": "python",
     "metadata": {},
     "outputs": []
    },
    {
     "cell_type": "code",
     "collapsed": false,
     "input": [
      "d2.calc_bg_cache(bg.exp_fit, time_s=20, tail_min_us='auto', F_bg=1.7)"
     ],
     "language": "python",
     "metadata": {},
     "outputs": []
    },
    {
     "cell_type": "code",
     "collapsed": false,
     "input": [
      "compare_data_bg(d1, d2)"
     ],
     "language": "python",
     "metadata": {},
     "outputs": []
    },
    {
     "cell_type": "markdown",
     "metadata": {},
     "source": [
      "#Direct test of bg_cache function"
     ]
    },
    {
     "cell_type": "code",
     "collapsed": false,
     "input": [
      "bg_cache.remove_cache(d2)"
     ],
     "language": "python",
     "metadata": {},
     "outputs": []
    },
    {
     "cell_type": "code",
     "collapsed": false,
     "input": [
      "d1.calc_bg(bg.exp_fit, time_s=20, tail_min_us=300)\n",
      "bg_cache.calc_bg_cache(d2, fun=bg.exp_fit, time_s=20, tail_min_us=300)"
     ],
     "language": "python",
     "metadata": {},
     "outputs": []
    },
    {
     "cell_type": "code",
     "collapsed": false,
     "input": [
      "compare_data_bg(d1, d2)"
     ],
     "language": "python",
     "metadata": {},
     "outputs": []
    },
    {
     "cell_type": "code",
     "collapsed": false,
     "input": [
      "bg_cache.calc_bg_cache(d2, fun=bg.exp_fit, time_s=20, tail_min_us=300)"
     ],
     "language": "python",
     "metadata": {},
     "outputs": []
    },
    {
     "cell_type": "code",
     "collapsed": false,
     "input": [
      "compare_data_bg(d1, d2)"
     ],
     "language": "python",
     "metadata": {},
     "outputs": []
    },
    {
     "cell_type": "code",
     "collapsed": false,
     "input": [
      "d1.calc_bg(bg.exp_fit, time_s=20, tail_min_us='auto', F_bg=1.7)\n",
      "bg_cache.calc_bg_cache(d2, fun=bg.exp_fit, time_s=20, tail_min_us='auto', F_bg=1.7)"
     ],
     "language": "python",
     "metadata": {},
     "outputs": []
    },
    {
     "cell_type": "code",
     "collapsed": false,
     "input": [
      "compare_data_bg(d1, d2)"
     ],
     "language": "python",
     "metadata": {},
     "outputs": []
    },
    {
     "cell_type": "code",
     "collapsed": false,
     "input": [
      "bg_cache.calc_bg_cache(d2, fun=bg.exp_fit, time_s=20, tail_min_us='auto', F_bg=1.7)"
     ],
     "language": "python",
     "metadata": {},
     "outputs": []
    },
    {
     "cell_type": "code",
     "collapsed": false,
     "input": [
      "compare_data_bg(d1, d2)"
     ],
     "language": "python",
     "metadata": {},
     "outputs": []
    },
    {
     "cell_type": "code",
     "collapsed": false,
     "input": [
      "print 'OK'"
     ],
     "language": "python",
     "metadata": {},
     "outputs": []
    },
    {
     "cell_type": "code",
     "collapsed": false,
     "input": [],
     "language": "python",
     "metadata": {},
     "outputs": []
    }
   ],
   "metadata": {}
  }
 ]
}