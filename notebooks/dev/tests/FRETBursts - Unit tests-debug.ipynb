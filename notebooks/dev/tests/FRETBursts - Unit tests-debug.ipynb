{
 "metadata": {
  "name": "",
  "signature": "sha256:5f01ee68457125fe1addc22f0ddd755be9dd726c2fc8c44003b2f4c86869e32e"
 },
 "nbformat": 3,
 "nbformat_minor": 0,
 "worksheets": [
  {
   "cells": [
    {
     "cell_type": "markdown",
     "metadata": {},
     "source": [
      "#FRETBursts unit tests - Debug test errors\n",
      "\n",
      "> *This notebook is for **debugging test errors** in FRETBursts unit tests. To simply run the unti tests *\n",
      "> *use [FRETBursts - Unit tests](FRETBursts - Unit tests.ipynb).*"
     ]
    },
    {
     "cell_type": "code",
     "collapsed": false,
     "input": [
      "%run load_fretbursts.py --nogui"
     ],
     "language": "python",
     "metadata": {},
     "outputs": []
    },
    {
     "cell_type": "code",
     "collapsed": false,
     "input": [
      "cd $FRETBURSTS_DIR"
     ],
     "language": "python",
     "metadata": {},
     "outputs": []
    },
    {
     "cell_type": "code",
     "collapsed": false,
     "input": [
      "import fretbursts.tests.test_burstlib as tb"
     ],
     "language": "python",
     "metadata": {},
     "outputs": []
    },
    {
     "cell_type": "code",
     "collapsed": false,
     "input": [
      "d = tb.load_dataset_1ch()"
     ],
     "language": "python",
     "metadata": {},
     "outputs": []
    },
    {
     "cell_type": "code",
     "collapsed": false,
     "input": [
      "#d = tb.load_dataset_8ch()"
     ],
     "language": "python",
     "metadata": {},
     "outputs": []
    },
    {
     "cell_type": "code",
     "collapsed": false,
     "input": [
      "tb.test_burst_ph_data_functions(d)"
     ],
     "language": "python",
     "metadata": {},
     "outputs": []
    },
    {
     "cell_type": "code",
     "collapsed": false,
     "input": [],
     "language": "python",
     "metadata": {},
     "outputs": []
    }
   ],
   "metadata": {}
  }
 ]
}