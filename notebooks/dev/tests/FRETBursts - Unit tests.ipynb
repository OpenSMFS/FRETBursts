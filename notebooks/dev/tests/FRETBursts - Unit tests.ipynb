{
 "metadata": {
  "name": "",
  "signature": "sha256:6da5ff756e0b472d5f994d7a9579bc7095e885bc4d3d0895c420dcace6f9e0d4"
 },
 "nbformat": 3,
 "nbformat_minor": 0,
 "worksheets": [
  {
   "cells": [
    {
     "cell_type": "markdown",
     "metadata": {},
     "source": [
      "#FRETBursts unit tests\n",
      "\n",
      "This notebook runs the all FRETBursts unit tests with **pytest**."
     ]
    },
    {
     "cell_type": "code",
     "collapsed": false,
     "input": [
      "%run load_fretbursts.py"
     ],
     "language": "python",
     "metadata": {},
     "outputs": [
      {
       "output_type": "stream",
       "stream": "stdout",
       "text": [
        "C:\\Data\\Antonio\\software\\src\\fretbursts\n",
        " - Optimized (cython) burst search loaded."
       ]
      },
      {
       "output_type": "stream",
       "stream": "stdout",
       "text": [
        "\n",
        " - Optimized (cython) photon counting loaded.\n",
        "\n",
        "FRETBursts revision:\n",
        " ef3fc59 Improvements to max_rate computation\n"
       ]
      },
      {
       "output_type": "stream",
       "stream": "stdout",
       "text": [
        "\n"
       ]
      }
     ],
     "prompt_number": 1
    },
    {
     "cell_type": "code",
     "collapsed": false,
     "input": [
      "%run fretbursts/fit/test_exp_fitting.py"
     ],
     "language": "python",
     "metadata": {},
     "outputs": [
      {
       "output_type": "stream",
       "stream": "stdout",
       "text": [
        "============================= test session starts ============================="
       ]
      },
      {
       "output_type": "stream",
       "stream": "stdout",
       "text": [
        "\n"
       ]
      },
      {
       "output_type": "stream",
       "stream": "stdout",
       "text": [
        "platform win32 -- Python 2.7.5 -- py-1.4.20 -- pytest-2.5.2 -- C:\\Users\\temp\\Anaconda\\python.exe"
       ]
      },
      {
       "output_type": "stream",
       "stream": "stdout",
       "text": [
        "\n"
       ]
      },
      {
       "output_type": "stream",
       "stream": "stdout",
       "text": [
        "collecting ... "
       ]
      },
      {
       "output_type": "stream",
       "stream": "stdout",
       "text": [
        "collected 4 items"
       ]
      },
      {
       "output_type": "stream",
       "stream": "stdout",
       "text": [
        "\n"
       ]
      },
      {
       "output_type": "stream",
       "stream": "stdout",
       "text": [
        "\n"
       ]
      },
      {
       "output_type": "stream",
       "stream": "stdout",
       "text": [
        "fretbursts\\fit\\test_exp_fitting.py:25: test_expon_fit "
       ]
      },
      {
       "output_type": "stream",
       "stream": "stdout",
       "text": [
        "\n",
        " [expon_fit] Fit (tau): 2.93  - Relative error: 2.19 %\n",
        "PASSED"
       ]
      },
      {
       "output_type": "stream",
       "stream": "stdout",
       "text": [
        "\n"
       ]
      },
      {
       "output_type": "stream",
       "stream": "stdout",
       "text": [
        "fretbursts\\fit\\test_exp_fitting.py:33: test_expon_fit_cdf "
       ]
      },
      {
       "output_type": "stream",
       "stream": "stdout",
       "text": [
        "\n",
        " [expon_fit_cdf] Fit (tau): 2.90  - Relative error: 3.37 %\n",
        "PASSED"
       ]
      },
      {
       "output_type": "stream",
       "stream": "stdout",
       "text": [
        "\n"
       ]
      },
      {
       "output_type": "stream",
       "stream": "stdout",
       "text": [
        "fretbursts\\fit\\test_exp_fitting.py:41: test_expon_fit_hist "
       ]
      },
      {
       "output_type": "stream",
       "stream": "stdout",
       "text": [
        "\n",
        " [expon_fit_hist] Fit (tau): 2.93  - Relative error: 2.18 %\n",
        "PASSED"
       ]
      },
      {
       "output_type": "stream",
       "stream": "stdout",
       "text": [
        "\n"
       ]
      },
      {
       "output_type": "stream",
       "stream": "stdout",
       "text": [
        "fretbursts\\fit\\test_exp_fitting.py:51: test_expon_fit_histw "
       ]
      },
      {
       "output_type": "stream",
       "stream": "stdout",
       "text": [
        "\n",
        " [expon_fit_hist] Fit (tau): 2.90  - Relative error: 3.27 %\n",
        "PASSED"
       ]
      },
      {
       "output_type": "stream",
       "stream": "stdout",
       "text": [
        "\n"
       ]
      },
      {
       "output_type": "stream",
       "stream": "stdout",
       "text": [
        "\n"
       ]
      },
      {
       "output_type": "stream",
       "stream": "stdout",
       "text": [
        "========================== 4 passed in 0.07 seconds ==========================="
       ]
      },
      {
       "output_type": "stream",
       "stream": "stdout",
       "text": [
        "\n"
       ]
      }
     ],
     "prompt_number": 2
    },
    {
     "cell_type": "code",
     "collapsed": false,
     "input": [],
     "language": "python",
     "metadata": {},
     "outputs": [],
     "prompt_number": 2
    },
    {
     "cell_type": "code",
     "collapsed": false,
     "input": [
      "%run fretbursts/tests/test_burstlib.py"
     ],
     "language": "python",
     "metadata": {},
     "outputs": [
      {
       "output_type": "stream",
       "stream": "stdout",
       "text": [
        "============================= test session starts ============================="
       ]
      },
      {
       "output_type": "stream",
       "stream": "stdout",
       "text": [
        "\n"
       ]
      },
      {
       "output_type": "stream",
       "stream": "stdout",
       "text": [
        "platform win32 -- Python 2.7.5 -- py-1.4.20 -- pytest-2.5.2 -- C:\\Users\\temp\\Anaconda\\python.exe"
       ]
      },
      {
       "output_type": "stream",
       "stream": "stdout",
       "text": [
        "\n"
       ]
      },
      {
       "output_type": "stream",
       "stream": "stdout",
       "text": [
        "collecting ... "
       ]
      },
      {
       "output_type": "stream",
       "stream": "stdout",
       "text": [
        "collected 23 items"
       ]
      },
      {
       "output_type": "stream",
       "stream": "stdout",
       "text": [
        "\n"
       ]
      },
      {
       "output_type": "stream",
       "stream": "stdout",
       "text": [
        "\n"
       ]
      },
      {
       "output_type": "stream",
       "stream": "stdout",
       "text": [
        "fretbursts\\tests\\test_burstlib.py:66: test_ph_selection[data0] "
       ]
      },
      {
       "output_type": "stream",
       "stream": "stdout",
       "text": [
        "PASSED"
       ]
      },
      {
       "output_type": "stream",
       "stream": "stdout",
       "text": [
        "\n"
       ]
      },
      {
       "output_type": "stream",
       "stream": "stdout",
       "text": [
        "fretbursts\\tests\\test_burstlib.py:89: test_b_functions[data0] "
       ]
      },
      {
       "output_type": "stream",
       "stream": "stdout",
       "text": [
        "PASSED"
       ]
      },
      {
       "output_type": "stream",
       "stream": "stdout",
       "text": [
        "\n"
       ]
      },
      {
       "output_type": "stream",
       "stream": "stdout",
       "text": [
        "fretbursts\\tests\\test_burstlib.py:109: test_b_end_b_iend[data0] "
       ]
      },
      {
       "output_type": "stream",
       "stream": "stdout",
       "text": [
        "PASSED"
       ]
      },
      {
       "output_type": "stream",
       "stream": "stdout",
       "text": [
        "\n"
       ]
      },
      {
       "output_type": "stream",
       "stream": "stdout",
       "text": [
        "fretbursts\\tests\\test_burstlib.py:115: test_monotonic_burst_start[data0] "
       ]
      },
      {
       "output_type": "stream",
       "stream": "stdout",
       "text": [
        "PASSED"
       ]
      },
      {
       "output_type": "stream",
       "stream": "stdout",
       "text": [
        "\n"
       ]
      },
      {
       "output_type": "stream",
       "stream": "stdout",
       "text": [
        "fretbursts\\tests\\test_burstlib.py:121: test_monotonic_burst_end[data0] "
       ]
      },
      {
       "output_type": "stream",
       "stream": "stdout",
       "text": [
        "PASSED"
       ]
      },
      {
       "output_type": "stream",
       "stream": "stdout",
       "text": [
        "\n"
       ]
      },
      {
       "output_type": "stream",
       "stream": "stdout",
       "text": [
        "fretbursts\\tests\\test_burstlib.py:127: test_burst_start_end_size[data0] "
       ]
      },
      {
       "output_type": "stream",
       "stream": "stdout",
       "text": [
        "PASSED"
       ]
      },
      {
       "output_type": "stream",
       "stream": "stdout",
       "text": [
        "\n"
       ]
      },
      {
       "output_type": "stream",
       "stream": "stdout",
       "text": [
        "fretbursts\\tests\\test_burstlib.py:136: test_burst_fuse_0ms[data0] "
       ]
      },
      {
       "output_type": "stream",
       "stream": "stdout",
       "text": [
        "PASSED"
       ]
      },
      {
       "output_type": "stream",
       "stream": "stdout",
       "text": [
        "\n"
       ]
      },
      {
       "output_type": "stream",
       "stream": "stdout",
       "text": [
        "fretbursts\\tests\\test_burstlib.py:147: test_get_burst_size[data0] "
       ]
      },
      {
       "output_type": "stream",
       "stream": "stdout",
       "text": [
        "PASSED"
       ]
      },
      {
       "output_type": "stream",
       "stream": "stdout",
       "text": [
        "\n"
       ]
      },
      {
       "output_type": "stream",
       "stream": "stdout",
       "text": [
        "fretbursts\\tests\\test_burstlib.py:156: test_expand[data0] "
       ]
      },
      {
       "output_type": "stream",
       "stream": "stdout",
       "text": [
        "PASSED"
       ]
      },
      {
       "output_type": "stream",
       "stream": "stdout",
       "text": [
        "\n"
       ]
      },
      {
       "output_type": "stream",
       "stream": "stdout",
       "text": [
        "fretbursts\\tests\\test_burstlib.py:171: test_burst_corrections[data0] "
       ]
      },
      {
       "output_type": "stream",
       "stream": "stdout",
       "text": [
        "PASSED"
       ]
      },
      {
       "output_type": "stream",
       "stream": "stdout",
       "text": [
        "\n"
       ]
      },
      {
       "output_type": "stream",
       "stream": "stdout",
       "text": [
        "fretbursts\\tests\\test_burstlib.py:194: test_burst_size_da[data0] "
       ]
      },
      {
       "output_type": "stream",
       "stream": "stdout",
       "text": [
        "PASSED"
       ]
      },
      {
       "output_type": "stream",
       "stream": "stdout",
       "text": [
        "\n"
       ]
      },
      {
       "output_type": "stream",
       "stream": "stdout",
       "text": [
        "fretbursts\\tests\\test_burstlib.py:66: test_ph_selection[data1] "
       ]
      },
      {
       "output_type": "stream",
       "stream": "stdout",
       "text": [
        "PASSED"
       ]
      },
      {
       "output_type": "stream",
       "stream": "stdout",
       "text": [
        "\n"
       ]
      },
      {
       "output_type": "stream",
       "stream": "stdout",
       "text": [
        "fretbursts\\tests\\test_burstlib.py:89: test_b_functions[data1] "
       ]
      },
      {
       "output_type": "stream",
       "stream": "stdout",
       "text": [
        "PASSED"
       ]
      },
      {
       "output_type": "stream",
       "stream": "stdout",
       "text": [
        "\n"
       ]
      },
      {
       "output_type": "stream",
       "stream": "stdout",
       "text": [
        "fretbursts\\tests\\test_burstlib.py:109: test_b_end_b_iend[data1] "
       ]
      },
      {
       "output_type": "stream",
       "stream": "stdout",
       "text": [
        "PASSED"
       ]
      },
      {
       "output_type": "stream",
       "stream": "stdout",
       "text": [
        "\n"
       ]
      },
      {
       "output_type": "stream",
       "stream": "stdout",
       "text": [
        "fretbursts\\tests\\test_burstlib.py:115: test_monotonic_burst_start[data1] "
       ]
      },
      {
       "output_type": "stream",
       "stream": "stdout",
       "text": [
        "PASSED"
       ]
      },
      {
       "output_type": "stream",
       "stream": "stdout",
       "text": [
        "\n"
       ]
      },
      {
       "output_type": "stream",
       "stream": "stdout",
       "text": [
        "fretbursts\\tests\\test_burstlib.py:121: test_monotonic_burst_end[data1] "
       ]
      },
      {
       "output_type": "stream",
       "stream": "stdout",
       "text": [
        "PASSED"
       ]
      },
      {
       "output_type": "stream",
       "stream": "stdout",
       "text": [
        "\n"
       ]
      },
      {
       "output_type": "stream",
       "stream": "stdout",
       "text": [
        "fretbursts\\tests\\test_burstlib.py:127: test_burst_start_end_size[data1] "
       ]
      },
      {
       "output_type": "stream",
       "stream": "stdout",
       "text": [
        "PASSED"
       ]
      },
      {
       "output_type": "stream",
       "stream": "stdout",
       "text": [
        "\n"
       ]
      },
      {
       "output_type": "stream",
       "stream": "stdout",
       "text": [
        "fretbursts\\tests\\test_burstlib.py:136: test_burst_fuse_0ms[data1] "
       ]
      },
      {
       "output_type": "stream",
       "stream": "stdout",
       "text": [
        "PASSED"
       ]
      },
      {
       "output_type": "stream",
       "stream": "stdout",
       "text": [
        "\n"
       ]
      },
      {
       "output_type": "stream",
       "stream": "stdout",
       "text": [
        "fretbursts\\tests\\test_burstlib.py:147: test_get_burst_size[data1] "
       ]
      },
      {
       "output_type": "stream",
       "stream": "stdout",
       "text": [
        "PASSED"
       ]
      },
      {
       "output_type": "stream",
       "stream": "stdout",
       "text": [
        "\n"
       ]
      },
      {
       "output_type": "stream",
       "stream": "stdout",
       "text": [
        "fretbursts\\tests\\test_burstlib.py:156: test_expand[data1] "
       ]
      },
      {
       "output_type": "stream",
       "stream": "stdout",
       "text": [
        "PASSED"
       ]
      },
      {
       "output_type": "stream",
       "stream": "stdout",
       "text": [
        "\n"
       ]
      },
      {
       "output_type": "stream",
       "stream": "stdout",
       "text": [
        "fretbursts\\tests\\test_burstlib.py:171: test_burst_corrections[data1] "
       ]
      },
      {
       "output_type": "stream",
       "stream": "stdout",
       "text": [
        "PASSED"
       ]
      },
      {
       "output_type": "stream",
       "stream": "stdout",
       "text": [
        "\n"
       ]
      },
      {
       "output_type": "stream",
       "stream": "stdout",
       "text": [
        "fretbursts\\tests\\test_burstlib.py:194: test_burst_size_da[data1] "
       ]
      },
      {
       "output_type": "stream",
       "stream": "stdout",
       "text": [
        "PASSED"
       ]
      },
      {
       "output_type": "stream",
       "stream": "stdout",
       "text": [
        "\n"
       ]
      },
      {
       "output_type": "stream",
       "stream": "stdout",
       "text": [
        "fretbursts\\tests\\test_burstlib.py:210: test_collapse "
       ]
      },
      {
       "output_type": "stream",
       "stream": "stdout",
       "text": [
        "PASSED"
       ]
      },
      {
       "output_type": "stream",
       "stream": "stdout",
       "text": [
        "\n"
       ]
      },
      {
       "output_type": "stream",
       "stream": "stdout",
       "text": [
        "\n"
       ]
      },
      {
       "output_type": "stream",
       "stream": "stdout",
       "text": [
        "========================== 23 passed in 8.28 seconds =========================="
       ]
      },
      {
       "output_type": "stream",
       "stream": "stdout",
       "text": [
        "\n"
       ]
      }
     ],
     "prompt_number": 3
    },
    {
     "cell_type": "code",
     "collapsed": false,
     "input": [],
     "language": "python",
     "metadata": {},
     "outputs": [],
     "prompt_number": 3
    }
   ],
   "metadata": {}
  }
 ]
}