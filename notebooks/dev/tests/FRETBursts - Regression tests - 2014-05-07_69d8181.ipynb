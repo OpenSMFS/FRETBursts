{
 "metadata": {
  "name": "",
  "signature": "sha256:4d471ce2de5001c8dca27a4039a3184dfd7f4221564577f62f25c434dd8f2308"
 },
 "nbformat": 3,
 "nbformat_minor": 0,
 "worksheets": [
  {
   "cells": [
    {
     "cell_type": "code",
     "collapsed": false,
     "input": [
      "# If True save this run as reference for future comparison\n",
      "save_reference = True"
     ],
     "language": "python",
     "metadata": {},
     "outputs": [],
     "prompt_number": 1
    },
    {
     "cell_type": "code",
     "collapsed": false,
     "input": [
      "# Commit to use for test comparison\n",
      "compare_commit = 'ef3fc59' # previous saved test point"
     ],
     "language": "python",
     "metadata": {},
     "outputs": [],
     "prompt_number": 2
    },
    {
     "cell_type": "code",
     "collapsed": false,
     "input": [
      "%run load_fretbursts.py"
     ],
     "language": "python",
     "metadata": {},
     "outputs": [
      {
       "output_type": "stream",
       "stream": "stdout",
       "text": [
        "C:\\Data\\Antonio\\software\\src\\fretbursts\n",
        " - Optimized (cython) burst search loaded."
       ]
      },
      {
       "output_type": "stream",
       "stream": "stdout",
       "text": [
        "\n",
        " - Optimized (cython) photon counting loaded.\n",
        "\n",
        "FRETBursts revision:\n",
        " 69d8181 Update README\n"
       ]
      },
      {
       "output_type": "stream",
       "stream": "stdout",
       "text": [
        "\n",
        "\n",
        "WARNING -> Uncommitted changes:\n",
        "?? notebooks/dev/\n",
        "\n"
       ]
      }
     ],
     "prompt_number": 3
    },
    {
     "cell_type": "code",
     "collapsed": false,
     "input": [
      "%run fretbursts/tests/test_burstlib.py"
     ],
     "language": "python",
     "metadata": {},
     "outputs": [
      {
       "output_type": "stream",
       "stream": "stdout",
       "text": [
        "============================= test session starts ============================="
       ]
      },
      {
       "output_type": "stream",
       "stream": "stdout",
       "text": [
        "\n"
       ]
      },
      {
       "output_type": "stream",
       "stream": "stdout",
       "text": [
        "platform win32 -- Python 2.7.5 -- py-1.4.20 -- pytest-2.5.2 -- C:\\Users\\temp\\Anaconda\\python.exe"
       ]
      },
      {
       "output_type": "stream",
       "stream": "stdout",
       "text": [
        "\n"
       ]
      },
      {
       "output_type": "stream",
       "stream": "stdout",
       "text": [
        "collecting ... "
       ]
      },
      {
       "output_type": "stream",
       "stream": "stdout",
       "text": [
        "collected 23 items"
       ]
      },
      {
       "output_type": "stream",
       "stream": "stdout",
       "text": [
        "\n"
       ]
      },
      {
       "output_type": "stream",
       "stream": "stdout",
       "text": [
        "\n"
       ]
      },
      {
       "output_type": "stream",
       "stream": "stdout",
       "text": [
        "fretbursts\\tests\\test_burstlib.py:66: test_ph_selection[data0] "
       ]
      },
      {
       "output_type": "stream",
       "stream": "stdout",
       "text": [
        "PASSED"
       ]
      },
      {
       "output_type": "stream",
       "stream": "stdout",
       "text": [
        "\n"
       ]
      },
      {
       "output_type": "stream",
       "stream": "stdout",
       "text": [
        "fretbursts\\tests\\test_burstlib.py:89: test_b_functions[data0] "
       ]
      },
      {
       "output_type": "stream",
       "stream": "stdout",
       "text": [
        "PASSED"
       ]
      },
      {
       "output_type": "stream",
       "stream": "stdout",
       "text": [
        "\n"
       ]
      },
      {
       "output_type": "stream",
       "stream": "stdout",
       "text": [
        "fretbursts\\tests\\test_burstlib.py:109: test_b_end_b_iend[data0] "
       ]
      },
      {
       "output_type": "stream",
       "stream": "stdout",
       "text": [
        "PASSED"
       ]
      },
      {
       "output_type": "stream",
       "stream": "stdout",
       "text": [
        "\n"
       ]
      },
      {
       "output_type": "stream",
       "stream": "stdout",
       "text": [
        "fretbursts\\tests\\test_burstlib.py:115: test_monotonic_burst_start[data0] "
       ]
      },
      {
       "output_type": "stream",
       "stream": "stdout",
       "text": [
        "PASSED"
       ]
      },
      {
       "output_type": "stream",
       "stream": "stdout",
       "text": [
        "\n"
       ]
      },
      {
       "output_type": "stream",
       "stream": "stdout",
       "text": [
        "fretbursts\\tests\\test_burstlib.py:121: test_monotonic_burst_end[data0] "
       ]
      },
      {
       "output_type": "stream",
       "stream": "stdout",
       "text": [
        "PASSED"
       ]
      },
      {
       "output_type": "stream",
       "stream": "stdout",
       "text": [
        "\n"
       ]
      },
      {
       "output_type": "stream",
       "stream": "stdout",
       "text": [
        "fretbursts\\tests\\test_burstlib.py:127: test_burst_start_end_size[data0] "
       ]
      },
      {
       "output_type": "stream",
       "stream": "stdout",
       "text": [
        "PASSED"
       ]
      },
      {
       "output_type": "stream",
       "stream": "stdout",
       "text": [
        "\n"
       ]
      },
      {
       "output_type": "stream",
       "stream": "stdout",
       "text": [
        "fretbursts\\tests\\test_burstlib.py:136: test_burst_fuse_0ms[data0] "
       ]
      },
      {
       "output_type": "stream",
       "stream": "stdout",
       "text": [
        "PASSED"
       ]
      },
      {
       "output_type": "stream",
       "stream": "stdout",
       "text": [
        "\n"
       ]
      },
      {
       "output_type": "stream",
       "stream": "stdout",
       "text": [
        "fretbursts\\tests\\test_burstlib.py:147: test_get_burst_size[data0] "
       ]
      },
      {
       "output_type": "stream",
       "stream": "stdout",
       "text": [
        "PASSED"
       ]
      },
      {
       "output_type": "stream",
       "stream": "stdout",
       "text": [
        "\n"
       ]
      },
      {
       "output_type": "stream",
       "stream": "stdout",
       "text": [
        "fretbursts\\tests\\test_burstlib.py:156: test_expand[data0] "
       ]
      },
      {
       "output_type": "stream",
       "stream": "stdout",
       "text": [
        "PASSED"
       ]
      },
      {
       "output_type": "stream",
       "stream": "stdout",
       "text": [
        "\n"
       ]
      },
      {
       "output_type": "stream",
       "stream": "stdout",
       "text": [
        "fretbursts\\tests\\test_burstlib.py:171: test_burst_corrections[data0] "
       ]
      },
      {
       "output_type": "stream",
       "stream": "stdout",
       "text": [
        "PASSED"
       ]
      },
      {
       "output_type": "stream",
       "stream": "stdout",
       "text": [
        "\n"
       ]
      },
      {
       "output_type": "stream",
       "stream": "stdout",
       "text": [
        "fretbursts\\tests\\test_burstlib.py:194: test_burst_size_da[data0] "
       ]
      },
      {
       "output_type": "stream",
       "stream": "stdout",
       "text": [
        "PASSED"
       ]
      },
      {
       "output_type": "stream",
       "stream": "stdout",
       "text": [
        "\n"
       ]
      },
      {
       "output_type": "stream",
       "stream": "stdout",
       "text": [
        "fretbursts\\tests\\test_burstlib.py:66: test_ph_selection[data1] "
       ]
      },
      {
       "output_type": "stream",
       "stream": "stdout",
       "text": [
        "PASSED"
       ]
      },
      {
       "output_type": "stream",
       "stream": "stdout",
       "text": [
        "\n"
       ]
      },
      {
       "output_type": "stream",
       "stream": "stdout",
       "text": [
        "fretbursts\\tests\\test_burstlib.py:89: test_b_functions[data1] "
       ]
      },
      {
       "output_type": "stream",
       "stream": "stdout",
       "text": [
        "PASSED"
       ]
      },
      {
       "output_type": "stream",
       "stream": "stdout",
       "text": [
        "\n"
       ]
      },
      {
       "output_type": "stream",
       "stream": "stdout",
       "text": [
        "fretbursts\\tests\\test_burstlib.py:109: test_b_end_b_iend[data1] "
       ]
      },
      {
       "output_type": "stream",
       "stream": "stdout",
       "text": [
        "PASSED"
       ]
      },
      {
       "output_type": "stream",
       "stream": "stdout",
       "text": [
        "\n"
       ]
      },
      {
       "output_type": "stream",
       "stream": "stdout",
       "text": [
        "fretbursts\\tests\\test_burstlib.py:115: test_monotonic_burst_start[data1] "
       ]
      },
      {
       "output_type": "stream",
       "stream": "stdout",
       "text": [
        "PASSED"
       ]
      },
      {
       "output_type": "stream",
       "stream": "stdout",
       "text": [
        "\n"
       ]
      },
      {
       "output_type": "stream",
       "stream": "stdout",
       "text": [
        "fretbursts\\tests\\test_burstlib.py:121: test_monotonic_burst_end[data1] "
       ]
      },
      {
       "output_type": "stream",
       "stream": "stdout",
       "text": [
        "PASSED"
       ]
      },
      {
       "output_type": "stream",
       "stream": "stdout",
       "text": [
        "\n"
       ]
      },
      {
       "output_type": "stream",
       "stream": "stdout",
       "text": [
        "fretbursts\\tests\\test_burstlib.py:127: test_burst_start_end_size[data1] "
       ]
      },
      {
       "output_type": "stream",
       "stream": "stdout",
       "text": [
        "PASSED"
       ]
      },
      {
       "output_type": "stream",
       "stream": "stdout",
       "text": [
        "\n"
       ]
      },
      {
       "output_type": "stream",
       "stream": "stdout",
       "text": [
        "fretbursts\\tests\\test_burstlib.py:136: test_burst_fuse_0ms[data1] "
       ]
      },
      {
       "output_type": "stream",
       "stream": "stdout",
       "text": [
        "PASSED"
       ]
      },
      {
       "output_type": "stream",
       "stream": "stdout",
       "text": [
        "\n"
       ]
      },
      {
       "output_type": "stream",
       "stream": "stdout",
       "text": [
        "fretbursts\\tests\\test_burstlib.py:147: test_get_burst_size[data1] "
       ]
      },
      {
       "output_type": "stream",
       "stream": "stdout",
       "text": [
        "PASSED"
       ]
      },
      {
       "output_type": "stream",
       "stream": "stdout",
       "text": [
        "\n"
       ]
      },
      {
       "output_type": "stream",
       "stream": "stdout",
       "text": [
        "fretbursts\\tests\\test_burstlib.py:156: test_expand[data1] "
       ]
      },
      {
       "output_type": "stream",
       "stream": "stdout",
       "text": [
        "PASSED"
       ]
      },
      {
       "output_type": "stream",
       "stream": "stdout",
       "text": [
        "\n"
       ]
      },
      {
       "output_type": "stream",
       "stream": "stdout",
       "text": [
        "fretbursts\\tests\\test_burstlib.py:171: test_burst_corrections[data1] "
       ]
      },
      {
       "output_type": "stream",
       "stream": "stdout",
       "text": [
        "PASSED"
       ]
      },
      {
       "output_type": "stream",
       "stream": "stdout",
       "text": [
        "\n"
       ]
      },
      {
       "output_type": "stream",
       "stream": "stdout",
       "text": [
        "fretbursts\\tests\\test_burstlib.py:194: test_burst_size_da[data1] "
       ]
      },
      {
       "output_type": "stream",
       "stream": "stdout",
       "text": [
        "PASSED"
       ]
      },
      {
       "output_type": "stream",
       "stream": "stdout",
       "text": [
        "\n"
       ]
      },
      {
       "output_type": "stream",
       "stream": "stdout",
       "text": [
        "fretbursts\\tests\\test_burstlib.py:210: test_collapse "
       ]
      },
      {
       "output_type": "stream",
       "stream": "stdout",
       "text": [
        "PASSED"
       ]
      },
      {
       "output_type": "stream",
       "stream": "stdout",
       "text": [
        "\n"
       ]
      },
      {
       "output_type": "stream",
       "stream": "stdout",
       "text": [
        "\n"
       ]
      },
      {
       "output_type": "stream",
       "stream": "stdout",
       "text": [
        "========================== 23 passed in 7.77 seconds =========================="
       ]
      },
      {
       "output_type": "stream",
       "stream": "stdout",
       "text": [
        "\n"
       ]
      }
     ],
     "prompt_number": 4
    },
    {
     "cell_type": "code",
     "collapsed": false,
     "input": [
      "%run fretbursts/fit/test_exp_fitting.py"
     ],
     "language": "python",
     "metadata": {},
     "outputs": [
      {
       "output_type": "stream",
       "stream": "stdout",
       "text": [
        "============================= test session starts ============================="
       ]
      },
      {
       "output_type": "stream",
       "stream": "stdout",
       "text": [
        "\n"
       ]
      },
      {
       "output_type": "stream",
       "stream": "stdout",
       "text": [
        "platform win32 -- Python 2.7.5 -- py-1.4.20 -- pytest-2.5.2 -- C:\\Users\\temp\\Anaconda\\python.exe"
       ]
      },
      {
       "output_type": "stream",
       "stream": "stdout",
       "text": [
        "\n"
       ]
      },
      {
       "output_type": "stream",
       "stream": "stdout",
       "text": [
        "collecting ... "
       ]
      },
      {
       "output_type": "stream",
       "stream": "stdout",
       "text": [
        "collected 4 items"
       ]
      },
      {
       "output_type": "stream",
       "stream": "stdout",
       "text": [
        "\n"
       ]
      },
      {
       "output_type": "stream",
       "stream": "stdout",
       "text": [
        "\n"
       ]
      },
      {
       "output_type": "stream",
       "stream": "stdout",
       "text": [
        "fretbursts\\fit\\test_exp_fitting.py:25: test_expon_fit "
       ]
      },
      {
       "output_type": "stream",
       "stream": "stdout",
       "text": [
        "\n",
        " [expon_fit] Fit (tau): 2.93  - Relative error: 2.19 %\n",
        "PASSED"
       ]
      },
      {
       "output_type": "stream",
       "stream": "stdout",
       "text": [
        "\n"
       ]
      },
      {
       "output_type": "stream",
       "stream": "stdout",
       "text": [
        "fretbursts\\fit\\test_exp_fitting.py:33: test_expon_fit_cdf "
       ]
      },
      {
       "output_type": "stream",
       "stream": "stdout",
       "text": [
        "\n",
        " [expon_fit_cdf] Fit (tau): 2.90  - Relative error: 3.37 %\n",
        "PASSED"
       ]
      },
      {
       "output_type": "stream",
       "stream": "stdout",
       "text": [
        "\n"
       ]
      },
      {
       "output_type": "stream",
       "stream": "stdout",
       "text": [
        "fretbursts\\fit\\test_exp_fitting.py:41: test_expon_fit_hist "
       ]
      },
      {
       "output_type": "stream",
       "stream": "stdout",
       "text": [
        "\n",
        " [expon_fit_hist] Fit (tau): 2.93  - Relative error: 2.18 %\n",
        "PASSED"
       ]
      },
      {
       "output_type": "stream",
       "stream": "stdout",
       "text": [
        "\n"
       ]
      },
      {
       "output_type": "stream",
       "stream": "stdout",
       "text": [
        "fretbursts\\fit\\test_exp_fitting.py:51: test_expon_fit_histw "
       ]
      },
      {
       "output_type": "stream",
       "stream": "stdout",
       "text": [
        "\n",
        " [expon_fit_hist] Fit (tau): 2.90  - Relative error: 3.27 %\n",
        "PASSED"
       ]
      },
      {
       "output_type": "stream",
       "stream": "stdout",
       "text": [
        "\n"
       ]
      },
      {
       "output_type": "stream",
       "stream": "stdout",
       "text": [
        "\n"
       ]
      },
      {
       "output_type": "stream",
       "stream": "stdout",
       "text": [
        "========================== 4 passed in 0.04 seconds ==========================="
       ]
      },
      {
       "output_type": "stream",
       "stream": "stdout",
       "text": [
        "\n"
       ]
      }
     ],
     "prompt_number": 5
    },
    {
     "cell_type": "code",
     "collapsed": false,
     "input": [
      "import os\n",
      "test_save_dir = data_dir + 'test/' + git.get_last_commit() + '/'\n",
      "if not os.path.exists(test_save_dir):\n",
      "    os.mkdir(test_save_dir)\n",
      "print 'Saving test results in:', test_save_dir\n",
      "\n",
      "test_load_dir = data_dir + 'test/' + compare_commit + '/'\n",
      "if not os.path.exists(test_load_dir):\n",
      "    raise ValueError('Path %s not found, choose a different commit.')\n",
      "print 'Loading test results from:', test_load_dir"
     ],
     "language": "python",
     "metadata": {},
     "outputs": [
      {
       "output_type": "stream",
       "stream": "stdout",
       "text": [
        "Saving test results in: C:\\Data\\Antonio\\data/test/69d8181/\n",
        "Loading test results from: C:\\Data\\Antonio\\data/test/ef3fc59/\n"
       ]
      }
     ],
     "prompt_number": 6
    },
    {
     "cell_type": "code",
     "collapsed": false,
     "input": [
      "import cPickle as pickle"
     ],
     "language": "python",
     "metadata": {},
     "outputs": [],
     "prompt_number": 7
    },
    {
     "cell_type": "code",
     "collapsed": false,
     "input": [
      "def compare_data(d1, d2, verbose=True, debug=False, exclude_ph_times=False):\n",
      "    \"\"\"Compare two Data() objects for equality (useful for regression test).\n",
      "    \"\"\"\n",
      "    if d2 is None:\n",
      "        print ' * WARNING: Saved test not found, skipping comparison.'\n",
      "        return True\n",
      "        \n",
      "    equal = True\n",
      "    for key in d1:\n",
      "        if verbose: \n",
      "            print \"Testing %s (%s) ... \" % (key, type(d1[key])),\n",
      "            \n",
      "        if callable(d1[key]):\n",
      "            # Skip function comparison\n",
      "            if verbose: print \"skipping (function)\"\n",
      "            continue\n",
      "            \n",
      "        if exclude_ph_times and key == 'ph_times_m':\n",
      "            if verbose: print \"[TEST SKIPPED]\"\n",
      "            continue\n",
      "        \n",
      "        if key not in d2:\n",
      "            # Detect variable renames\n",
      "            if key == 'rate_th' and 'Th' in d2:\n",
      "                d2['rate_th'] = d2['Th']\n",
      "            elif key.endswith('_err') or key.startswith('fit_E_'):\n",
      "                print \"WARNING: Attribute '%s' in d1 missing in d2\" % key\n",
      "                continue\n",
      "            elif key.startswith('bg_th_us') or key == 'bg_auto_th' or key == 'bg_fun_name':\n",
      "                print \"WARNING: Attribute '%s' in d1 missing in d2\" % key\n",
      "                continue\n",
      "            else:    \n",
      "                print \"ERROR\\n * Attribute '%s' in d1 missing in d2\" % key\n",
      "                equal = False\n",
      "                continue\n",
      "            \n",
      "        if d1[key] is None:\n",
      "            if not (d2[key] is None):\n",
      "                equal = False\n",
      "                print \"ERROR\\n * Attribute '%s' is None d1 but %s in d2\" % \\\n",
      "                        (key, d2[key])\n",
      "            elif verbose: \n",
      "                print 'OK (None)'\n",
      "            continue\n",
      "            \n",
      "        if not (type(d1[key]) == type(d2[key])):\n",
      "            print \"ERROR\\n * Attribute '%s' has type %s in d1 but %s in d2\" % (key,\n",
      "                    type(d1[key]), type(d2[key]))\n",
      "            continue\n",
      "        \n",
      "        if np.isscalar(d1[key]):\n",
      "            scalar1, scalar2 = d1[key], d2[key]\n",
      "            if key == 'fname':\n",
      "                scalar1 = os.path.basename(os.path.abspath(scalar1))\n",
      "                scalar2 = os.path.basename(os.path.abspath(scalar2))\n",
      "            if scalar1 != scalar2:\n",
      "                print(\"ERROR\\n d1.{k} and d2.{k} differ (scalar).\".format(k=key))\n",
      "                equal = False\n",
      "            elif verbose: \n",
      "                print 'OK (scalar)'\n",
      "            continue\n",
      "        \n",
      "        # If the attribute is an empty list\n",
      "        if type(d1[key]) is list and len(d1[key]) == 0:\n",
      "            if not (type(d2[key]) is list and len(d2[key]) == 0):\n",
      "                print \"ERROR\\n * Attribute '%s' is an empty list in d1 but not in d2\"\n",
      "                equal = False\n",
      "            elif verbose: \n",
      "                print 'OK (empty list)'\n",
      "            continue\n",
      "        \n",
      "        # If the attribute is a dict\n",
      "        if type(d1[key]) is dict:\n",
      "            dict_comp = []\n",
      "            for sub_key in d1[key]:\n",
      "                if type(d1[key][sub_key]) == np.ndarray:\n",
      "                    dict_comp.append(np.allclose(d1[key][sub_key], d2[key][sub_key]))\n",
      "                else:\n",
      "                    dict_comp.append(d1[key][sub_key] == d2[key][sub_key])\n",
      "            equal = np.alltrue(dict_comp)\n",
      "            if not equal:\n",
      "                print \"ERROR\\n * Attribute '%s' (dict) differs between d1 and d2\"\n",
      "            elif verbose: \n",
      "                print 'OK (dict)'\n",
      "            continue\n",
      "        \n",
      "\n",
      "        assert (len(d1[key]) == d1['nch']) and (len(d2[key]) == d2['nch'])\n",
      "\n",
      "        # Test the multi-ch fields (list of arrays)\n",
      "        test_res = []\n",
      "        for val1, val2 in zip(d1[key], d2[key]):\n",
      "            if type(val1) == type(None):\n",
      "                if debug:\n",
      "                    print ('NA1 {} ({}) {}'.format(key, type(val1), val1))\n",
      "                    print ('NA2 {} ({}) {}'.format(key, type(val2), val2))\n",
      "                test_res.append(val1 == val2)\n",
      "            else:\n",
      "                if debug:\n",
      "                    print ('A1 {} ({}) {}'.format(key, type(val1), val1))\n",
      "                    print ('A2 {} ({}) {}'.format(key, type(val2), val2))\n",
      "                test_res.append(np.allclose(val1, val2))\n",
      "        if not np.array(test_res).all():\n",
      "            print \"ERROR\\n d1.%s and d2.%s differ (non-scalar).\" % \\\n",
      "                    (key, key)\n",
      "            print \"    Test mask: %s \" % (np.array(test_res))\n",
      "            equal = False\n",
      "        elif verbose: \n",
      "            print 'OK (multi)'\n",
      "        \n",
      "    return equal"
     ],
     "language": "python",
     "metadata": {},
     "outputs": [],
     "prompt_number": 8
    },
    {
     "cell_type": "code",
     "collapsed": false,
     "input": [
      "def save_test(name, d, dir_=test_save_dir, exclude_ph_times=True):\n",
      "    print 'Saving test to:', test_save_dir\n",
      "    d_save = dict(d)\n",
      "    \n",
      "    # Remove functions\n",
      "    for key in d:\n",
      "        if callable(d_save[key]):\n",
      "            d_save.pop(key)\n",
      "    \n",
      "    if exclude_ph_times:\n",
      "        d_save.pop('ph_times_m')\n",
      "        \n",
      "    with open(dir_+TEST+'.pickle', 'wb') as f:\n",
      "        pickle.dump(d_save, f, protocol=2)\n",
      "\n",
      "def load_test(name, dir_=test_load_dir):\n",
      "    print 'Loading test from:', test_load_dir\n",
      "    file_name = dir_ + TEST + '.pickle'\n",
      "    if not os.path.isfile(file_name):\n",
      "        print ' - Saved test not found.'\n",
      "        return None\n",
      "    with open(file_name, 'rb') as f:\n",
      "        d2 = pickle.load(f)\n",
      "    return d2"
     ],
     "language": "python",
     "metadata": {},
     "outputs": [],
     "prompt_number": 9
    },
    {
     "cell_type": "markdown",
     "metadata": {},
     "source": [
      "###Paste here the measurement to analyze:"
     ]
    },
    {
     "cell_type": "code",
     "collapsed": false,
     "input": [
      "fn = \"7d_New_150p_320mW_steer_3.dat\""
     ],
     "language": "python",
     "metadata": {},
     "outputs": [],
     "prompt_number": 10
    },
    {
     "cell_type": "markdown",
     "metadata": {},
     "source": [
      "Find the full file name:"
     ]
    },
    {
     "cell_type": "code",
     "collapsed": false,
     "input": [
      "from glob import glob\n",
      "dir_ = \"2013-05-15/\"\n",
      "fname = data_dir+dir_+fn\n",
      "fname = glob(fname+'*')[0] # uncomment to use wildcards (* or ?) in file names\n",
      "fname"
     ],
     "language": "python",
     "metadata": {},
     "outputs": [
      {
       "metadata": {},
       "output_type": "pyout",
       "prompt_number": 11,
       "text": [
        "'C:\\\\Data\\\\Antonio\\\\data/2013-05-15\\\\7d_New_150p_320mW_steer_3.dat'"
       ]
      }
     ],
     "prompt_number": 11
    },
    {
     "cell_type": "markdown",
     "metadata": {},
     "source": [
      "## Data load and Burst search"
     ]
    },
    {
     "cell_type": "markdown",
     "metadata": {},
     "source": [
      "Load and process the data:"
     ]
    },
    {
     "cell_type": "code",
     "collapsed": false,
     "input": [
      "TEST = 'test1'\n",
      "d = loader.multispot8(fname=fname, BT=0.044, gamma=1.)\n",
      "d.calc_bg(bg.exp_fit, time_s=20, tail_min_us=200)\n",
      "d.burst_search_t(L=10,m=10,P=None,F=6, ph_sel='DA')\n",
      "d_test = d\n",
      "\n",
      "if save_reference: save_test(TEST, d_test)\n",
      "d_saved = load_test(TEST)"
     ],
     "language": "python",
     "metadata": {},
     "outputs": [
      {
       "output_type": "stream",
       "stream": "stdout",
       "text": [
        " - File loaded from cache: C:\\Data\\Antonio\\data/2013-05-15\\7d_New_150p_320mW_steer_3.dat\n"
       ]
      },
      {
       "output_type": "stream",
       "stream": "stdout",
       "text": [
        " - Calculating BG rates ... "
       ]
      },
      {
       "output_type": "stream",
       "stream": "stdout",
       "text": [
        "[DONE]\n"
       ]
      },
      {
       "output_type": "stream",
       "stream": "stdout",
       "text": [
        " - Performing burst search (verbose=False) ..."
       ]
      },
      {
       "output_type": "stream",
       "stream": "stdout",
       "text": [
        "[DONE]\n"
       ]
      },
      {
       "output_type": "stream",
       "stream": "stdout",
       "text": [
        " - Calculating burst periods ..."
       ]
      },
      {
       "output_type": "stream",
       "stream": "stdout",
       "text": [
        "[DONE]\n"
       ]
      },
      {
       "output_type": "stream",
       "stream": "stdout",
       "text": [
        " - Counting D and A ph and calculating FRET ... \n"
       ]
      },
      {
       "output_type": "stream",
       "stream": "stdout",
       "text": [
        "   - Applying background correction.\n"
       ]
      },
      {
       "output_type": "stream",
       "stream": "stdout",
       "text": [
        "   - Applying leakage correction.\n"
       ]
      },
      {
       "output_type": "stream",
       "stream": "stdout",
       "text": [
        "   [DONE Counting D/A]\n"
       ]
      },
      {
       "output_type": "stream",
       "stream": "stdout",
       "text": [
        "Saving test to: C:\\Data\\Antonio\\data/test/69d8181/\n",
        "Loading test from: C:\\Data\\Antonio\\data/test/ef3fc59/\n"
       ]
      }
     ],
     "prompt_number": 12
    },
    {
     "cell_type": "code",
     "collapsed": false,
     "input": [
      "assert compare_data(d_test, d_saved, verbose=False, exclude_ph_times=True)"
     ],
     "language": "python",
     "metadata": {},
     "outputs": [],
     "prompt_number": 13
    },
    {
     "cell_type": "code",
     "collapsed": false,
     "input": [
      "TEST = 'test2'\n",
      "d.calc_bg(bg.exp_fit, time_s=20, tail_min_us=200)\n",
      "d.burst_search_t(L=10,m=10,P=None,F=6, ph_sel='D')\n",
      "d_test = d\n",
      "\n",
      "if save_reference: save_test(TEST, d_test)\n",
      "d_saved = load_test(TEST)"
     ],
     "language": "python",
     "metadata": {},
     "outputs": [
      {
       "output_type": "stream",
       "stream": "stdout",
       "text": [
        " - Calculating BG rates ... "
       ]
      },
      {
       "output_type": "stream",
       "stream": "stdout",
       "text": [
        "[DONE]\n"
       ]
      },
      {
       "output_type": "stream",
       "stream": "stdout",
       "text": [
        " - Performing burst search (verbose=False) ..."
       ]
      },
      {
       "output_type": "stream",
       "stream": "stdout",
       "text": [
        " - Recomputing limits for current ph selection (D) ... "
       ]
      },
      {
       "output_type": "stream",
       "stream": "stdout",
       "text": [
        "[DONE]\n"
       ]
      },
      {
       "output_type": "stream",
       "stream": "stdout",
       "text": [
        " - Recomputing limits for current ph selection (DA) ... "
       ]
      },
      {
       "output_type": "stream",
       "stream": "stdout",
       "text": [
        "[DONE]\n"
       ]
      },
      {
       "output_type": "stream",
       "stream": "stdout",
       "text": [
        " - Fixing  burst data to refer to ph_times_m ... "
       ]
      },
      {
       "output_type": "stream",
       "stream": "stdout",
       "text": [
        "[DONE]\n"
       ]
      },
      {
       "output_type": "stream",
       "stream": "stdout",
       "text": [
        "[DONE]\n"
       ]
      },
      {
       "output_type": "stream",
       "stream": "stdout",
       "text": [
        " - Calculating burst periods ..."
       ]
      },
      {
       "output_type": "stream",
       "stream": "stdout",
       "text": [
        "[DONE]\n"
       ]
      },
      {
       "output_type": "stream",
       "stream": "stdout",
       "text": [
        " - Counting D and A ph and calculating FRET ... \n"
       ]
      },
      {
       "output_type": "stream",
       "stream": "stdout",
       "text": [
        "   - Applying background correction.\n"
       ]
      },
      {
       "output_type": "stream",
       "stream": "stdout",
       "text": [
        "   - Applying leakage correction.\n"
       ]
      },
      {
       "output_type": "stream",
       "stream": "stdout",
       "text": [
        "   [DONE Counting D/A]\n"
       ]
      },
      {
       "output_type": "stream",
       "stream": "stdout",
       "text": [
        "Saving test to: C:\\Data\\Antonio\\data/test/69d8181/\n",
        "Loading test from: C:\\Data\\Antonio\\data/test/ef3fc59/\n"
       ]
      }
     ],
     "prompt_number": 14
    },
    {
     "cell_type": "code",
     "collapsed": false,
     "input": [
      "assert compare_data(d_test, d_saved, verbose=False, exclude_ph_times=True)"
     ],
     "language": "python",
     "metadata": {},
     "outputs": [],
     "prompt_number": 15
    },
    {
     "cell_type": "code",
     "collapsed": false,
     "input": [
      "TEST = 'test3'\n",
      "d.calc_bg(bg.exp_fit, time_s=20, tail_min_us=200)\n",
      "d.burst_search_t(L=10,m=10,P=None,F=6, ph_sel='A')\n",
      "d.fuse_bursts(ms=-1)\n",
      "d_test = d\n",
      "\n",
      "if save_reference: save_test(TEST, d_test)\n",
      "d_saved = load_test(TEST)"
     ],
     "language": "python",
     "metadata": {},
     "outputs": [
      {
       "output_type": "stream",
       "stream": "stdout",
       "text": [
        " - Calculating BG rates ... "
       ]
      },
      {
       "output_type": "stream",
       "stream": "stdout",
       "text": [
        "[DONE]\n"
       ]
      },
      {
       "output_type": "stream",
       "stream": "stdout",
       "text": [
        " - Performing burst search (verbose=False) ..."
       ]
      },
      {
       "output_type": "stream",
       "stream": "stdout",
       "text": [
        " - Recomputing limits for current ph selection (A) ... "
       ]
      },
      {
       "output_type": "stream",
       "stream": "stdout",
       "text": [
        "[DONE]\n"
       ]
      },
      {
       "output_type": "stream",
       "stream": "stdout",
       "text": [
        " - Recomputing limits for current ph selection (DA) ... "
       ]
      },
      {
       "output_type": "stream",
       "stream": "stdout",
       "text": [
        "[DONE]\n"
       ]
      },
      {
       "output_type": "stream",
       "stream": "stdout",
       "text": [
        " - Fixing  burst data to refer to ph_times_m ... "
       ]
      },
      {
       "output_type": "stream",
       "stream": "stdout",
       "text": [
        "[DONE]\n"
       ]
      },
      {
       "output_type": "stream",
       "stream": "stdout",
       "text": [
        "[DONE]\n"
       ]
      },
      {
       "output_type": "stream",
       "stream": "stdout",
       "text": [
        " - Calculating burst periods ..."
       ]
      },
      {
       "output_type": "stream",
       "stream": "stdout",
       "text": [
        "[DONE]\n"
       ]
      },
      {
       "output_type": "stream",
       "stream": "stdout",
       "text": [
        " - Counting D and A ph and calculating FRET ... \n"
       ]
      },
      {
       "output_type": "stream",
       "stream": "stdout",
       "text": [
        "   - Applying background correction.\n"
       ]
      },
      {
       "output_type": "stream",
       "stream": "stdout",
       "text": [
        "   - Applying leakage correction.\n"
       ]
      },
      {
       "output_type": "stream",
       "stream": "stdout",
       "text": [
        "   [DONE Counting D/A]\n"
       ]
      },
      {
       "output_type": "stream",
       "stream": "stdout",
       "text": [
        "Saving test to: C:\\Data\\Antonio\\data/test/69d8181/\n",
        "Loading test from: C:\\Data\\Antonio\\data/test/ef3fc59/\n"
       ]
      }
     ],
     "prompt_number": 16
    },
    {
     "cell_type": "code",
     "collapsed": false,
     "input": [
      "assert compare_data(d_test, d_saved, verbose=False, exclude_ph_times=True)"
     ],
     "language": "python",
     "metadata": {},
     "outputs": [],
     "prompt_number": 17
    },
    {
     "cell_type": "code",
     "collapsed": false,
     "input": [
      "TEST = 'test4'\n",
      "d.calc_bg(bg.exp_fit, time_s=5, tail_min_us=200)\n",
      "d.burst_search_t(L=20, m=10, P=None, F=6, ph_sel='DA')\n",
      "d.fuse_bursts(ms=1)\n",
      "d_test = d\n",
      "\n",
      "if save_reference: save_test(TEST, d_test)\n",
      "d_saved = load_test(TEST)"
     ],
     "language": "python",
     "metadata": {},
     "outputs": [
      {
       "output_type": "stream",
       "stream": "stdout",
       "text": [
        " - Calculating BG rates ... "
       ]
      },
      {
       "output_type": "stream",
       "stream": "stdout",
       "text": [
        "[DONE]\n"
       ]
      },
      {
       "output_type": "stream",
       "stream": "stdout",
       "text": [
        " - Performing burst search (verbose=False) ..."
       ]
      },
      {
       "output_type": "stream",
       "stream": "stdout",
       "text": [
        "[DONE]\n"
       ]
      },
      {
       "output_type": "stream",
       "stream": "stdout",
       "text": [
        " - Calculating burst periods ..."
       ]
      },
      {
       "output_type": "stream",
       "stream": "stdout",
       "text": [
        "[DONE]\n"
       ]
      },
      {
       "output_type": "stream",
       "stream": "stdout",
       "text": [
        " - Counting D and A ph and calculating FRET ... \n"
       ]
      },
      {
       "output_type": "stream",
       "stream": "stdout",
       "text": [
        "   - Applying background correction.\n"
       ]
      },
      {
       "output_type": "stream",
       "stream": "stdout",
       "text": [
        "   - Applying leakage correction.\n"
       ]
      },
      {
       "output_type": "stream",
       "stream": "stdout",
       "text": [
        "   [DONE Counting D/A]\n"
       ]
      },
      {
       "output_type": "stream",
       "stream": "stdout",
       "text": [
        " - - - - - CHANNEL  1 - - - - \n",
        " --> [CH 1] END Fused 1211 bursts (29.2%, 7 iter)\n",
        "\n"
       ]
      },
      {
       "output_type": "stream",
       "stream": "stdout",
       "text": [
        " - - - - - CHANNEL  2 - - - - \n",
        " --> [CH 2] END Fused 1055 bursts (33.9%, 8 iter)\n",
        "\n"
       ]
      },
      {
       "output_type": "stream",
       "stream": "stdout",
       "text": [
        " - - - - - CHANNEL  3 - - - - \n",
        " --> [CH 3] END Fused 1598 bursts (31.4%, 9 iter)\n",
        "\n"
       ]
      },
      {
       "output_type": "stream",
       "stream": "stdout",
       "text": [
        " - - - - - CHANNEL  4 - - - - \n",
        " --> [CH 4] END Fused 1893 bursts (32.2%, 11 iter)\n",
        "\n"
       ]
      },
      {
       "output_type": "stream",
       "stream": "stdout",
       "text": [
        " - - - - - CHANNEL  5 - - - - \n",
        " --> [CH 5] END Fused 1654 bursts (30.7%, 8 iter)\n",
        "\n"
       ]
      },
      {
       "output_type": "stream",
       "stream": "stdout",
       "text": [
        " - - - - - CHANNEL  6 - - - - \n",
        " --> [CH 6] END Fused 1358 bursts (33.1%, 8 iter)\n",
        "\n"
       ]
      },
      {
       "output_type": "stream",
       "stream": "stdout",
       "text": [
        " - - - - - CHANNEL  7 - - - - \n",
        " --> [CH 7] END Fused 1448 bursts (26.9%, 8 iter)\n",
        "\n"
       ]
      },
      {
       "output_type": "stream",
       "stream": "stdout",
       "text": [
        " - - - - - CHANNEL  8 - - - - \n",
        " --> [CH 8] END Fused 1338 bursts (24.6%, 8 iter)\n",
        "\n"
       ]
      },
      {
       "output_type": "stream",
       "stream": "stdout",
       "text": [
        " - Counting D and A ph and calculating FRET ... \n"
       ]
      },
      {
       "output_type": "stream",
       "stream": "stdout",
       "text": [
        "   - Applying background correction.\n"
       ]
      },
      {
       "output_type": "stream",
       "stream": "stdout",
       "text": [
        "   - Applying leakage correction.\n"
       ]
      },
      {
       "output_type": "stream",
       "stream": "stdout",
       "text": [
        "   [DONE Counting D/A and FRET]\n"
       ]
      },
      {
       "output_type": "stream",
       "stream": "stdout",
       "text": [
        "Saving test to: C:\\Data\\Antonio\\data/test/69d8181/\n",
        "Loading test from: C:\\Data\\Antonio\\data/test/ef3fc59/\n"
       ]
      }
     ],
     "prompt_number": 18
    },
    {
     "cell_type": "code",
     "collapsed": false,
     "input": [
      "assert compare_data(d_test, d_saved, verbose=False, exclude_ph_times=True)"
     ],
     "language": "python",
     "metadata": {},
     "outputs": [],
     "prompt_number": 19
    },
    {
     "cell_type": "code",
     "collapsed": false,
     "input": [
      "TEST = 'test5'\n",
      "\n",
      "E1_raw = 0.65\n",
      "gamma = 0.45\n",
      "d.burst_search_t(L=10,m=10,P=None,F=6, ph_sel='A')\n",
      "ds = Sel(d, select_bursts.nda, th1=20, gamma1=gamma)\n",
      "ds.update_gamma(1.)\n",
      "ds.fit_E_ML_poiss(E1=E1_raw, method=2)\n",
      "d_test = ds\n",
      "\n",
      "if save_reference: save_test(TEST, d_test)\n",
      "d_saved = load_test(TEST)"
     ],
     "language": "python",
     "metadata": {},
     "outputs": [
      {
       "output_type": "stream",
       "stream": "stdout",
       "text": [
        " - Performing burst search (verbose=False) ..."
       ]
      },
      {
       "output_type": "stream",
       "stream": "stdout",
       "text": [
        " - Recomputing limits for current ph selection (A) ... "
       ]
      },
      {
       "output_type": "stream",
       "stream": "stdout",
       "text": [
        "[DONE]\n"
       ]
      },
      {
       "output_type": "stream",
       "stream": "stdout",
       "text": [
        " - Recomputing limits for current ph selection (DA) ... "
       ]
      },
      {
       "output_type": "stream",
       "stream": "stdout",
       "text": [
        "[DONE]\n"
       ]
      },
      {
       "output_type": "stream",
       "stream": "stdout",
       "text": [
        " - Fixing  burst data to refer to ph_times_m ... "
       ]
      },
      {
       "output_type": "stream",
       "stream": "stdout",
       "text": [
        "[DONE]\n"
       ]
      },
      {
       "output_type": "stream",
       "stream": "stdout",
       "text": [
        "[DONE]\n"
       ]
      },
      {
       "output_type": "stream",
       "stream": "stdout",
       "text": [
        " - Calculating burst periods ..."
       ]
      },
      {
       "output_type": "stream",
       "stream": "stdout",
       "text": [
        "[DONE]\n"
       ]
      },
      {
       "output_type": "stream",
       "stream": "stdout",
       "text": [
        " - Counting D and A ph and calculating FRET ... \n"
       ]
      },
      {
       "output_type": "stream",
       "stream": "stdout",
       "text": [
        "   - Applying background correction.\n"
       ]
      },
      {
       "output_type": "stream",
       "stream": "stdout",
       "text": [
        "   - Applying leakage correction.\n"
       ]
      },
      {
       "output_type": "stream",
       "stream": "stdout",
       "text": [
        "   [DONE Counting D/A]\n"
       ]
      },
      {
       "output_type": "stream",
       "stream": "stdout",
       "text": [
        "Saving test to: C:\\Data\\Antonio\\data/test/69d8181/\n",
        "Loading test from: C:\\Data\\Antonio\\data/test/ef3fc59/\n"
       ]
      }
     ],
     "prompt_number": 20
    },
    {
     "cell_type": "code",
     "collapsed": false,
     "input": [
      "assert compare_data(d_test, d_saved, verbose=False, exclude_ph_times=True)"
     ],
     "language": "python",
     "metadata": {},
     "outputs": [],
     "prompt_number": 21
    },
    {
     "cell_type": "code",
     "collapsed": false,
     "input": [
      "TEST = 'test6'\n",
      "\n",
      "ds.fit_E_generic(E1=E1_raw, fit_fun=bl.gaussian_fit_hist, weights='size', gamma=gamma)\n",
      "d_test = ds\n",
      "\n",
      "if save_reference: save_test(TEST, d_test)\n",
      "d_saved = load_test(TEST)"
     ],
     "language": "python",
     "metadata": {},
     "outputs": [
      {
       "output_type": "stream",
       "stream": "stdout",
       "text": [
        "Saving test to: C:\\Data\\Antonio\\data/test/69d8181/\n",
        "Loading test from: C:\\Data\\Antonio\\data/test/ef3fc59/\n"
       ]
      }
     ],
     "prompt_number": 22
    },
    {
     "cell_type": "code",
     "collapsed": false,
     "input": [
      "assert compare_data(d_test, d_saved, verbose=False, debug=False, exclude_ph_times=True)"
     ],
     "language": "python",
     "metadata": {},
     "outputs": [],
     "prompt_number": 23
    },
    {
     "cell_type": "code",
     "collapsed": false,
     "input": [
      "TEST = 'test7'\n",
      "\n",
      "ds.fit_E_m(E1=E1_raw, weights='size', gamma=gamma)\n",
      "d_test = ds\n",
      "\n",
      "if save_reference: save_test(TEST, d_test)\n",
      "d_saved = load_test(TEST)"
     ],
     "language": "python",
     "metadata": {},
     "outputs": [
      {
       "output_type": "stream",
       "stream": "stdout",
       "text": [
        "Saving test to: C:\\Data\\Antonio\\data/test/69d8181/\n",
        "Loading test from: C:\\Data\\Antonio\\data/test/ef3fc59/\n"
       ]
      }
     ],
     "prompt_number": 24
    },
    {
     "cell_type": "code",
     "collapsed": false,
     "input": [
      "assert compare_data(d_test, d_saved, verbose=False, exclude_ph_times=True)"
     ],
     "language": "python",
     "metadata": {},
     "outputs": [],
     "prompt_number": 25
    },
    {
     "cell_type": "code",
     "collapsed": false,
     "input": [
      "TEST = 'test8'\n",
      "\n",
      "ds.fit_E_m(E1=E1_raw, weights=None, gamma=gamma)\n",
      "d_test = ds\n",
      "\n",
      "if save_reference: save_test(TEST, d_test)\n",
      "d_saved = load_test(TEST)"
     ],
     "language": "python",
     "metadata": {},
     "outputs": [
      {
       "output_type": "stream",
       "stream": "stdout",
       "text": [
        "Saving test to: C:\\Data\\Antonio\\data/test/69d8181/\n",
        "Loading test from: C:\\Data\\Antonio\\data/test/ef3fc59/\n"
       ]
      }
     ],
     "prompt_number": 26
    },
    {
     "cell_type": "code",
     "collapsed": false,
     "input": [
      "assert compare_data(d_test, d_saved, verbose=False, exclude_ph_times=True)"
     ],
     "language": "python",
     "metadata": {},
     "outputs": [],
     "prompt_number": 27
    },
    {
     "cell_type": "code",
     "collapsed": false,
     "input": [
      "# When reference is d1e37 this fails because TEST9 cannot be saved for that reference\n",
      "TEST = 'test9'\n",
      "\n",
      "ds.update_gamma(gamma)\n",
      "ds.fit_E_two_gauss_EM(weights='size', gamma=gamma)\n",
      "d_test = ds\n",
      "\n",
      "if save_reference: save_test(TEST, d_test)\n",
      "d_saved = load_test(TEST)"
     ],
     "language": "python",
     "metadata": {},
     "outputs": [
      {
       "output_type": "stream",
       "stream": "stdout",
       "text": [
        "Saving test to: C:\\Data\\Antonio\\data/test/69d8181/\n",
        "Loading test from: C:\\Data\\Antonio\\data/test/ef3fc59/\n"
       ]
      }
     ],
     "prompt_number": 28
    },
    {
     "cell_type": "code",
     "collapsed": false,
     "input": [
      "assert compare_data(d_test, d_saved, verbose=False, exclude_ph_times=True)"
     ],
     "language": "python",
     "metadata": {},
     "outputs": [],
     "prompt_number": 29
    },
    {
     "cell_type": "code",
     "collapsed": false,
     "input": [
      "TEST = 'test10'\n",
      "\n",
      "ds.fit_E_generic(E1=E1_raw, fit_fun=bl.gaussian_fit_cdf)\n",
      "d_test = ds\n",
      "\n",
      "if save_reference: save_test(TEST, d_test)\n",
      "d_saved = load_test(TEST)"
     ],
     "language": "python",
     "metadata": {},
     "outputs": [
      {
       "output_type": "stream",
       "stream": "stdout",
       "text": [
        "Saving test to: C:\\Data\\Antonio\\data/test/69d8181/\n",
        "Loading test from: C:\\Data\\Antonio\\data/test/ef3fc59/\n"
       ]
      }
     ],
     "prompt_number": 30
    },
    {
     "cell_type": "code",
     "collapsed": false,
     "input": [
      "assert compare_data(d_test, d_saved, verbose=False, exclude_ph_times=True)"
     ],
     "language": "python",
     "metadata": {},
     "outputs": [],
     "prompt_number": 31
    },
    {
     "cell_type": "code",
     "collapsed": false,
     "input": [
      "TEST = 'test11'\n",
      "d.calc_bg(bg.exp_fit, time_s=20, tail_min_us='auto', F_bg=1.7)\n",
      "d.burst_search_t(L=10, m=10, F=6, ph_sel='DA', max_rate=True)\n",
      "d_test = d\n",
      "\n",
      "if save_reference: save_test(TEST, d_test)\n",
      "d_saved = load_test(TEST)"
     ],
     "language": "python",
     "metadata": {},
     "outputs": [
      {
       "output_type": "stream",
       "stream": "stdout",
       "text": [
        " - Calculating BG rates ... "
       ]
      },
      {
       "output_type": "stream",
       "stream": "stdout",
       "text": [
        "[DONE]\n"
       ]
      },
      {
       "output_type": "stream",
       "stream": "stdout",
       "text": [
        " - Performing burst search (verbose=False) ..."
       ]
      },
      {
       "output_type": "stream",
       "stream": "stdout",
       "text": [
        "[DONE]\n"
       ]
      },
      {
       "output_type": "stream",
       "stream": "stdout",
       "text": [
        " - Calculating burst periods ..."
       ]
      },
      {
       "output_type": "stream",
       "stream": "stdout",
       "text": [
        "[DONE]\n"
       ]
      },
      {
       "output_type": "stream",
       "stream": "stdout",
       "text": [
        " - Counting D and A ph and calculating FRET ... \n"
       ]
      },
      {
       "output_type": "stream",
       "stream": "stdout",
       "text": [
        "   - Applying background correction.\n"
       ]
      },
      {
       "output_type": "stream",
       "stream": "stdout",
       "text": [
        "   - Applying leakage correction.\n"
       ]
      },
      {
       "output_type": "stream",
       "stream": "stdout",
       "text": [
        "   [DONE Counting D/A]\n"
       ]
      },
      {
       "output_type": "stream",
       "stream": "stdout",
       "text": [
        " - Computing max rates in burst ..."
       ]
      },
      {
       "output_type": "stream",
       "stream": "stdout",
       "text": [
        "[DONE]\n"
       ]
      },
      {
       "output_type": "stream",
       "stream": "stdout",
       "text": [
        "Saving test to: C:\\Data\\Antonio\\data/test/69d8181/\n",
        "Loading test from: C:\\Data\\Antonio\\data/test/ef3fc59/\n"
       ]
      }
     ],
     "prompt_number": 32
    },
    {
     "cell_type": "code",
     "collapsed": false,
     "input": [
      "assert compare_data(d_test, d_saved, verbose=False, exclude_ph_times=True)"
     ],
     "language": "python",
     "metadata": {},
     "outputs": [],
     "prompt_number": 33
    },
    {
     "cell_type": "code",
     "collapsed": false,
     "input": [
      "TEST = 'test12'\n",
      "d.burst_search_t(L=10, m=10, F=6, ph_sel='DA')\n",
      "ds = Sel(d, select_bursts.nda, th1=30)\n",
      "print ds.num_bu()\n",
      "ds.calc_max_rate(m=5, ph_sel='A')\n",
      "d_test = ds\n",
      "\n",
      "if save_reference: save_test(TEST, d_test)\n",
      "d_saved = load_test(TEST)"
     ],
     "language": "python",
     "metadata": {},
     "outputs": [
      {
       "output_type": "stream",
       "stream": "stdout",
       "text": [
        " - Performing burst search (verbose=False) ..."
       ]
      },
      {
       "output_type": "stream",
       "stream": "stdout",
       "text": [
        "[DONE]\n"
       ]
      },
      {
       "output_type": "stream",
       "stream": "stdout",
       "text": [
        " - Calculating burst periods ..."
       ]
      },
      {
       "output_type": "stream",
       "stream": "stdout",
       "text": [
        "[DONE]\n"
       ]
      },
      {
       "output_type": "stream",
       "stream": "stdout",
       "text": [
        " - Counting D and A ph and calculating FRET ... \n"
       ]
      },
      {
       "output_type": "stream",
       "stream": "stdout",
       "text": [
        "   - Applying background correction.\n"
       ]
      },
      {
       "output_type": "stream",
       "stream": "stdout",
       "text": [
        "   - Applying leakage correction.\n"
       ]
      },
      {
       "output_type": "stream",
       "stream": "stdout",
       "text": [
        "   [DONE Counting D/A]\n"
       ]
      },
      {
       "output_type": "stream",
       "stream": "stdout",
       "text": [
        "[1707  950 1943 2688 2373 1425 2648 2811]\n",
        "Saving test to:"
       ]
      },
      {
       "output_type": "stream",
       "stream": "stdout",
       "text": [
        " C:\\Data\\Antonio\\data/test/69d8181/\n",
        "Loading test from: C:\\Data\\Antonio\\data/test/ef3fc59/\n",
        " - Saved test not found.\n"
       ]
      }
     ],
     "prompt_number": 34
    },
    {
     "cell_type": "code",
     "collapsed": false,
     "input": [
      "assert compare_data(d_test, d_saved, verbose=False, exclude_ph_times=True)"
     ],
     "language": "python",
     "metadata": {},
     "outputs": [
      {
       "output_type": "stream",
       "stream": "stdout",
       "text": [
        " * WARNING: Saved test not found, skipping comparison.\n"
       ]
      }
     ],
     "prompt_number": 35
    },
    {
     "cell_type": "code",
     "collapsed": false,
     "input": [],
     "language": "python",
     "metadata": {},
     "outputs": [],
     "prompt_number": 35
    },
    {
     "cell_type": "code",
     "collapsed": false,
     "input": [
      "d_test.stats()"
     ],
     "language": "python",
     "metadata": {},
     "outputs": [
      {
       "output_type": "stream",
       "stream": "stdout",
       "text": [
        "\n",
        "NUMBER OF BURSTS: m = 10, L = 10\n",
        "Pixel:                1       2       3       4       5       6       7       8 \n",
        "#:                 1707     950    1943    2688    2373    1425    2648    2811 \n",
        "T (us) [BS par]     208     143     206     249     240     174     360     397 \n",
        "BG Rat T (cps):    8001   11639    8088    6681    6945    9568    4622    4194 \n",
        "BG Rat D (cps):    1719    1944    5205    2803    2219    2468    1966    1765 \n",
        "BG Rat A (cps):    6202    9557    2777    3837    4610    7014    2592    2376 \n",
        "\n",
        "BURST WIDTH STATS\n",
        "Pixel:                1       2       3       4       5       6       7       8 \n",
        "Mean (ms):        0.780   0.548   0.789   0.943   0.911   0.674   1.298   1.383 \n",
        "Std.dev (ms):     0.314   0.211   0.318   0.376   0.367   0.269   0.533   0.551 \n",
        "\n",
        "BURST SIZE STATS\n",
        "Pixel:                1       2       3       4       5       6       7       8 \n",
        "Mean (# ph):      62.25   58.62   63.90   67.51   67.44   62.38   68.96   68.98 \n",
        "Std.dev (# ph):   35.51   32.10   36.71   40.51   41.71   34.60   43.75   43.95 \n",
        "\n",
        "BURST MEAN DELAY\n",
        "Pixel:                1       2       3       4       5       6       7       8 \n",
        "Delay (s):        0.121   0.217   0.106   0.077   0.087   0.145   0.078   0.073 \n"
       ]
      }
     ],
     "prompt_number": 36
    },
    {
     "cell_type": "code",
     "collapsed": false,
     "input": [
      "print 'OK'"
     ],
     "language": "python",
     "metadata": {},
     "outputs": [
      {
       "output_type": "stream",
       "stream": "stdout",
       "text": [
        "OK\n"
       ]
      }
     ],
     "prompt_number": 37
    },
    {
     "cell_type": "code",
     "collapsed": false,
     "input": [],
     "language": "python",
     "metadata": {},
     "outputs": [],
     "prompt_number": 37
    },
    {
     "cell_type": "code",
     "collapsed": false,
     "input": [],
     "language": "python",
     "metadata": {},
     "outputs": [],
     "prompt_number": 37
    }
   ],
   "metadata": {}
  }
 ]
}