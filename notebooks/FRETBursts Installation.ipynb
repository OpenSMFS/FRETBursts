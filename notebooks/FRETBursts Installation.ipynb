{
 "metadata": {
  "name": "",
  "signature": "sha256:f08b4b54a26b8eaeb36af369ae011943beb732e7e8e482ddb76a011c5269dc79"
 },
 "nbformat": 3,
 "nbformat_minor": 0,
 "worksheets": [
  {
   "cells": [
    {
     "cell_type": "markdown",
     "metadata": {},
     "source": [
      "# FRETBursts Installation Notebook\n",
      "\n",
      "> *Run this notebook to install FRETBursts*\n",
      "\n",
      "To run this notebook: click on menu **Cell -> Run all**. If no errors occurs the last line will print *\"Installation completed successfully\"*. See notes at the end of this notebook.\n",
      "\n",
      "## What this notebooks does?\n",
      "\n",
      "This notebook installs **lmfit** and writes a configuration file for FRETBursts containing FRETBursts source folder.\n"
     ]
    },
    {
     "cell_type": "markdown",
     "metadata": {},
     "source": [
      "## Step 1: Install dependencies"
     ]
    },
    {
     "cell_type": "markdown",
     "metadata": {},
     "source": [
      "### Lmfit\n",
      "\n",
      "To enable a full range of flexible fitting features [lmfit](http://lmfit.github.io/lmfit-py/) is needed:"
     ]
    },
    {
     "cell_type": "code",
     "collapsed": false,
     "input": [
      "!pip install https://github.com/lmfit/lmfit-py/zipball/master"
     ],
     "language": "python",
     "metadata": {},
     "outputs": []
    },
    {
     "cell_type": "markdown",
     "metadata": {},
     "source": [
      "> **NOTE:** At the moment we are installing lmfit development version from github. When lmfit 0.8 will be released we only need `pip install lmfit`."
     ]
    },
    {
     "cell_type": "markdown",
     "metadata": {},
     "source": [
      "## Step 2: FRETBursts Setup\n",
      "\n",
      "This section stores the FRETBursts folder in a configuration file. This is needed to run `load_fretbursts.py`."
     ]
    },
    {
     "cell_type": "code",
     "collapsed": false,
     "input": [
      "import os"
     ],
     "language": "python",
     "metadata": {},
     "outputs": []
    },
    {
     "cell_type": "code",
     "collapsed": false,
     "input": [
      "FRETBURSTS_DIR = os.path.abspath('..') + '/'"
     ],
     "language": "python",
     "metadata": {},
     "outputs": []
    },
    {
     "cell_type": "code",
     "collapsed": false,
     "input": [
      "if os.name == 'posix':\n",
      "    # Linux or Mac\n",
      "    HOME = os.environ['HOME'] + '/'\n",
      "elif os.name == 'nt':\n",
      "    # Windows\n",
      "    HOME = os.environ['HOMEPATH'] + '/'\n",
      "else:\n",
      "    raise OSError (\"Operating system not recognized (%s).\" % os.name)"
     ],
     "language": "python",
     "metadata": {},
     "outputs": []
    },
    {
     "cell_type": "code",
     "collapsed": false,
     "input": [
      "config_file_name = '.fretbursts'"
     ],
     "language": "python",
     "metadata": {},
     "outputs": []
    },
    {
     "cell_type": "code",
     "collapsed": false,
     "input": [
      "config_file_content = '%s\\n' % FRETBURSTS_DIR"
     ],
     "language": "python",
     "metadata": {},
     "outputs": []
    },
    {
     "cell_type": "markdown",
     "metadata": {},
     "source": [
      "Write the configuration file:"
     ]
    },
    {
     "cell_type": "code",
     "collapsed": false,
     "input": [
      "with open(HOME + config_file_name, 'w') as f:\n",
      "    f.write(config_file_content)"
     ],
     "language": "python",
     "metadata": {},
     "outputs": []
    },
    {
     "cell_type": "markdown",
     "metadata": {},
     "source": [
      "## Step 3: Test installation\n",
      "\n",
      "Test reading the configuration file:"
     ]
    },
    {
     "cell_type": "code",
     "collapsed": false,
     "input": [
      "with open(HOME + config_file_name) as f:\n",
      "    DIR = f.read().strip()\n",
      "\n",
      "print 'The configuration file says FRETBursts is in:'\n",
      "DIR.strip()"
     ],
     "language": "python",
     "metadata": {},
     "outputs": []
    },
    {
     "cell_type": "markdown",
     "metadata": {},
     "source": [
      "Test loading **FRETBursts**:"
     ]
    },
    {
     "cell_type": "code",
     "collapsed": false,
     "input": [
      "%run load_fretbursts --nogui"
     ],
     "language": "python",
     "metadata": {},
     "outputs": []
    },
    {
     "cell_type": "code",
     "collapsed": false,
     "input": [
      "print 'Installation completed successfully.'"
     ],
     "language": "python",
     "metadata": {},
     "outputs": []
    },
    {
     "cell_type": "markdown",
     "metadata": {},
     "source": [
      "## What's next?\n",
      "\n",
      "### Installation completed successfully\n",
      "\n",
      "If the installation completed with no errors you can start using FRETBursts. \n",
      "\n",
      "We reccomend starting by running the [tutorial notebooks](https://github.com/tritemio/FRETBursts_notebooks). The esiest way to perform a new analysis is to modify (or copy) one of the notebooks.\n",
      "\n",
      "To run the FRETBursts notebooks, [download](https://github.com/tritemio/FRETBursts_notebooks/archive/master.zip) and decompress the ZIP-ball in a folder and launch an IPython Notebook server **inside that folder**. For more details see [IPyhton Notebook Statup Folder](http://fretbursts.readthedocs.org/installation.html#ipython-notebook-startup-folder) on FRETBurst documentation.\n",
      "\n",
      "> **NOTE:** A copy of the tutorial notebooks is also included with FRETBursts sources and tracked by Git. These notebook are\n",
      "> striped from all execution ouput. This means that when you first open them you would not see any\n",
      "> output figure, table or messages until you execute the notebook. We reccomend working on a copy of the `notebooks`\n",
      "> folder outside the FRETBursts source folder. In this way chages to the notebook will not be detected as changes to\n",
      "> FRETBursts sources by Git.\n",
      "\n",
      "### In case of errors\n",
      "\n",
      "If the previous command didn't print \"Installation completed successfully\" an error occurred. For help please open an [GitHub Issue](https://github.com/tritemio/FRETBursts/issues) and paste the output of the cell that gave the error.\n"
     ]
    },
    {
     "cell_type": "code",
     "collapsed": false,
     "input": [],
     "language": "python",
     "metadata": {},
     "outputs": []
    }
   ],
   "metadata": {}
  }
 ]
}