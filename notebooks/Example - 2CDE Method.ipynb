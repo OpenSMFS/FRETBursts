{
 "cells": [
  {
   "cell_type": "markdown",
   "metadata": {},
   "source": [
    "# Example - 2CDE Method\n",
    "\n",
    "*This notebook is part of smFRET burst analysis software [FRETBursts](http://tritemio.github.io/FRETBursts/).*\n",
    "\n",
    "> **This notebook is experimental! Implementation needs more tests.** Here we implement the 2CDE method from [Tomov 2012](http://dx.doi.org/10.1016%2Fj.bpj.2011.11.4025)."
   ]
  },
  {
   "cell_type": "markdown",
   "metadata": {},
   "source": [
    "# Load Data"
   ]
  },
  {
   "cell_type": "code",
   "execution_count": null,
   "metadata": {
    "collapsed": false
   },
   "outputs": [],
   "source": [
    "from fretbursts import *\n",
    "from fretbursts.phtools import phrates\n",
    "sns = init_notebook()"
   ]
  },
  {
   "cell_type": "code",
   "execution_count": null,
   "metadata": {
    "collapsed": false
   },
   "outputs": [],
   "source": [
    "url = 'http://files.figshare.com/2182601/0023uLRpitc_NTP_20dT_0.5GndCl.hdf5'\n",
    "download_file(url, save_dir='./data')"
   ]
  },
  {
   "cell_type": "code",
   "execution_count": null,
   "metadata": {
    "collapsed": true
   },
   "outputs": [],
   "source": [
    "filename = \"data/0023uLRpitc_NTP_20dT_0.5GndCl.hdf5\""
   ]
  },
  {
   "cell_type": "code",
   "execution_count": null,
   "metadata": {
    "collapsed": false
   },
   "outputs": [],
   "source": [
    "d = loader.photon_hdf5(filename)\n",
    "#bpl.plot_alternation_hist(d)\n",
    "loader.alex_apply_period(d)\n",
    "d.calc_bg(fun=bg.exp_fit, time_s=20, tail_min_us='auto', F_bg=1.7)\n",
    "d.burst_search()"
   ]
  },
  {
   "cell_type": "code",
   "execution_count": null,
   "metadata": {
    "collapsed": false
   },
   "outputs": [],
   "source": [
    "ds1 = d.select_bursts(select_bursts.size, th1=20)\n",
    "ds = ds1.select_bursts(select_bursts.naa, th1=20)\n",
    "\n",
    "alex_jointplot(ds)"
   ]
  },
  {
   "cell_type": "markdown",
   "metadata": {},
   "source": [
    "# Photon rates"
   ]
  },
  {
   "cell_type": "code",
   "execution_count": null,
   "metadata": {
    "collapsed": false
   },
   "outputs": [],
   "source": [
    "ph = d.ph_times_m[0]"
   ]
  },
  {
   "cell_type": "code",
   "execution_count": null,
   "metadata": {
    "collapsed": false
   },
   "outputs": [],
   "source": [
    "tau = 100e-6/d.clk_p\n",
    "tau"
   ]
  },
  {
   "cell_type": "markdown",
   "metadata": {},
   "source": [
    "# KDE considerations"
   ]
  },
  {
   "cell_type": "code",
   "execution_count": null,
   "metadata": {
    "collapsed": true
   },
   "outputs": [],
   "source": [
    "tau = 1"
   ]
  },
  {
   "cell_type": "code",
   "execution_count": null,
   "metadata": {
    "collapsed": false
   },
   "outputs": [],
   "source": [
    "t = np.arange(0, 14)"
   ]
  },
  {
   "cell_type": "code",
   "execution_count": null,
   "metadata": {
    "collapsed": false
   },
   "outputs": [],
   "source": [
    "tx = np.arange(0, t.max(), 0.01*(t[1] - t[0]))\n",
    "r, n = phrates.kde_laplace_nph_numba(t, tau, tx)\n",
    "_, nn3 = phrates.kde_laplace_nph_numba(t, 3*tau/5, tx)\n",
    "#r2, n2 = phrates.kde_laplace_numba2(t, tau, tx)\n",
    "r3 = phrates.kde_gaussian_numba(t, tau, tx)\n",
    "\n",
    "fig, ax = plt.subplots(figsize=(17, 4))\n",
    "plot(tx, r/(2*tau))\n",
    "plot(tx, n/(10*tau))\n",
    "plot(tx, r3/(2.5*tau))\n",
    "plot(tx, nn3/(6*tau))\n",
    "sns.distplot(t, rug=True, kde=False, hist=False)"
   ]
  },
  {
   "cell_type": "code",
   "execution_count": null,
   "metadata": {
    "collapsed": false
   },
   "outputs": [],
   "source": [
    "t = np.arange(0, 14, 2)\n",
    "tx = np.arange(0, t.max(), 0.01*(t[1] - t[0]))\n",
    "r, n = phrates.kde_laplace_nph_numba(t, tau, tx)\n",
    "_, nn3 = phrates.kde_laplace_nph_numba(t, 3*tau/5, tx)\n",
    "#r2, n2 = phrates.kde_laplace_numba2(t, tau, tx)\n",
    "r3 = phrates.kde_gaussian_numba(t, tau, tx)\n",
    "\n",
    "fig, ax = plt.subplots(figsize=(17, 4))\n",
    "plot(tx, r/(2*tau))\n",
    "plot(tx, n/(10*tau))\n",
    "plot(tx, r3/(2.5*tau))\n",
    "plot(tx, nn3/(6*tau))\n",
    "sns.distplot(t, rug=True, kde=False, hist=False)"
   ]
  },
  {
   "cell_type": "code",
   "execution_count": null,
   "metadata": {
    "collapsed": false
   },
   "outputs": [],
   "source": [
    "np.random.seed(1)\n",
    "t = np.random.rand(14)*14\n",
    "t.sort()"
   ]
  },
  {
   "cell_type": "code",
   "execution_count": null,
   "metadata": {
    "collapsed": false
   },
   "outputs": [],
   "source": [
    "tx = np.arange(0, t.max(), 0.01*(t[1] - t[0]))\n",
    "r, n = phrates.kde_laplace_nph_numba(t, tau, tx)\n",
    "_, nn3 = phrates.kde_laplace_nph_numba(t, 3*tau/5, tx)\n",
    "r3 = phrates.kde_gaussian_numba(t, tau, tx)\n",
    "\n",
    "fig, ax = plt.subplots(figsize=(17, 4))\n",
    "plot(tx, r/(2*tau))\n",
    "plot(tx, n/(10*tau))\n",
    "plot(tx, r3/(2.5*tau))\n",
    "plot(tx, nn3/(6*tau))\n",
    "sns.distplot(t, rug=True, kde=False, hist=False)"
   ]
  },
  {
   "cell_type": "code",
   "execution_count": null,
   "metadata": {
    "collapsed": false
   },
   "outputs": [],
   "source": [
    "tau = 1\n",
    "tau2 = 2 * (tau**2)\n",
    "\n",
    "xx = np.arange(-4*tau, 4*tau, tau/100)\n",
    "y1 = np.exp(-np.abs(xx) / tau)\n",
    "y2 = np.exp(-xx**2 / tau2)"
   ]
  },
  {
   "cell_type": "code",
   "execution_count": null,
   "metadata": {
    "collapsed": false
   },
   "outputs": [],
   "source": [
    "plt.plot(xx,y1, label=r'$\\exp \\left( - \\frac{|t|}{\\tau} \\right)$')\n",
    "plt.plot(xx, y2, label=r'$\\exp \\left( - \\frac{t^2}{2\\tau^2} \\right)$')\n",
    "plt.axvline(2*tau, color='k')\n",
    "plt.axvline(-2*tau, color='k')\n",
    "plt.xlabel('t')\n",
    "plt.legend(loc='best', fontsize=22)\n",
    "plt.title(r'$\\tau = %d$' % tau, fontsize=22);"
   ]
  },
  {
   "cell_type": "code",
   "execution_count": null,
   "metadata": {
    "collapsed": false
   },
   "outputs": [],
   "source": [
    "np.exp(-5)*2"
   ]
  },
  {
   "cell_type": "markdown",
   "metadata": {},
   "source": [
    "## KDE Observations\n",
    "\n",
    "The Gaussian kernel gives a more accurate rate estimation with very little dependence on the position where the KDE is evaluated. On the contrary, with symmetric exponential kernel (laplace distribution), there is always a strong dependence on the evaluation position. In particular, when rates are estimated at the timestamps positions, the rates are systematically over-estimated (i.e. the peak is always samples).\n",
    "\n",
    "For Gaussian kernel, given a $\\tau$, the rate extimation will be accurate for rates higher than $1/(2\\,\\tau)$ counts-per-second. For lower rates, the estimation will strongly depend on where the KDE is evaluated. A similar condition can be also found for the exponential kernel, but the estimation will aways be strongly dependent on the position."
   ]
  },
  {
   "cell_type": "markdown",
   "metadata": {},
   "source": [
    "# Cython"
   ]
  },
  {
   "cell_type": "code",
   "execution_count": null,
   "metadata": {
    "collapsed": true
   },
   "outputs": [],
   "source": [
    "%load_ext Cython"
   ]
  },
  {
   "cell_type": "code",
   "execution_count": null,
   "metadata": {
    "collapsed": false
   },
   "outputs": [],
   "source": [
    "%%cython\n",
    "\n",
    "import numpy as np\n",
    "cimport numpy as np\n",
    "from libc.math cimport exp, fabs\n",
    "\n",
    "ctypedef np.int64_t DTYPE_t\n",
    "\n",
    "\n",
    "def _kde_gaussian_cy(DTYPE_t[:] timestamps, DTYPE_t tau, DTYPE_t[:] time_axis):\n",
    "    cdef np.int64_t timestamps_size, ipos, ineg, it, itx\n",
    "    cdef np.float64_t[:] rates\n",
    "    cdef np.float64_t tau2\n",
    "    cdef DTYPE_t tau_lim, t\n",
    "    \n",
    "    timestamps_size = timestamps.size\n",
    "    rates = np.zeros((time_axis.size,), dtype=np.float64)\n",
    "    tau_lim = 3 * tau   # 3 tau = 99.7 % of the Gaussian\n",
    "    tau2 = 2 * (tau**2)\n",
    "\n",
    "    ipos, ineg = 0, 0  # indexes for timestamps\n",
    "    for it in range(time_axis.size):\n",
    "        t = time_axis[it]\n",
    "        while ipos < timestamps_size and timestamps[ipos] - t < tau_lim:\n",
    "            ipos += 1\n",
    "        while ineg < timestamps_size and t - timestamps[ineg] > tau_lim:\n",
    "            ineg += 1\n",
    "\n",
    "        for itx in range(ineg, ipos):\n",
    "            rates[it] += exp(-((timestamps[itx] - t)**2)/tau2)\n",
    "\n",
    "    return rates\n",
    "\n",
    "\n",
    "def _kde_laplace_cy(DTYPE_t[:] timestamps, DTYPE_t tau, DTYPE_t[:] time_axis):\n",
    "    cdef np.int64_t timestamps_size, ipos, ineg, it, itx\n",
    "    cdef np.float64_t[:] rates\n",
    "    cdef DTYPE_t tau_lim, t\n",
    "    \n",
    "    timestamps_size = timestamps.size\n",
    "    rates = np.zeros((time_axis.size,), dtype=np.float64)\n",
    "    tau_lim = 5 * tau\n",
    "\n",
    "    ipos, ineg = 0, 0  # indexes for timestamps\n",
    "    for it in range(time_axis.size):\n",
    "        t = time_axis[it]\n",
    "        while ipos < timestamps_size and timestamps[ipos] - t < tau_lim:\n",
    "            ipos += 1\n",
    "        while ipos < timestamps_size and t - timestamps[ineg] > tau_lim:\n",
    "            ineg += 1\n",
    "\n",
    "        for itx in range(ineg, ipos):\n",
    "            rates[it] += exp(-fabs(timestamps[itx] - t)/tau)\n",
    "\n",
    "    return rates"
   ]
  },
  {
   "cell_type": "code",
   "execution_count": null,
   "metadata": {
    "collapsed": true
   },
   "outputs": [],
   "source": [
    "def kde_gaussian_cy(timestamps, tau, time_axis=None):\n",
    "    if time_axis is None:\n",
    "        time_axis = timestamps\n",
    "    return _kde_gaussian_cy(timestamps, tau, time_axis)\n",
    "\n",
    "def kde_laplace_cy(timestamps, tau, time_axis=None):\n",
    "    if time_axis is None:\n",
    "        time_axis = timestamps\n",
    "    return _kde_laplace_cy(timestamps, tau, time_axis)"
   ]
  },
  {
   "cell_type": "code",
   "execution_count": null,
   "metadata": {
    "collapsed": false
   },
   "outputs": [],
   "source": [
    "dtype = np.int64"
   ]
  },
  {
   "cell_type": "code",
   "execution_count": null,
   "metadata": {
    "collapsed": true
   },
   "outputs": [],
   "source": [
    "phf = ph.astype(dtype)"
   ]
  },
  {
   "cell_type": "code",
   "execution_count": null,
   "metadata": {
    "collapsed": false
   },
   "outputs": [],
   "source": [
    "ratesn = phrates.kde_gaussian_numba(ph, dtype(tau))"
   ]
  },
  {
   "cell_type": "code",
   "execution_count": null,
   "metadata": {
    "collapsed": false
   },
   "outputs": [],
   "source": [
    "ratesc = kde_gaussian_cy(ph, dtype(tau))"
   ]
  },
  {
   "cell_type": "code",
   "execution_count": null,
   "metadata": {
    "collapsed": false
   },
   "outputs": [],
   "source": [
    "assert np.allclose(ratesn, ratesc)"
   ]
  },
  {
   "cell_type": "code",
   "execution_count": null,
   "metadata": {
    "collapsed": false
   },
   "outputs": [],
   "source": [
    "%timeit kde_gaussian_cy(ph, dtype(tau))"
   ]
  },
  {
   "cell_type": "code",
   "execution_count": null,
   "metadata": {
    "collapsed": false
   },
   "outputs": [],
   "source": [
    "%timeit phrates.kde_gaussian_numba(ph, dtype(tau))"
   ]
  },
  {
   "cell_type": "code",
   "execution_count": null,
   "metadata": {
    "collapsed": false
   },
   "outputs": [],
   "source": [
    "ratesn = phrates.kde_laplace_numba(ph, dtype(tau))"
   ]
  },
  {
   "cell_type": "code",
   "execution_count": null,
   "metadata": {
    "collapsed": false
   },
   "outputs": [],
   "source": [
    "ratesc = kde_laplace_cy(ph, dtype(tau))"
   ]
  },
  {
   "cell_type": "code",
   "execution_count": null,
   "metadata": {
    "collapsed": false
   },
   "outputs": [],
   "source": [
    "assert np.allclose(ratesn, ratesc)"
   ]
  },
  {
   "cell_type": "code",
   "execution_count": null,
   "metadata": {
    "collapsed": false
   },
   "outputs": [],
   "source": [
    "%timeit kde_laplace_cy(ph, dtype(tau))"
   ]
  },
  {
   "cell_type": "code",
   "execution_count": null,
   "metadata": {
    "collapsed": false
   },
   "outputs": [],
   "source": [
    "%timeit phrates.kde_laplace_numba(ph, tau)"
   ]
  },
  {
   "cell_type": "markdown",
   "metadata": {
    "collapsed": true
   },
   "source": [
    "# nbKDE"
   ]
  },
  {
   "cell_type": "code",
   "execution_count": null,
   "metadata": {
    "collapsed": false
   },
   "outputs": [],
   "source": [
    "ph"
   ]
  },
  {
   "cell_type": "code",
   "execution_count": null,
   "metadata": {
    "collapsed": true
   },
   "outputs": [],
   "source": [
    "tau = 8000"
   ]
  },
  {
   "cell_type": "code",
   "execution_count": null,
   "metadata": {
    "collapsed": true
   },
   "outputs": [],
   "source": [
    "ratesnn, nphn = phrates.kde_laplace_nph_numba(ph, tau)"
   ]
  },
  {
   "cell_type": "code",
   "execution_count": null,
   "metadata": {
    "collapsed": true
   },
   "outputs": [],
   "source": [
    "ratesn = phrates.kde_laplace_numba(ph, tau)"
   ]
  },
  {
   "cell_type": "code",
   "execution_count": null,
   "metadata": {
    "collapsed": false
   },
   "outputs": [],
   "source": [
    "np.allclose(ratesn, ratesnn)"
   ]
  },
  {
   "cell_type": "code",
   "execution_count": null,
   "metadata": {
    "collapsed": false
   },
   "outputs": [],
   "source": [
    "nbkde, rates5, nph5 = phrates.kde_nbKDE(ph, tau)"
   ]
  },
  {
   "cell_type": "code",
   "execution_count": null,
   "metadata": {
    "collapsed": false
   },
   "outputs": [],
   "source": [
    "nbkde2 = (1 + 2/nphn) * (ratesnn - 1)"
   ]
  },
  {
   "cell_type": "code",
   "execution_count": null,
   "metadata": {
    "collapsed": false
   },
   "outputs": [],
   "source": [
    "assert np.allclose(nbkde, nbkde2)"
   ]
  },
  {
   "cell_type": "code",
   "execution_count": null,
   "metadata": {
    "collapsed": false
   },
   "outputs": [],
   "source": [
    "assert np.all(nph5 == nphn)"
   ]
  },
  {
   "cell_type": "code",
   "execution_count": null,
   "metadata": {
    "collapsed": false
   },
   "outputs": [],
   "source": [
    "assert np.allclose(ratesn, rates5)"
   ]
  },
  {
   "cell_type": "markdown",
   "metadata": {
    "collapsed": true
   },
   "source": [
    "# FRET-2CDE function"
   ]
  },
  {
   "cell_type": "code",
   "execution_count": null,
   "metadata": {
    "collapsed": false
   },
   "outputs": [],
   "source": [
    "tau_s = 50e-6\n",
    "tau = tau_s/d.clk_p\n",
    "tau"
   ]
  },
  {
   "cell_type": "code",
   "execution_count": null,
   "metadata": {
    "collapsed": false
   },
   "outputs": [],
   "source": [
    "phd = d.get_ph_times(ph_sel=Ph_sel(Dex='Dem'))\n",
    "pha = d.get_ph_times(ph_sel=Ph_sel(Dex='Aem'))\n",
    "\n",
    "mask_d = d.get_ph_mask(ph_sel=Ph_sel(Dex='Dem'))\n",
    "mask_a = d.get_ph_mask(ph_sel=Ph_sel(Dex='Aem'))\n",
    "\n",
    "bursts = ds.mburst[0]"
   ]
  },
  {
   "cell_type": "markdown",
   "metadata": {},
   "source": [
    "### KDEs, same size as \"phd\""
   ]
  },
  {
   "cell_type": "code",
   "execution_count": null,
   "metadata": {
    "collapsed": false
   },
   "outputs": [],
   "source": [
    "KDE_ADi = phrates.kde_laplace_numba(pha, tau, time_axis=phd)\n",
    "nbKDE_DDi, _, _ = phrates.kde_nbKDE(phd, tau)"
   ]
  },
  {
   "cell_type": "markdown",
   "metadata": {},
   "source": [
    "### KDEs, same size as \"pha\""
   ]
  },
  {
   "cell_type": "code",
   "execution_count": null,
   "metadata": {
    "collapsed": false
   },
   "outputs": [],
   "source": [
    "KDE_DAi = phrates.kde_laplace_numba(phd, tau, time_axis=pha)\n",
    "nbKDE_AAi, _, _ = phrates.kde_nbKDE(pha, tau)"
   ]
  },
  {
   "cell_type": "markdown",
   "metadata": {},
   "source": [
    "### KDEs, same size as \"ph\""
   ]
  },
  {
   "cell_type": "code",
   "execution_count": null,
   "metadata": {
    "collapsed": false
   },
   "outputs": [],
   "source": [
    "KDE_TTi, nph_TTi = phrates.kde_laplace_nph_numba(ph, tau)\n",
    "KDE_DTi, nph_DTi = phrates.kde_laplace_nph_numba(phd, tau, time_axis=ph)\n",
    "KDE_ATi, nph_ATi = phrates.kde_laplace_nph_numba(pha, tau, time_axis=ph)\n",
    "\n",
    "nbKDE_DTi = (1 + 2/nph_DTi) * (KDE_DTi - 1)\n",
    "nbKDE_ATi = (1 + 2/nph_ATi) * (KDE_ATi - 1)"
   ]
  },
  {
   "cell_type": "code",
   "execution_count": null,
   "metadata": {
    "collapsed": false
   },
   "outputs": [],
   "source": [
    "np.allclose(nbKDE_DTi[mask_d], nbKDE_DDi)"
   ]
  },
  {
   "cell_type": "code",
   "execution_count": null,
   "metadata": {
    "collapsed": false
   },
   "outputs": [],
   "source": [
    "np.allclose(nbKDE_ATi[mask_a], nbKDE_AAi)"
   ]
  },
  {
   "cell_type": "markdown",
   "metadata": {},
   "source": [
    "## KDEs burst by burst"
   ]
  },
  {
   "cell_type": "code",
   "execution_count": null,
   "metadata": {
    "collapsed": false
   },
   "outputs": [],
   "source": [
    "burst = bursts[0]\n",
    "burst"
   ]
  },
  {
   "cell_type": "code",
   "execution_count": null,
   "metadata": {
    "collapsed": false
   },
   "outputs": [],
   "source": [
    "FRET_2CDE = []\n",
    "ED, EA = [], []\n",
    "for ib, burst in enumerate(bursts):\n",
    "    burst_slice = slice(int(burst.istart), int(burst.istop) + 1)\n",
    "\n",
    "    kde_adi = KDE_ATi[burst_slice][mask_d[burst_slice]]\n",
    "    nbkde_ddi = nbKDE_DTi[burst_slice][mask_d[burst_slice]]\n",
    "    N_chd = mask_d[burst_slice].sum()\n",
    "    ED.append(np.sum(kde_adi / (kde_adi + nbkde_ddi)) / N_chd)\n",
    "    assert N_chd == kde_adi.size\n",
    "\n",
    "    kde_dai = KDE_DTi[burst_slice][mask_a[burst_slice]]\n",
    "    nbkde_aai = nbKDE_ATi[burst_slice][mask_a[burst_slice]]\n",
    "    N_cha = mask_a[burst_slice].sum()\n",
    "    EA.append(np.sum(kde_dai / (kde_dai + nbkde_aai)) / N_cha)\n",
    "    assert N_cha == kde_dai.size\n",
    "    \n",
    "    fret_2cde = 110 - 100*(ED[-1] + EA[-1])\n",
    "    FRET_2CDE.append(fret_2cde)\n",
    "FRET_2CDE = np.array(FRET_2CDE)"
   ]
  },
  {
   "cell_type": "code",
   "execution_count": null,
   "metadata": {
    "collapsed": false
   },
   "outputs": [],
   "source": [
    "len(FRET_2CDE), bursts.num_bursts"
   ]
  },
  {
   "cell_type": "code",
   "execution_count": null,
   "metadata": {
    "collapsed": false
   },
   "outputs": [],
   "source": [
    "plt.plot(ds.E[0], FRET_2CDE, 'o', alpha=0.05)"
   ]
  },
  {
   "cell_type": "code",
   "execution_count": null,
   "metadata": {
    "collapsed": false
   },
   "outputs": [],
   "source": [
    "valid = np.isfinite(FRET_2CDE)"
   ]
  },
  {
   "cell_type": "code",
   "execution_count": null,
   "metadata": {
    "collapsed": false
   },
   "outputs": [],
   "source": [
    "fig = plt.figure(figsize=(6,6))\n",
    "sns.kdeplot(ds.E[0][valid], data2=FRET_2CDE[valid], cmap='viridis', shade=True, shade_lowest=False)\n",
    "plt.xlabel('E')\n",
    "plt.ylabel('FRET-2CDE')"
   ]
  },
  {
   "cell_type": "code",
   "execution_count": null,
   "metadata": {
    "collapsed": false
   },
   "outputs": [],
   "source": [
    "fig = plt.figure(figsize=(6,6))\n",
    "plt.hexbin(ds.E[0][valid], FRET_2CDE[valid], gridsize=50, cmap='Spectral_r', mincnt=1)\n",
    "plt.xlabel('E')\n",
    "plt.ylabel('FRET-2CDE')"
   ]
  },
  {
   "cell_type": "code",
   "execution_count": null,
   "metadata": {
    "collapsed": false
   },
   "outputs": [],
   "source": [
    "sns.palplot(sns.color_palette('Spectral_r', 12))"
   ]
  },
  {
   "cell_type": "code",
   "execution_count": null,
   "metadata": {
    "collapsed": true
   },
   "outputs": [],
   "source": [
    "blue = sns.color_palette('Spectral_r', 12)[0]"
   ]
  },
  {
   "cell_type": "code",
   "execution_count": null,
   "metadata": {
    "collapsed": false
   },
   "outputs": [],
   "source": [
    "g = sns.jointplot(ds.E[0], FRET_2CDE, kind='hex', \n",
    "                  joint_kws={'cmap': 'Spectral_r', 'mincnt': 1, 'gridsize': 50},\n",
    "                  marginal_kws={'color': blue,})\n",
    "g.ax_joint.set_xlabel('E')\n",
    "g.ax_joint.set_ylabel('FRET-2CDE')"
   ]
  },
  {
   "cell_type": "code",
   "execution_count": null,
   "metadata": {
    "collapsed": false
   },
   "outputs": [],
   "source": [
    "plt.plot(ph[:1000]*d.clk_p, -KDE_ATi[:1000], color=bpl.red, alpha=0.6)\n",
    "plt.plot(ph[:1000]*d.clk_p,  KDE_DTi[:1000], color=bpl.green, alpha=0.6)\n",
    "plt.xlabel('Time (s)')\n",
    "plt.xlabel('Rate (kcps)')"
   ]
  },
  {
   "cell_type": "code",
   "execution_count": null,
   "metadata": {
    "collapsed": false
   },
   "outputs": [],
   "source": [
    "KDE_TTig = phrates.kde_gaussian_numba(ph, tau)"
   ]
  },
  {
   "cell_type": "code",
   "execution_count": null,
   "metadata": {
    "collapsed": false
   },
   "outputs": [],
   "source": [
    "s = slice(0, 500)\n",
    "fig, ax = plt.subplots(figsize=(16, 3.5))\n",
    "ax.plot(ph[s]*d.clk_p, KDE_TTi[s]/(2*(tau_s*1e3)), 'o', ms=4, alpha=0.6)\n",
    "ax.plot(ph[s]*d.clk_p, KDE_TTig[s]/(2*(tau_s*1e3)), 'o', ms=4, alpha=0.6)\n",
    "ax.set_ylabel('Rate (kcps)')\n",
    "ax.set_xlabel('Time (s)')"
   ]
  },
  {
   "cell_type": "code",
   "execution_count": null,
   "metadata": {
    "collapsed": false
   },
   "outputs": [],
   "source": [
    "t = np.arange(0, 0.1, 0.1e-3)\n",
    "t_clk = t/d.clk_p\n",
    "kde_rates = phrates.kde_laplace_numba(ph, tau, time_axis=t_clk)\n",
    "kde_ratesg = phrates.kde_gaussian_numba(ph, tau, time_axis=t_clk)"
   ]
  },
  {
   "cell_type": "code",
   "execution_count": null,
   "metadata": {
    "collapsed": false
   },
   "outputs": [],
   "source": [
    "fig, ax = plt.subplots(figsize=(16, 3.5))\n",
    "ax.plot(t, kde_rates/(2*(tau_s*1e3)), alpha=0.6)\n",
    "ax.plot(t, kde_ratesg/(2*(tau_s*1e3)), alpha=0.6)\n",
    "ax.set_ylabel('Rate (kcps)')\n",
    "ax.set_xlabel('Time (s)')"
   ]
  },
  {
   "cell_type": "code",
   "execution_count": null,
   "metadata": {
    "collapsed": true
   },
   "outputs": [],
   "source": []
  }
 ],
 "metadata": {
  "kernelspec": {
   "display_name": "Python 3",
   "language": "python",
   "name": "python3"
  },
  "language_info": {
   "codemirror_mode": {
    "name": "ipython",
    "version": 3
   },
   "file_extension": ".py",
   "mimetype": "text/x-python",
   "name": "python",
   "nbconvert_exporter": "python",
   "pygments_lexer": "ipython3",
   "version": "3.5.1"
  }
 },
 "nbformat": 4,
 "nbformat_minor": 0
}
