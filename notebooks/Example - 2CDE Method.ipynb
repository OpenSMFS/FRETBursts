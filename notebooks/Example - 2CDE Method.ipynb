{
 "cells": [
  {
   "cell_type": "markdown",
   "metadata": {},
   "source": [
    "# Example - 2CDE Method\n",
    "\n",
    "*This notebook is part of smFRET burst analysis software [FRETBursts](http://tritemio.github.io/FRETBursts/).*\n",
    "\n",
    "> **Experimental!!! Implementation to be double-checked.** \n",
    ">\n",
    "> This notebook implements the 2CDE method from [Tomov 2012](http://dx.doi.org/10.1016%2Fj.bpj.2011.11.4025)."
   ]
  },
  {
   "cell_type": "markdown",
   "metadata": {},
   "source": [
    "# Load Data"
   ]
  },
  {
   "cell_type": "code",
   "execution_count": null,
   "metadata": {
    "collapsed": false
   },
   "outputs": [],
   "source": [
    "from fretbursts import *\n",
    "from fretbursts.phtools import phrates\n",
    "sns = init_notebook()"
   ]
  },
  {
   "cell_type": "code",
   "execution_count": null,
   "metadata": {
    "collapsed": true
   },
   "outputs": [],
   "source": [
    "import fretbursts as fb"
   ]
  },
  {
   "cell_type": "code",
   "execution_count": null,
   "metadata": {
    "collapsed": false
   },
   "outputs": [],
   "source": [
    "url = 'http://files.figshare.com/2182601/0023uLRpitc_NTP_20dT_0.5GndCl.hdf5'\n",
    "download_file(url, save_dir='./data')"
   ]
  },
  {
   "cell_type": "code",
   "execution_count": null,
   "metadata": {
    "collapsed": true
   },
   "outputs": [],
   "source": [
    "filename = \"data/0023uLRpitc_NTP_20dT_0.5GndCl.hdf5\""
   ]
  },
  {
   "cell_type": "code",
   "execution_count": null,
   "metadata": {
    "collapsed": false
   },
   "outputs": [],
   "source": [
    "d = loader.photon_hdf5(filename)\n",
    "#bpl.plot_alternation_hist(d)\n",
    "loader.alex_apply_period(d)\n",
    "d.calc_bg(fun=bg.exp_fit, time_s=20, tail_min_us='auto', F_bg=1.7)\n",
    "d.burst_search()"
   ]
  },
  {
   "cell_type": "code",
   "execution_count": null,
   "metadata": {
    "collapsed": false
   },
   "outputs": [],
   "source": [
    "ds1 = d.select_bursts(select_bursts.size, th1=20)\n",
    "ds = ds1.select_bursts(select_bursts.naa, th1=20)\n",
    "\n",
    "alex_jointplot(ds)"
   ]
  },
  {
   "cell_type": "code",
   "execution_count": null,
   "metadata": {
    "collapsed": false
   },
   "outputs": [],
   "source": [
    "ph = d.ph_times_m[0]"
   ]
  },
  {
   "cell_type": "code",
   "execution_count": null,
   "metadata": {
    "collapsed": false
   },
   "outputs": [],
   "source": [
    "tau = 100e-6/d.clk_p\n",
    "tau"
   ]
  },
  {
   "cell_type": "markdown",
   "metadata": {},
   "source": [
    "# KDE considerations\n",
    "\n",
    "For start, let's compute the instantaneous photon-rate via KDE on a syntetic timestamps. We compare different kernels: laplace distribution (i.e. exponential), Gaussian and rectangular."
   ]
  },
  {
   "cell_type": "code",
   "execution_count": null,
   "metadata": {
    "collapsed": true
   },
   "outputs": [],
   "source": [
    "tau = 1000"
   ]
  },
  {
   "cell_type": "code",
   "execution_count": null,
   "metadata": {
    "collapsed": false
   },
   "outputs": [],
   "source": [
    "t = np.arange(0, 14000, 1000, dtype=np.int64)\n",
    "tx = np.arange(0, t.max(), 0.01*(t[1] - t[0]), dtype=np.int64)\n",
    "true_rate = (t.size - 1) / t.max()\n",
    "\n",
    "rate_rect = phrates.kde_rect(t, tau, tx)\n",
    "rate_gauss = phrates.kde_gaussian(t, tau, tx)\n",
    "rate_laplace = phrates.kde_laplace(t, tau, tx)\n",
    "\n",
    "fig, ax = plt.subplots(figsize=(17, 4))\n",
    "plot(tx, rate_laplace / (2*tau), label='exp')\n",
    "plot(tx, rate_rect / tau, label='rect')\n",
    "plot(tx, rate_gauss / (2.5*tau), label='gauss')\n",
    "plt.axhline(true_rate, ls='--', color='k')\n",
    "plt.legend(loc='lower center', fontsize=18)\n",
    "sns.distplot(t, rug=True, kde=False, hist=False)"
   ]
  },
  {
   "cell_type": "code",
   "execution_count": null,
   "metadata": {
    "collapsed": false
   },
   "outputs": [],
   "source": [
    "t = np.arange(0, 14000, 2000, dtype=np.int64)\n",
    "tx = np.arange(0, t.max(), 0.01*(t[1] - t[0]), dtype=np.int64)\n",
    "true_rate = (t.size - 1) / t.max()\n",
    "\n",
    "rate_rect = phrates.kde_rect(t, tau, tx)\n",
    "rate_gauss = phrates.kde_gaussian(t, tau, tx)\n",
    "rate_laplace = phrates.kde_laplace(t, tau, tx)\n",
    "\n",
    "fig, ax = plt.subplots(figsize=(17, 4))\n",
    "plot(tx, rate_laplace / (2*tau), label='exp')\n",
    "plot(tx, rate_rect / tau, label='rect')\n",
    "plot(tx, rate_gauss / (2.5*tau), label='gauss')\n",
    "plt.axhline(true_rate, ls='--', color='k')\n",
    "plt.legend(loc='lower center', fontsize=18)\n",
    "sns.distplot(t, rug=True, kde=False, hist=False)"
   ]
  },
  {
   "cell_type": "code",
   "execution_count": null,
   "metadata": {
    "collapsed": false
   },
   "outputs": [],
   "source": [
    "tau = 1000\n",
    "true_rate = 0.001\n",
    "num_times = 14\n",
    "time_max = num_times/true_rate\n",
    "\n",
    "np.random.seed(1)\n",
    "t = np.sort(np.random.randint(low=0, high=time_max, size=num_times))\n",
    "tx = np.arange(0, time_max, 1/(30*true_rate), dtype=np.int64)\n",
    "\n",
    "#r, n = phrates.nb.kde_laplace_nph(t, tau, tx)\n",
    "rate_rect = phrates.kde_rect(t, tau*5, tx)\n",
    "rate_gauss = phrates.kde_gaussian(t, tau, tx)\n",
    "rate_laplace = phrates.kde_laplace(t, tau, tx)\n",
    "\n",
    "fig, ax = plt.subplots(figsize=(17, 4))\n",
    "plot(tx, rate_laplace / (2*tau), label='exp')\n",
    "plot(tx, rate_rect / (5*tau), label='rect')\n",
    "plot(tx, rate_gauss / (2.5*tau), label='gauss')\n",
    "plt.axhline(true_rate, ls='--', color='k')\n",
    "plt.legend(loc='lower center', fontsize=18)\n",
    "sns.distplot(t, rug=True, kde=False, hist=False)"
   ]
  },
  {
   "cell_type": "code",
   "execution_count": null,
   "metadata": {
    "collapsed": false
   },
   "outputs": [],
   "source": [
    "tau = 1\n",
    "tau2 = 2 * (tau**2)\n",
    "\n",
    "xx = np.arange(-4*tau, 4*tau, tau/100)\n",
    "y1 = np.exp(-np.abs(xx) / tau)\n",
    "y2 = np.exp(-xx**2 / tau2)\n",
    "\n",
    "plt.plot(xx,y1, label=r'$\\exp \\left( - \\frac{|t|}{\\tau} \\right)$')\n",
    "plt.plot(xx, y2, label=r'$\\exp \\left( - \\frac{t^2}{2\\tau^2} \\right)$')\n",
    "plt.axvline(2*tau, color='k')\n",
    "plt.axvline(-2*tau, color='k')\n",
    "plt.xlabel('t')\n",
    "plt.legend(fontsize=22, bbox_to_anchor=(1.05, 1), loc=2)\n",
    "plt.title(r'$\\tau = %d$' % tau, fontsize=22);"
   ]
  },
  {
   "cell_type": "markdown",
   "metadata": {},
   "source": [
    "## Notes on Kernel Shape\n",
    "\n",
    "The Gaussian kernel gives a more accurate rate estimation with very little dependence on the position where the KDE is evaluated. On the contrary, with symmetric exponential kernel (laplace distribution), there is always a strong dependence on the evaluation position. In particular, when rates are estimated at the timestamps positions, the rates are systematically over-estimated (i.e. the peak is always samples).\n",
    "\n",
    "For Gaussian kernel, given a $\\tau$, the rate extimation will be accurate for rates higher than $1/(2\\,\\tau)$ counts-per-second. For lower rates, the estimation will strongly depend on where the KDE is evaluated. A similar condition can be also found for the exponential kernel, but this case the rate will aways be strongly dependent on the position."
   ]
  },
  {
   "cell_type": "markdown",
   "metadata": {
    "collapsed": true
   },
   "source": [
    "# 2CDE\n",
    "\n",
    "## KDE and nbKDE definitions\n",
    "\n",
    "Following Tomov 2012 notation, we define *KDE* as ([Tomov 2012, eq. 4](http://dx.doi.org/10.1016%2Fj.bpj.2011.11.4025)):\n",
    "\n",
    "$$KDE_{X_i}^Y \\left(t_{(CHX)_i}, t_{\\{CHY\\}} \\right) = \n",
    "\\sum_j^{N_{CHY}} \\exp \\left( - \\frac{\\lvert t_{(CHX)_i} - t_{(CHY)_j} \\rvert}{\\tau}\\right) $$\n",
    "\n",
    "and *nbKDE* as ([Tomov 2012, eq. 5](http://dx.doi.org/10.1016%2Fj.bpj.2011.11.4025)):\n",
    "\n",
    "$$nbKDE_{X_i}^X \\left(t_{\\{CHX\\}} \\right) = \\left(1 + \\frac{2}{N_{CHX}} \\right) \\cdot\n",
    "\\sum_{j, \\;j\\ne i}^{N_{CHX}} \\exp \\left( - \\frac{\\lvert t_{(CHX)_i} - t_{(CHX)_j} \\rvert}{\\tau}\\right) $$\n",
    "\n",
    "These quantities are computed on the entire timestamp arrays, without selection of burst regions. $N_{CHX}$, in the multiplicatice correction factor of nbKDE, is therefore the \n",
    "number of photons in the entire timestamps array (selecting only photons in the $X$ channel).\n",
    "\n",
    "## FRET-2CDE definition\n",
    "\n",
    "To compute FRET-2CDE we need to define ([Tomov 2012, eq. 6](http://dx.doi.org/10.1016%2Fj.bpj.2011.11.4025)):\n",
    "\n",
    "$$(E)_D = \\frac{1}{N_{CHD}} \\sum_{i=1}^{N_{CHD}} \\frac{KDE_{Di}^A}{KDE_{Di}^A + nbKDE_{Di}^D} $$\n",
    "\n",
    "and the symmetric estimator ([Tomov 2012, eq. 7](http://dx.doi.org/10.1016%2Fj.bpj.2011.11.4025)):\n",
    "\n",
    "$$(1 - E)_A = \\frac{1}{N_{CHA}} \\sum_{i=1}^{N_{CHA}} \\frac{KDE_{Ai}^D}{KDE_{Ai}^D + nbKDE_{Ai}^A} $$\n",
    "\n",
    "Then *FRET-2CDE* is defined as ([Tomov 2012, eq. 8](http://dx.doi.org/10.1016%2Fj.bpj.2011.11.4025)):\n",
    "\n",
    "$$ FRET-2CDE \\left( t_{CHD}, t_{CHA} \\right) = \n",
    "110 - 100 \\cdot \\left[ (E)_D + (1 - E)_A \\right]\n",
    "$$\n",
    "\n",
    "These quantities are computed for each burst, so that $N_{CHD}$ ($N_{CHA}$) are\n",
    "the number of photons in the DexDem (AemDex) channel during current burst."
   ]
  },
  {
   "cell_type": "markdown",
   "metadata": {},
   "source": [
    "## FRET-2CDE Implementation"
   ]
  },
  {
   "cell_type": "code",
   "execution_count": null,
   "metadata": {
    "collapsed": false
   },
   "outputs": [],
   "source": [
    "tau_s = 50e-6\n",
    "tau = int(tau_s/d.clk_p)\n",
    "tau"
   ]
  },
  {
   "cell_type": "code",
   "execution_count": null,
   "metadata": {
    "collapsed": false
   },
   "outputs": [],
   "source": [
    "ph = d.get_ph_times(ph_sel=Ph_sel('all'))\n",
    "mask_d = d.get_ph_mask(ph_sel=Ph_sel(Dex='Dem'))\n",
    "mask_a = d.get_ph_mask(ph_sel=Ph_sel(Dex='Aem'))\n",
    "\n",
    "bursts = ds.mburst[0]"
   ]
  },
  {
   "cell_type": "code",
   "execution_count": null,
   "metadata": {
    "collapsed": false
   },
   "outputs": [],
   "source": [
    "def calc_fret_2cde(tau, ph, mask_d, mask_a, bursts):\n",
    "    \"\"\"\n",
    "    Compute FRET-2CDE for each burst.\n",
    "    \n",
    "    Reference: Tomov et al. BJ (2012) doi:10.1016/j.bpj.2011.11.4025\n",
    "    \n",
    "    Arguments:\n",
    "        tau (scalar): time-constant of the exponential KDE\n",
    "        ph (1D array): array of all-photons timestamps.\n",
    "        mask_d (bool array): mask for DexDem photons\n",
    "        mask_a (bool array): mask for DexAem photons\n",
    "        bursts (Bursts object): object containing burst data \n",
    "            (start-stop indexes are relative to `ph`).\n",
    "        \n",
    "    Returns:\n",
    "        FRET_2CDE (1D array): array of FRET_2CDE quantities, one element per burst.\n",
    "    \"\"\"\n",
    "    # Computing KDE burst-by-burst would cause inaccuracies at the edges\n",
    "    # So, we compute KDE for the full timestamps\n",
    "    KDE_DTi = phrates.kde_laplace(ph[mask_d], tau, time_axis=ph)\n",
    "    KDE_ATi = phrates.kde_laplace(ph[mask_a], tau, time_axis=ph)\n",
    "\n",
    "    # nbKDE does not include the \"center\" timestamp which contributes 1.\n",
    "    # Therefore we substract 1 from precomputed KDEs\n",
    "    # The normalization factor contains the number or photons\n",
    "    # in the entire photon stream used to compute the KDE.\n",
    "    N_CHD = mask_d.sum()\n",
    "    N_CHA = mask_a.sum()\n",
    "    nbKDE_DTi = (1 + 2/N_CHD) * (KDE_DTi - 1)\n",
    "    nbKDE_ATi = (1 + 2/N_CHA) * (KDE_ATi - 1)\n",
    "    \n",
    "    FRET_2CDE = []\n",
    "    for ib, burst in enumerate(bursts):\n",
    "        burst_slice = slice(int(burst.istart), int(burst.istop) + 1)\n",
    "\n",
    "        kde_adi = KDE_ATi[burst_slice][mask_d[burst_slice]]\n",
    "        nbkde_ddi = nbKDE_DTi[burst_slice][mask_d[burst_slice]]\n",
    "        # Here I assume that N_CHD of eq. 6 in (Tomov 2012) is the \n",
    "        # number of DexDem photons in current burst, therefore the sum \n",
    "        # is a mean (over non-NaNs elements)\n",
    "        ED = np.nanmean(kde_adi / (kde_adi + nbkde_ddi))  # (E)_D \n",
    "    \n",
    "        kde_dai = KDE_DTi[burst_slice][mask_a[burst_slice]]\n",
    "        nbkde_aai = nbKDE_ATi[burst_slice][mask_a[burst_slice]]\n",
    "        # Likewise for N_CHA of eq. 7 in (Tomov 2012). \n",
    "        # See previous comment.\n",
    "        EA = np.nanmean(kde_dai / (kde_dai + nbkde_aai))  # (1 - E)_A \n",
    "\n",
    "        fret_2cde = 110 - 100 * (ED + EA)\n",
    "        FRET_2CDE.append(fret_2cde)\n",
    "    return np.array(FRET_2CDE)"
   ]
  },
  {
   "cell_type": "code",
   "execution_count": null,
   "metadata": {
    "collapsed": false
   },
   "outputs": [],
   "source": [
    "def calc_fret_2cde_gauss(tau, ph, mask_d, mask_a, bursts):\n",
    "    \"\"\"\n",
    "    Compute a modification of FRET-2CDE using a Gaussian kernel.\n",
    "    \n",
    "    Reference: Tomov et al. BJ (2012) doi:10.1016/j.bpj.2011.11.4025\n",
    "    \n",
    "    Instead of using the exponetial kernel (i.e. laplace distribution)\n",
    "    of the original paper, here we use a Gaussian kernel which has\n",
    "    better properties and avoids over-estimation when evaluating the\n",
    "    KDE at the timestamps positions. This removes the need of using\n",
    "    the euristic correction (pre-factor) in nbKDE.\n",
    "    \n",
    "    Arguments:\n",
    "        tau (scalar): time-constant of the exponential KDE\n",
    "        ph (1D array): array of all-photons timestamps.\n",
    "        mask_d (bool array): mask for DexDem photons\n",
    "        mask_a (bool array): mask for DexAem photons\n",
    "        bursts (Bursts object): object containing burst data\n",
    "        \n",
    "    Returns:\n",
    "        FRET_2CDE (1D array): array of FRET_2CDE quantities, one element per burst.\n",
    "    \"\"\"\n",
    "    # Computing KDE burst-by-burst would cause inaccuracies at the edges\n",
    "    # So, we compute KDE for the full timestamps\n",
    "    KDE_DTi = phrates.kde_gaussian(ph[mask_d], tau, time_axis=ph)\n",
    "    KDE_ATi = phrates.kde_gaussian(ph[mask_a], tau, time_axis=ph)\n",
    "\n",
    "    FRET_2CDE = []\n",
    "    for ib, burst in enumerate(bursts):\n",
    "        burst_slice = slice(int(burst.istart), int(burst.istop) + 1)\n",
    "\n",
    "        kde_ddi = KDE_DTi[burst_slice][mask_d[burst_slice]]\n",
    "        kde_adi = KDE_ATi[burst_slice][mask_d[burst_slice]]\n",
    "        ED = np.nanmean(kde_adi / (kde_adi + kde_ddi))\n",
    "    \n",
    "        kde_dai = KDE_DTi[burst_slice][mask_a[burst_slice]]\n",
    "        kde_aai = KDE_ATi[burst_slice][mask_a[burst_slice]]\n",
    "        EA = np.nanmean(kde_dai / (kde_dai + kde_aai))\n",
    "\n",
    "        fret_2cde = 110 - 100 * (ED + EA)\n",
    "        FRET_2CDE.append(fret_2cde)\n",
    "    return np.array(FRET_2CDE)"
   ]
  },
  {
   "cell_type": "code",
   "execution_count": null,
   "metadata": {
    "collapsed": false
   },
   "outputs": [],
   "source": [
    "fret_2cde = calc_fret_2cde(tau, ph, mask_d, mask_a, bursts)"
   ]
  },
  {
   "cell_type": "code",
   "execution_count": null,
   "metadata": {
    "collapsed": false
   },
   "outputs": [],
   "source": [
    "fret_2cde_gauss = calc_fret_2cde_gauss(tau, ph, mask_d, mask_a, bursts)"
   ]
  },
  {
   "cell_type": "code",
   "execution_count": null,
   "metadata": {
    "collapsed": false
   },
   "outputs": [],
   "source": [
    "len(fret_2cde), bursts.num_bursts"
   ]
  },
  {
   "cell_type": "code",
   "execution_count": null,
   "metadata": {
    "collapsed": false
   },
   "outputs": [],
   "source": [
    "len(fret_2cde_gauss), bursts.num_bursts"
   ]
  },
  {
   "cell_type": "code",
   "execution_count": null,
   "metadata": {
    "collapsed": false
   },
   "outputs": [],
   "source": [
    "plt.plot(ds.E[0], fret_2cde, 'o', alpha=0.05)"
   ]
  },
  {
   "cell_type": "code",
   "execution_count": null,
   "metadata": {
    "collapsed": false
   },
   "outputs": [],
   "source": [
    "valid = np.isfinite(fret_2cde)\n",
    "print('Number of bursts (removing NaNs):', valid.sum())\n",
    "fig = plt.figure(figsize=(6,6))\n",
    "sns.kdeplot(ds.E[0][valid], data2=fret_2cde[valid], cmap='viridis', shade=True, shade_lowest=False)\n",
    "plt.xlabel('E')\n",
    "plt.ylabel('FRET-2CDE');"
   ]
  },
  {
   "cell_type": "code",
   "execution_count": null,
   "metadata": {
    "collapsed": false
   },
   "outputs": [],
   "source": [
    "valid = np.isfinite(fret_2cde_gauss)\n",
    "print('Number of bursts (removing NaNs):', valid.sum())\n",
    "fig = plt.figure(figsize=(6,6))\n",
    "sns.kdeplot(ds.E[0][valid], data2=fret_2cde_gauss[valid], cmap='viridis', shade=True, shade_lowest=False)\n",
    "plt.xlabel('E')\n",
    "plt.ylabel('FRET-2CDE');"
   ]
  },
  {
   "cell_type": "code",
   "execution_count": null,
   "metadata": {
    "collapsed": false
   },
   "outputs": [],
   "source": [
    "g = sns.jointplot(ds.E[0], fret_2cde, kind='hex', \n",
    "                  joint_kws={'cmap': 'viridis', 'mincnt': 1, 'gridsize': 40})\n",
    "g.ax_joint.set_xlabel('E')\n",
    "g.ax_joint.set_ylabel('FRET-2CDE');"
   ]
  },
  {
   "cell_type": "code",
   "execution_count": null,
   "metadata": {
    "collapsed": false
   },
   "outputs": [],
   "source": [
    "g = sns.jointplot(ds.E[0], fret_2cde_gauss, kind='hex', \n",
    "                  joint_kws={'cmap': 'viridis', 'mincnt': 1, 'gridsize': 40})\n",
    "g.ax_joint.set_xlabel('E')\n",
    "g.ax_joint.set_ylabel('FRET-2CDE');"
   ]
  },
  {
   "cell_type": "code",
   "execution_count": null,
   "metadata": {
    "collapsed": false
   },
   "outputs": [],
   "source": [
    "alex_jointplot(ds)"
   ]
  },
  {
   "cell_type": "code",
   "execution_count": null,
   "metadata": {
    "collapsed": true
   },
   "outputs": [],
   "source": []
  }
 ],
 "metadata": {
  "kernelspec": {
   "display_name": "Python 3",
   "language": "python",
   "name": "python3"
  },
  "language_info": {
   "codemirror_mode": {
    "name": "ipython",
    "version": 3
   },
   "file_extension": ".py",
   "mimetype": "text/x-python",
   "name": "python",
   "nbconvert_exporter": "python",
   "pygments_lexer": "ipython3",
   "version": "3.5.1"
  }
 },
 "nbformat": 4,
 "nbformat_minor": 0
}
