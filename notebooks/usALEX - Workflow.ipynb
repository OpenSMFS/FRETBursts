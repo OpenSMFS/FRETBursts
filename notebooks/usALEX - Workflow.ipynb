{
 "metadata": {
  "name": "",
  "signature": "sha256:6ba71d61364c3bb175f67ed6d6014bc7cf437a94d1027cbe71778c65ae54c5b7"
 },
 "nbformat": 3,
 "nbformat_minor": 0,
 "worksheets": [
  {
   "cells": [
    {
     "cell_type": "markdown",
     "metadata": {},
     "source": [
      "#usALEX Workflow\n",
      "\n",
      "> *Here we show a typical workflow of usALEX analysis. Briefly, we will perform background estimation, burst search, \n",
      "> burst selection, FRET histograms, ALEX histograms, sub-population selection and FRET fit.*"
     ]
    },
    {
     "cell_type": "markdown",
     "metadata": {},
     "source": [
      "# Data load"
     ]
    },
    {
     "cell_type": "markdown",
     "metadata": {},
     "source": [
      "We start loading the **`fretburtsts`** software:"
     ]
    },
    {
     "cell_type": "code",
     "collapsed": false,
     "input": [
      "%run load_fretbursts.py"
     ],
     "language": "python",
     "metadata": {},
     "outputs": []
    },
    {
     "cell_type": "markdown",
     "metadata": {},
     "source": [
      "The last line tells the exact software revision. This can be used for long term reproducibility, a crucial problem in science. Moreover knowing the revision allows to easily track software regressions."
     ]
    },
    {
     "cell_type": "markdown",
     "metadata": {},
     "source": [
      "Now we can select a data-file by pasting its name in a variable or by using a conventinal GUI dialog. In either case we'll end up with the full file name store in `full_fname`."
     ]
    },
    {
     "cell_type": "markdown",
     "metadata": {},
     "source": [
      "##Option 1: Paste the file-name"
     ]
    },
    {
     "cell_type": "markdown",
     "metadata": {},
     "source": [
      "We can define a variable containig the file name to be loaded:"
     ]
    },
    {
     "cell_type": "code",
     "collapsed": false,
     "input": [
      "file_name = \"0023uLRpitc_NTP_20dT_0.5GndCl.sm\""
     ],
     "language": "python",
     "metadata": {},
     "outputs": []
    },
    {
     "cell_type": "markdown",
     "metadata": {},
     "source": [
      "we concatenate the data folder with the file name (the full file name is `folder_name` + `file_name`):"
     ]
    },
    {
     "cell_type": "code",
     "collapsed": false,
     "input": [
      "folder_name = NOTEBOOK_DIR + '/data/'\n",
      "full_fname = folder_name + file_name\n",
      "full_fname"
     ],
     "language": "python",
     "metadata": {},
     "outputs": []
    },
    {
     "cell_type": "markdown",
     "metadata": {},
     "source": [
      "##Option 2: Select a file with a GUI"
     ]
    },
    {
     "cell_type": "markdown",
     "metadata": {},
     "source": [
      "Uncomment these 3 lines to select a file with a GUI:"
     ]
    },
    {
     "cell_type": "code",
     "collapsed": false,
     "input": [
      "# %gui qt"
     ],
     "language": "python",
     "metadata": {},
     "outputs": []
    },
    {
     "cell_type": "code",
     "collapsed": false,
     "input": [
      "# full_fname = gui_fname()\n",
      "# %matplotlib inline"
     ],
     "language": "python",
     "metadata": {},
     "outputs": []
    },
    {
     "cell_type": "markdown",
     "metadata": {},
     "source": [
      "##Load the selected file"
     ]
    },
    {
     "cell_type": "markdown",
     "metadata": {},
     "source": [
      "We can finally load the measurement and store it variable called `d` (no much fantasy eh?). We can assign bleed-through or leakage (`BT`) coefficient and $\\gamma$-factor (`gamma`). These are optional and can be changed later:"
     ]
    },
    {
     "cell_type": "code",
     "collapsed": false,
     "input": [
      "d = loader.usalex(fname=full_fname, BT=0.11, gamma=1., )"
     ],
     "language": "python",
     "metadata": {},
     "outputs": []
    },
    {
     "cell_type": "markdown",
     "metadata": {},
     "source": [
      "# usALEX parameters"
     ]
    },
    {
     "cell_type": "markdown",
     "metadata": {},
     "source": [
      "A this point in `d` we have only the timestamps (`ph_times_t`) and the detector numbers (`det_t`):"
     ]
    },
    {
     "cell_type": "code",
     "collapsed": false,
     "input": [
      "d.ph_times_t, d.det_t"
     ],
     "language": "python",
     "metadata": {},
     "outputs": []
    },
    {
     "cell_type": "markdown",
     "metadata": {},
     "source": [
      "We need to define some ALEX parameters: \n",
      "\n",
      "- donor and acceptor channels (`det_donor_accept`)\n",
      "- length of excitation period (`alex_period`)\n",
      "- donor and acceptor excitation windows (`D_ON` and `A_ON`)"
     ]
    },
    {
     "cell_type": "code",
     "collapsed": false,
     "input": [
      "d.add(det_donor_accept=(0, 1), alex_period=4000, D_ON=(2850, 580), A_ON=(900, 2580))"
     ],
     "language": "python",
     "metadata": {},
     "outputs": []
    },
    {
     "cell_type": "markdown",
     "metadata": {},
     "source": [
      "We should check with the alternation histogram if everything is OK :"
     ]
    },
    {
     "cell_type": "code",
     "collapsed": false,
     "input": [
      "bpl.plot_alternation_hist(d)"
     ],
     "language": "python",
     "metadata": {},
     "outputs": []
    },
    {
     "cell_type": "markdown",
     "metadata": {},
     "source": [
      "And, once the parameters are correct, we can apply them with:"
     ]
    },
    {
     "cell_type": "code",
     "collapsed": false,
     "input": [
      "loader.usalex_apply_period(d)"
     ],
     "language": "python",
     "metadata": {},
     "outputs": []
    },
    {
     "cell_type": "markdown",
     "metadata": {},
     "source": [
      "##Measurement infos"
     ]
    },
    {
     "cell_type": "markdown",
     "metadata": {},
     "source": [
      "All the measurement data is in the `d` variable. We can print it:"
     ]
    },
    {
     "cell_type": "code",
     "collapsed": false,
     "input": [
      "d"
     ],
     "language": "python",
     "metadata": {},
     "outputs": []
    },
    {
     "cell_type": "markdown",
     "metadata": {},
     "source": [
      "Or check the **measurement duration**:"
     ]
    },
    {
     "cell_type": "code",
     "collapsed": false,
     "input": [
      "d.time_max()"
     ],
     "language": "python",
     "metadata": {},
     "outputs": []
    },
    {
     "cell_type": "markdown",
     "metadata": {},
     "source": [
      "# Background estimation"
     ]
    },
    {
     "cell_type": "markdown",
     "metadata": {},
     "source": [
      "As a first step of the analysis we need to estimate the background.\n",
      "\n",
      "Let start with a standard background fit:"
     ]
    },
    {
     "cell_type": "code",
     "collapsed": false,
     "input": [
      "d.calc_bg(bg.exp_fit, time_s=1000, tail_min_us=500)"
     ],
     "language": "python",
     "metadata": {},
     "outputs": []
    },
    {
     "cell_type": "code",
     "collapsed": false,
     "input": [
      "dplot(d, hist_bg_fit, bins=r_[0:9000:50], t_min_us=500)"
     ],
     "language": "python",
     "metadata": {},
     "outputs": []
    },
    {
     "cell_type": "markdown",
     "metadata": {},
     "source": [
      "This can be ok. \n",
      "\n",
      "Optionally, we can further optimize the threshold for each channel to make the fit better:"
     ]
    },
    {
     "cell_type": "code",
     "collapsed": false,
     "input": [
      "d.calc_bg(bg.exp_fit, time_s=3000, tail_min_us=(800, 4000, 1500, 3000))"
     ],
     "language": "python",
     "metadata": {},
     "outputs": []
    },
    {
     "cell_type": "code",
     "collapsed": false,
     "input": [
      "dplot(d, hist_bg_fit, bins=r_[0:12000:50], t_min_us=2000)"
     ],
     "language": "python",
     "metadata": {},
     "outputs": []
    },
    {
     "cell_type": "code",
     "collapsed": false,
     "input": [
      "d.rate_m, d.rate_dd, d.rate_ad, d.rate_aa"
     ],
     "language": "python",
     "metadata": {},
     "outputs": []
    },
    {
     "cell_type": "markdown",
     "metadata": {},
     "source": [
      "#Burst analysis"
     ]
    },
    {
     "cell_type": "markdown",
     "metadata": {},
     "source": [
      "First step of burst analysis is the burst search. \n",
      "\n",
      "We'll use the sliding-window algorithm on (Donor + Acceptor) photons durind donor excitation.\n",
      "\n",
      "Here the command:"
     ]
    },
    {
     "cell_type": "code",
     "collapsed": false,
     "input": [
      "d.burst_search_t(L=10, m=10, P=None, F=7, ph_sel='DA')"
     ],
     "language": "python",
     "metadata": {},
     "outputs": []
    },
    {
     "cell_type": "markdown",
     "metadata": {},
     "source": [
      "and we can plot the resulting FRET histogram:"
     ]
    },
    {
     "cell_type": "code",
     "collapsed": false,
     "input": [
      "dplot(d, hist_fret);"
     ],
     "language": "python",
     "metadata": {},
     "outputs": []
    },
    {
     "cell_type": "markdown",
     "metadata": {},
     "source": [
      "All the pre-defined plots follow this pattern: \n",
      "call the generic `dplot()` function, passing 2 parameter:\n",
      "\n",
      "- the measurement data (`d` in this case) \n",
      "- the plot function (`hist_fret`)\n",
      "\n",
      "In some case we can add other optional parameters to tweak the plot.\n",
      "\n",
      "All the plot functions start with `hist_` for histograms, `scatter_` for scatter-plots  or `timetrace_` for plots function of measurement time. You can use autocompletion to find all the plot function or you can look in `bursts_plot.py` where all the plot functions are defined."
     ]
    },
    {
     "cell_type": "markdown",
     "metadata": {},
     "source": [
      "Instead of `hist_fret` we can use `hist_fret_kde` to add a [KDE](http://en.wikipedia.org/wiki/Kernel_density_estimation) overlay. Also, we can plot a **weighted histogram** passing an additional parameter `weights`:"
     ]
    },
    {
     "cell_type": "code",
     "collapsed": false,
     "input": [
      "dplot(d, hist_fret_kde);\n",
      "dplot(d, hist_fret_kde, weights='size');\n",
      "dplot(d, hist_fret_kde, weights='cum_size');"
     ],
     "language": "python",
     "metadata": {},
     "outputs": []
    },
    {
     "cell_type": "code",
     "collapsed": false,
     "input": [
      "dplot(d, hist_fret_kde, weights='size');"
     ],
     "language": "python",
     "metadata": {},
     "outputs": []
    },
    {
     "cell_type": "markdown",
     "metadata": {},
     "source": [
      "We can experiment with different weighting schema (for all supported weights see `get_weigths()` function in `fret_fit.py`). For example let try one that uses the [cumulative distribution function (CDF)](http://en.wikipedia.org/wiki/Cumulative_distribution_function) of burst-sizes (`cum_size`). Basically each burst has a weight equal to the CDF evauated at its burst size:"
     ]
    },
    {
     "cell_type": "markdown",
     "metadata": {},
     "source": [
      "We can now select bursts larger than a threshold (20 photons):"
     ]
    },
    {
     "cell_type": "code",
     "collapsed": false,
     "input": [
      "ds = Sel(d, select_bursts.nda, th1=30)"
     ],
     "language": "python",
     "metadata": {},
     "outputs": []
    },
    {
     "cell_type": "markdown",
     "metadata": {},
     "source": [
      "Similar to the plot functions, all the selection function are defined in `bursts_selection.py` and all start with `select_bursts_`, so you can list them with autocompletion.\n",
      "\n",
      "Let replot the FRET histogram after selection (note that we pass `ds` that contains the selected bursts):"
     ]
    },
    {
     "cell_type": "code",
     "collapsed": false,
     "input": [
      "dplot(ds, hist_fret_kde);"
     ],
     "language": "python",
     "metadata": {},
     "outputs": []
    },
    {
     "cell_type": "code",
     "collapsed": false,
     "input": [
      "dplot(d, kde_fret);\n",
      "#dplot(ds, kde_fret, weights='size');\n",
      "dplot(d, kde_fret, weights='cum_size');"
     ],
     "language": "python",
     "metadata": {},
     "outputs": []
    },
    {
     "cell_type": "code",
     "collapsed": false,
     "input": [
      "dplot(ds, hist_fret);\n",
      "dplot(ds, hist_fret, weights='size');\n",
      "#dplot(ds, kde_fret, weights='cum_size');"
     ],
     "language": "python",
     "metadata": {},
     "outputs": []
    },
    {
     "cell_type": "code",
     "collapsed": false,
     "input": [
      "dplot(ds, hist_size, bins=r_[10:1000:20])"
     ],
     "language": "python",
     "metadata": {},
     "outputs": []
    },
    {
     "cell_type": "code",
     "collapsed": false,
     "input": [
      "dplot(ds, scatter_fret_nd_na)"
     ],
     "language": "python",
     "metadata": {},
     "outputs": []
    },
    {
     "cell_type": "code",
     "collapsed": false,
     "input": [
      "ds2 = Sel(ds, select_bursts.nda, th2=300)"
     ],
     "language": "python",
     "metadata": {},
     "outputs": []
    },
    {
     "cell_type": "code",
     "collapsed": false,
     "input": [
      "ax, _ = dplot(ds2, hist_fret, weights='size')\n",
      "dplot(ds, hist_fret, weights='size', ax=ax, facecolor='r', alpha=0.4)"
     ],
     "language": "python",
     "metadata": {},
     "outputs": []
    },
    {
     "cell_type": "code",
     "collapsed": false,
     "input": [
      "ax, _ = dplot(ds2, hist_fret, weights='cum_size')\n",
      "dplot(ds, hist_fret, weights='cum_size', ax=ax, facecolor='r', alpha=0.4)"
     ],
     "language": "python",
     "metadata": {},
     "outputs": []
    },
    {
     "cell_type": "code",
     "collapsed": false,
     "input": [
      "ax, _ = dplot(ds2, kde_fret, weights='size')\n",
      "dplot(ds, kde_fret, weights='size', ax=ax, facecolor='r', alpha=0.4)"
     ],
     "language": "python",
     "metadata": {},
     "outputs": []
    },
    {
     "cell_type": "markdown",
     "metadata": {},
     "source": [
      "We can make a simple E-S scatter plot with `scatter_alex`:"
     ]
    },
    {
     "cell_type": "code",
     "collapsed": false,
     "input": [
      "dplot(ds, scatter_alex, figsize=(4,4), mew=3, ms=8, mec='black', color='purple')"
     ],
     "language": "python",
     "metadata": {},
     "outputs": []
    },
    {
     "cell_type": "markdown",
     "metadata": {},
     "source": [
      "We can also plot the ALEX histogram with `hist2d_alex`:"
     ]
    },
    {
     "cell_type": "code",
     "collapsed": false,
     "input": [
      "dplot(ds, hist2d_alex);"
     ],
     "language": "python",
     "metadata": {},
     "outputs": []
    },
    {
     "cell_type": "markdown",
     "metadata": {},
     "source": [
      "We can try get rid of the large donor-only population simply selecting burst with at least 4 photons in the acceptor channel (during donor excitation):"
     ]
    },
    {
     "cell_type": "code",
     "collapsed": false,
     "input": [
      "ds2 = Sel(ds, select_bursts.naa(, th1=4, add_naa=True)\n",
      "dplot(ds2, hist2d_alex());\n",
      "dplot(ds2, hist_fret);"
     ],
     "language": "python",
     "metadata": {},
     "outputs": []
    },
    {
     "cell_type": "markdown",
     "metadata": {},
     "source": [
      "Much better, but we want to select a region on the E/S histogram to completely eliminate the donor-only.\n",
      "\n",
      "To select bursts graphically we need to open the ALEX histogram in a new (QT) window, and then dragging the mouse will show a selection on the histogram and print here the selection parameters. When you are done you can close the additional window and continue the execution."
     ]
    },
    {
     "cell_type": "code",
     "collapsed": false,
     "input": [
      "#%qtconsole"
     ],
     "language": "python",
     "metadata": {},
     "outputs": []
    },
    {
     "cell_type": "code",
     "collapsed": false,
     "input": [
      "%matplotlib qt"
     ],
     "language": "python",
     "metadata": {},
     "outputs": []
    },
    {
     "cell_type": "code",
     "collapsed": false,
     "input": [
      "dplot(ds, hist2d_alex, gui_sel=True)"
     ],
     "language": "python",
     "metadata": {},
     "outputs": []
    },
    {
     "cell_type": "code",
     "collapsed": false,
     "input": [
      "bpl.get_ES_range();"
     ],
     "language": "python",
     "metadata": {},
     "outputs": []
    },
    {
     "cell_type": "code",
     "collapsed": false,
     "input": [
      "%matplotlib inline"
     ],
     "language": "python",
     "metadata": {},
     "outputs": []
    },
    {
     "cell_type": "markdown",
     "metadata": {},
     "source": [
      "Now we can apply another selection, this time not on the size but on the E/S values. The function is syntax is the same:"
     ]
    },
    {
     "cell_type": "code",
     "collapsed": false,
     "input": [
      "d_fret_mix = Sel(ds, select_bursts.ESe, E1=-0.07, E2=1.17, S1=0.24, S2=0.75)"
     ],
     "language": "python",
     "metadata": {},
     "outputs": []
    },
    {
     "cell_type": "markdown",
     "metadata": {},
     "source": [
      "Plotting againg the FRET histogram we can double chect that the selection has been applied:"
     ]
    },
    {
     "cell_type": "code",
     "collapsed": false,
     "input": [
      "dplot(d_fret_mix, hist2d_alex)"
     ],
     "language": "python",
     "metadata": {},
     "outputs": []
    },
    {
     "cell_type": "markdown",
     "metadata": {},
     "source": [
      "Now we can further separate high- and low FRET sub-populations. We can go back to the GUI "
     ]
    },
    {
     "cell_type": "code",
     "collapsed": false,
     "input": [
      "%matplotlib qt"
     ],
     "language": "python",
     "metadata": {},
     "outputs": []
    },
    {
     "cell_type": "code",
     "collapsed": false,
     "input": [
      "dplot(d_fret_mix, hist2d_alex, gui_sel=True)"
     ],
     "language": "python",
     "metadata": {},
     "outputs": []
    },
    {
     "cell_type": "code",
     "collapsed": false,
     "input": [
      "bpl.get_ES_range();"
     ],
     "language": "python",
     "metadata": {},
     "outputs": []
    },
    {
     "cell_type": "code",
     "collapsed": false,
     "input": [
      "bpl.get_ES_range();"
     ],
     "language": "python",
     "metadata": {},
     "outputs": []
    },
    {
     "cell_type": "code",
     "collapsed": false,
     "input": [
      "%matplotlib inline"
     ],
     "language": "python",
     "metadata": {},
     "outputs": []
    },
    {
     "cell_type": "code",
     "collapsed": false,
     "input": [
      "d_high_fret = Sel(d_fret_mix, select_bursts.ESe, E1=0.65, E2=1.09, S1=-0.13, S2=0.96)\n",
      "d_low_fret = Sel(d_fret_mix, select_bursts.ESe, E1=-0.19, E2=0.64, S1=-0.05, S2=0.92)"
     ],
     "language": "python",
     "metadata": {},
     "outputs": []
    },
    {
     "cell_type": "code",
     "collapsed": false,
     "input": [
      "dplot(d_high_fret, hist2d_alex);"
     ],
     "language": "python",
     "metadata": {},
     "outputs": []
    },
    {
     "cell_type": "code",
     "collapsed": false,
     "input": [
      "dplot(d_low_fret, hist2d_alex);"
     ],
     "language": "python",
     "metadata": {},
     "outputs": []
    },
    {
     "cell_type": "markdown",
     "metadata": {},
     "source": [
      "We can for example compute the ratio of high- and low-fret bursts:"
     ]
    },
    {
     "cell_type": "code",
     "collapsed": false,
     "input": [
      "1.*d_low_fret.num_bu()/d_high_fret.num_bu()"
     ],
     "language": "python",
     "metadata": {},
     "outputs": []
    },
    {
     "cell_type": "markdown",
     "metadata": {},
     "source": [
      "##Burst Width analysis"
     ]
    },
    {
     "cell_type": "markdown",
     "metadata": {},
     "source": [
      "To plot a burst-width histogram we can just use `hist_width` instead of `hist_fret`:"
     ]
    },
    {
     "cell_type": "code",
     "collapsed": false,
     "input": [
      "dplot(d_low_fret, hist_width)"
     ],
     "language": "python",
     "metadata": {},
     "outputs": []
    },
    {
     "cell_type": "markdown",
     "metadata": {},
     "source": [
      "Let use a larger bin size, plots two sub-populations (in different color) and add a legend:"
     ]
    },
    {
     "cell_type": "code",
     "collapsed": false,
     "input": [
      "ax, _ = dplot(d_high_fret, hist_width, bins=r_[0:10:0.2], color='g')\n",
      "dplot(d_low_fret, hist_width, bins=r_[0:10:0.2], ax=ax, color='r')\n",
      "plt.legend(['High-FRET population', 'Low-FRET population'])"
     ],
     "language": "python",
     "metadata": {},
     "outputs": []
    },
    {
     "cell_type": "markdown",
     "metadata": {},
     "source": [
      "Finally we compute the mean burst width for each subpopulation:"
     ]
    },
    {
     "cell_type": "code",
     "collapsed": false,
     "input": [
      "mean_b_width_low_fret  = bl.b_width(d_low_fret.mburst[0]).mean()*d_low_fret.clk_p*1e3\n",
      "mean_b_width_high_fret = bl.b_width(d_high_fret.mburst[0]).mean()*d_high_fret.clk_p*1e3\n",
      "\n",
      "print 'Mean burst width: %.1f ms (high-fret), %.1f (low-fret)' % (mean_b_width_high_fret, mean_b_width_low_fret)"
     ],
     "language": "python",
     "metadata": {},
     "outputs": []
    },
    {
     "cell_type": "markdown",
     "metadata": {},
     "source": [
      "#Fret fit"
     ]
    },
    {
     "cell_type": "markdown",
     "metadata": {},
     "source": [
      "We can fit any population with 1 or 2 gaussians. For example here we fit the FRET selection (2 FRET sub-population) with 2 gaussians. We can specify constrains (boundaries) for the parameters. Since we are doing a 2-Gaussian fit we have 5 parameters (in this order):\n",
      "\n",
      "$$[\\mu_1, \\;\\sigma_1, \\;\\mu_2, \\;\\sigma_2, \\;a]$$\n",
      "\n",
      "that are mean and standard deviation for the two gaussian and the fraction of the first (lower mean) gaussian. The bounds are expressed as a list of 5 (min, max) values indicating the allowed range for each parameter:"
     ]
    },
    {
     "cell_type": "code",
     "collapsed": false,
     "input": [
      "d_fret_mix.fit_E_generic(fit_fun=bl.two_gaussian_fit_hist_min,\n",
      "                  bounds=[(0.3, 0.5), (0.02, 0.2), (0.65, 0.9), (0.02, 0.2), (0.5,0.9)])"
     ],
     "language": "python",
     "metadata": {},
     "outputs": []
    },
    {
     "cell_type": "markdown",
     "metadata": {},
     "source": [
      "After the fit the numerical values of the parametrs are stored in the attribute `.fit_E_res`:"
     ]
    },
    {
     "cell_type": "code",
     "collapsed": false,
     "input": [
      "d_fret_mix.fit_E_res"
     ],
     "language": "python",
     "metadata": {},
     "outputs": []
    },
    {
     "cell_type": "markdown",
     "metadata": {},
     "source": [
      "Now we can plot the fitted function on top of the FRET histogram by adding `show_fit=True` parameter:"
     ]
    },
    {
     "cell_type": "code",
     "collapsed": false,
     "input": [
      "dplot(d_fret_mix, hist_fret, show_fit=True)"
     ],
     "language": "python",
     "metadata": {},
     "outputs": []
    },
    {
     "cell_type": "code",
     "collapsed": false,
     "input": [],
     "language": "python",
     "metadata": {},
     "outputs": []
    },
    {
     "cell_type": "code",
     "collapsed": false,
     "input": [],
     "language": "python",
     "metadata": {},
     "outputs": []
    },
    {
     "cell_type": "markdown",
     "metadata": {},
     "source": [
      "##Advanced plots"
     ]
    },
    {
     "cell_type": "markdown",
     "metadata": {},
     "source": [
      "Here some other plots to compare the effect of weighting on the FRET fit:"
     ]
    },
    {
     "cell_type": "code",
     "collapsed": false,
     "input": [
      "weights = None\n",
      "d_fret_mix.fit_E_generic(fit_fun=bl.two_gaussian_fit_hist_min, weights=weights,\n",
      "                  bounds=[(0.3, 0.5), (0.02, 0.2), (0.65, 0.9), (0.02, 0.2), (0.5,0.9)])\n",
      "dplot(d_fret_mix, hist_fret, show_fit=True, weights=weights, fit_alpha=0.9)\n",
      "\n",
      "weights = 'size'\n",
      "d_fret_mix.fit_E_generic(fit_fun=bl.two_gaussian_fit_hist_min, weights=weights,\n",
      "                  bounds=[(0.3, 0.5), (0.02, 0.2), (0.65, 0.9), (0.02, 0.2), (0.5,0.9)])\n",
      "dplot(d_fret_mix, hist_fret, show_fit=True, weights=weights, fit_alpha=0.9)"
     ],
     "language": "python",
     "metadata": {},
     "outputs": []
    },
    {
     "cell_type": "code",
     "collapsed": false,
     "input": [
      "weights = None\n",
      "d_fret_mix.fit_E_generic(fit_fun=bl.two_gaussian_fit_hist_min, weights=weights,\n",
      "                  bounds=[(0.3, 0.5), (0.02, 0.2), (0.65, 0.9), (0.02, 0.2), (0.5,0.9)])\n",
      "ax, _ = dplot(d_fret_mix, hist_fret, show_fit=True, weights=weights, fit_alpha=0.9)\n",
      "\n",
      "weights = 'size'\n",
      "d_fret_mix.fit_E_generic(fit_fun=bl.two_gaussian_fit_hist_min, weights=weights,\n",
      "                  bounds=[(0.3, 0.5), (0.02, 0.2), (0.65, 0.9), (0.02, 0.2), (0.5,0.9)])\n",
      "dplot(d_fret_mix, hist_fret, show_fit=True, weights=weights, ax=ax, ec='r', fc='r', alpha=0.3, fit_alpha=0.9)"
     ],
     "language": "python",
     "metadata": {},
     "outputs": []
    },
    {
     "cell_type": "code",
     "collapsed": false,
     "input": [
      "%matplotlib qt"
     ],
     "language": "python",
     "metadata": {},
     "outputs": []
    },
    {
     "cell_type": "code",
     "collapsed": false,
     "input": [
      "dplot(d, ratetrace_da, scroll=True)"
     ],
     "language": "python",
     "metadata": {},
     "outputs": []
    },
    {
     "cell_type": "code",
     "collapsed": false,
     "input": [
      "plt.ylim(-5e5, 5e5)"
     ],
     "language": "python",
     "metadata": {},
     "outputs": []
    },
    {
     "cell_type": "code",
     "collapsed": false,
     "input": [
      "dplot(d, timetrace_da, scroll=True, bins=6e5)"
     ],
     "language": "python",
     "metadata": {},
     "outputs": []
    },
    {
     "cell_type": "code",
     "collapsed": false,
     "input": [
      "plt.ylim(-100, 100)"
     ],
     "language": "python",
     "metadata": {},
     "outputs": []
    },
    {
     "cell_type": "code",
     "collapsed": false,
     "input": [],
     "language": "python",
     "metadata": {},
     "outputs": []
    },
    {
     "cell_type": "markdown",
     "metadata": {},
     "source": [
      "#Stash area"
     ]
    },
    {
     "cell_type": "markdown",
     "metadata": {},
     "source": [
      "You can paste in this section commands you want to remember."
     ]
    },
    {
     "cell_type": "code",
     "collapsed": false,
     "input": [
      "# Plots in a new windows (interactive)\n",
      "%matplotlib qt"
     ],
     "language": "python",
     "metadata": {},
     "outputs": []
    },
    {
     "cell_type": "code",
     "collapsed": false,
     "input": [
      "# Plots inside the notebook\n",
      "%matplotlib inline"
     ],
     "language": "python",
     "metadata": {},
     "outputs": []
    },
    {
     "cell_type": "code",
     "collapsed": false,
     "input": [
      "%cd $NOTEBOOK_DIR"
     ],
     "language": "python",
     "metadata": {},
     "outputs": []
    },
    {
     "cell_type": "code",
     "collapsed": false,
     "input": [
      "from IPython.core.display import HTML\n",
      "HTML(open(\"./styles/custom2.css\", \"r\").read())"
     ],
     "language": "python",
     "metadata": {},
     "outputs": []
    },
    {
     "cell_type": "code",
     "collapsed": false,
     "input": [],
     "language": "python",
     "metadata": {},
     "outputs": []
    },
    {
     "cell_type": "code",
     "collapsed": false,
     "input": [],
     "language": "python",
     "metadata": {},
     "outputs": []
    }
   ],
   "metadata": {}
  }
 ]
}