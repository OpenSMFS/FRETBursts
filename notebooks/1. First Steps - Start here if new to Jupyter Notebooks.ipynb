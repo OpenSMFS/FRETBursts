{
 "cells": [
  {
   "cell_type": "markdown",
   "metadata": {},
   "source": [
    "# 1. Welcome to Jupyter Notebook\n",
    "*This notebook is part of [FRETBursts](http://tritemio.github.io/FRETBursts/) burst analysis software.*\n",
    "\n",
    "> **Welcome!** You are reading a *Jupyter Notebook*, a document containing \n",
    "> narrative, code and the output of code execution. Here you will find a \n",
    "> few basic instructions on running FRETBursts notebooks."
   ]
  },
  {
   "cell_type": "markdown",
   "metadata": {},
   "source": [
    "## How to run it?\n",
    "\n",
    "The notebook is composed by \"text cells\", such as this paragraph, and \"code cells\"\n",
    "containing the code to be executed (and identified by an `In [ ]` prompt). \n",
    "\n",
    "To execute a code cell, select it and press SHIFT+ENTER. \n",
    "To modify a cell, click on it to enter \"edit mode\" (indicated by a green frame), \n",
    "than type. When your are done, SHIFT+ENTER will end the editing.\n",
    "\n",
    "You can also execute the entire notebook in a single step by using \n",
    "the menu *Cell* -> *Run All*.\n",
    "\n",
    "As an example, try to run the following code cell:"
   ]
  },
  {
   "cell_type": "code",
   "execution_count": 3,
   "metadata": {
    "collapsed": false
   },
   "outputs": [
    {
     "data": {
      "text/plain": [
       "4"
      ]
     },
     "execution_count": 3,
     "metadata": {},
     "output_type": "execute_result"
    }
   ],
   "source": [
    "2 + 2"
   ]
  },
  {
   "cell_type": "markdown",
   "metadata": {},
   "source": [
    "Finally, for a mini-tour of the various interface elements\n",
    "click on menu *Help* -> *User Interface Tour*."
   ]
  },
  {
   "cell_type": "markdown",
   "metadata": {},
   "source": [
    "# 2. Data files \n",
    "\n",
    "Each FRETBursts notebook is setup to download and analyze a sample data \n",
    "file. To use your own data file, you need to paste its name in the\n",
    "`filename` variable in the FRETBursts notebook of your choice.\n",
    "\n",
    "If you are running the notebook online, you need to upload \n",
    "the file first. The procedure is different depending on the \n",
    "size of your file.\n",
    "\n",
    "## Online: upload files under 35 MB\n",
    "\n",
    "Data files up to ~35 MB you can be directly uploaded from the dashboard.\n",
    "Just go back to the *Home Tab* and click on the **Upload** botton on the \n",
    "top right. \n",
    "\n",
    "## Online: upload files over 35 MB\n",
    "\n",
    "For large files (>35 MB) the upload button will not work.\n",
    "In this case you have to upload the file somewhere on the internet first,\n",
    "and then copy the file URL in the `url` variable in the\n",
    "FRETBursts notebook you want to use.\n"
   ]
  },
  {
   "cell_type": "markdown",
   "metadata": {},
   "source": [
    "# 4.  Installation\n",
    "\n",
    "To execute notebooks on your own computer you need to install the *Jupyter Notebook* application. \n",
    "\n",
    "For installation and first steps refer to:\n",
    "\n",
    "- [Jupyter Notebook Quick-Start Guide](http://jupyter-notebook-beginner-guide.readthedocs.org) "
   ]
  },
  {
   "cell_type": "code",
   "execution_count": null,
   "metadata": {
    "collapsed": true
   },
   "outputs": [],
   "source": []
  }
 ],
 "metadata": {
  "kernelspec": {
   "display_name": "Python 3",
   "language": "python",
   "name": "python3"
  },
  "language_info": {
   "codemirror_mode": {
    "name": "ipython",
    "version": 3
   },
   "file_extension": ".py",
   "mimetype": "text/x-python",
   "name": "python",
   "nbconvert_exporter": "python",
   "pygments_lexer": "ipython3",
   "version": "3.5.1"
  }
 },
 "nbformat": 4,
 "nbformat_minor": 0
}
