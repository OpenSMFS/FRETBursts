{
 "cells": [
  {
   "cell_type": "markdown",
   "metadata": {},
   "source": [
    "# Example - usALEX histogram\n",
    "\n",
    "*This notebook is part of smFRET burst analysis software [FRETBursts](http://tritemio.github.io/FRETBursts/).*"
   ]
  },
  {
   "cell_type": "markdown",
   "metadata": {},
   "source": [
    "> In this notebook shows how to plot different styles of us-ALEX histograms and $E$ and $S$ marginal distributions.\n",
    "> For a complete tutorial on burst analysis see \n",
    "> [FRETBursts - us-ALEX smFRET burst analysis](FRETBursts - us-ALEX smFRET burst analysis.ipynb)."
   ]
  },
  {
   "cell_type": "markdown",
   "metadata": {},
   "source": [
    "# Load software\n",
    "\n",
    "## FRETBursts"
   ]
  },
  {
   "cell_type": "code",
   "execution_count": null,
   "metadata": {
    "collapsed": false
   },
   "outputs": [],
   "source": [
    "from fretbursts import *"
   ]
  },
  {
   "cell_type": "code",
   "execution_count": null,
   "metadata": {
    "collapsed": false
   },
   "outputs": [],
   "source": [
    "sns = init_notebook()"
   ]
  },
  {
   "cell_type": "markdown",
   "metadata": {},
   "source": [
    "## Interactive widgets"
   ]
  },
  {
   "cell_type": "code",
   "execution_count": null,
   "metadata": {
    "collapsed": false
   },
   "outputs": [],
   "source": [
    "from IPython.html.widgets import interact, interactive, fixed\n",
    "from IPython.html import widgets\n",
    "from IPython.display import display, display_png, display_svg, clear_output\n",
    "from IPython.core.pylabtools import print_figure"
   ]
  },
  {
   "cell_type": "markdown",
   "metadata": {},
   "source": [
    "# Download the sample file"
   ]
  },
  {
   "cell_type": "code",
   "execution_count": null,
   "metadata": {
    "collapsed": false
   },
   "outputs": [],
   "source": [
    "url = 'http://files.figshare.com/2182601/0023uLRpitc_NTP_20dT_0.5GndCl.hdf5'\n",
    "download_file(url, save_dir='./data')"
   ]
  },
  {
   "cell_type": "markdown",
   "metadata": {},
   "source": [
    "# Select a data file"
   ]
  },
  {
   "cell_type": "code",
   "execution_count": null,
   "metadata": {
    "collapsed": false
   },
   "outputs": [],
   "source": [
    "file_name = \"0023uLRpitc_NTP_20dT_0.5GndCl.hdf5\"\n",
    "\n",
    "# Here the folder is the subfolder \"data\" of current notebook folder\n",
    "folder_name = './data/'\n",
    "full_fname = folder_name + file_name\n",
    "full_fname"
   ]
  },
  {
   "cell_type": "markdown",
   "metadata": {},
   "source": [
    "Let's check that the file exists:"
   ]
  },
  {
   "cell_type": "code",
   "execution_count": null,
   "metadata": {
    "collapsed": false
   },
   "outputs": [],
   "source": [
    "import os\n",
    "if os.path.isfile(full_fname):\n",
    "    print(\"Perfect, I found the file!\")\n",
    "else:\n",
    "    print(\"Sorry, I can't find the file:\\n\", full_fname)"
   ]
  },
  {
   "cell_type": "markdown",
   "metadata": {},
   "source": [
    "# Load the selected file"
   ]
  },
  {
   "cell_type": "code",
   "execution_count": null,
   "metadata": {
    "collapsed": false
   },
   "outputs": [],
   "source": [
    "d = loader.photon_hdf5(full_fname)\n",
    "#d.add(det_donor_accept=(0, 1), alex_period=4000, \n",
    "#      offset=700, D_ON=(2180, 3900), A_ON=(200, 1800))\n",
    "bpl.plot_alternation_hist(d)\n",
    "loader.alex_apply_period(d)\n",
    "d.calc_bg(bg.exp_fit, time_s=1000, tail_min_us=(800, 4000, 1500, 1000, 3000))"
   ]
  },
  {
   "cell_type": "markdown",
   "metadata": {},
   "source": [
    "# Burst search"
   ]
  },
  {
   "cell_type": "code",
   "execution_count": null,
   "metadata": {
    "collapsed": false
   },
   "outputs": [],
   "source": [
    "d.burst_search(L=10, m=10, F=6)\n",
    "ds = Sel(d, select_bursts.size, add_naa=True, th1=30)"
   ]
  },
  {
   "cell_type": "code",
   "execution_count": null,
   "metadata": {
    "collapsed": false
   },
   "outputs": [],
   "source": [
    "#dplot(ds, hist_fret)\n",
    "#dplot(ds, hist_S);"
   ]
  },
  {
   "cell_type": "code",
   "execution_count": null,
   "metadata": {
    "collapsed": false
   },
   "outputs": [],
   "source": [
    "#ds.E_fitter.fit_histogram(mfit.factory_three_gaussians())"
   ]
  },
  {
   "cell_type": "markdown",
   "metadata": {},
   "source": [
    "# ALEX plots\n",
    "\n",
    "## Basics"
   ]
  },
  {
   "cell_type": "markdown",
   "metadata": {},
   "source": [
    "We can make a simple E-S scatter plot with `scatter_alex`:"
   ]
  },
  {
   "cell_type": "code",
   "execution_count": null,
   "metadata": {
    "collapsed": false
   },
   "outputs": [],
   "source": [
    "dplot(ds, scatter_alex, figsize=(4,4), mew=1, ms=4, mec='black', color='purple');"
   ]
  },
  {
   "cell_type": "markdown",
   "metadata": {},
   "source": [
    "We can also plot the ALEX histogram with a scatterplot overlay using `hist2d_alex`:"
   ]
  },
  {
   "cell_type": "code",
   "execution_count": null,
   "metadata": {
    "collapsed": false
   },
   "outputs": [],
   "source": [
    "dplot(ds, hist2d_alex);"
   ]
  },
  {
   "cell_type": "markdown",
   "metadata": {},
   "source": [
    "# Colormaps\n",
    "\n",
    "Here we plot a small selection of [Matplotlib's colormaps](http://matplotlib.org/users/colormaps.html):"
   ]
  },
  {
   "cell_type": "code",
   "execution_count": null,
   "metadata": {
    "collapsed": true
   },
   "outputs": [],
   "source": [
    "cmaps = ['viridis', 'plasma', 'inferno', 'magma',\n",
    "         'afmhot', 'Blues', 'BuGn', 'BuPu', 'GnBu', 'YlGnBu',\n",
    "         'coolwarm', 'RdYlBu', 'RdYlGn', 'Spectral']"
   ]
  },
  {
   "cell_type": "code",
   "execution_count": null,
   "metadata": {
    "collapsed": true
   },
   "outputs": [],
   "source": [
    "def plot_color_gradients(cmap_list):\n",
    "    gradient = np.linspace(0, 1, 256)\n",
    "    gradient = np.vstack((gradient, gradient))\n",
    "    fig, axes = plt.subplots(nrows=len(cmap_list))\n",
    "    fig.subplots_adjust(top=0.95, bottom=0.01, left=0.2, right=0.99)\n",
    "    for ax, name in zip(axes, cmap_list):\n",
    "        ax.imshow(gradient, aspect='auto', cmap=plt.get_cmap(name))\n",
    "        pos = list(ax.get_position().bounds)\n",
    "        x_text = pos[0] - 0.01\n",
    "        y_text = pos[1] + pos[3]/2.\n",
    "        fig.text(x_text, y_text, name, va='center', ha='right')\n",
    "    for ax in axes:\n",
    "        ax.set_axis_off()"
   ]
  },
  {
   "cell_type": "code",
   "execution_count": null,
   "metadata": {
    "collapsed": false
   },
   "outputs": [],
   "source": [
    "plot_color_gradients(cmaps)"
   ]
  },
  {
   "cell_type": "markdown",
   "metadata": {},
   "source": [
    "# ALEX Joint Plot"
   ]
  },
  {
   "cell_type": "code",
   "execution_count": null,
   "metadata": {
    "collapsed": false
   },
   "outputs": [],
   "source": [
    "sns.set_style('darkgrid')"
   ]
  },
  {
   "cell_type": "code",
   "execution_count": null,
   "metadata": {
    "collapsed": false
   },
   "outputs": [],
   "source": [
    "# Fit E and S to a model and compute KDE\n",
    "bext.bursts_fitter(ds, 'E', binwidth=0.03, bandwidth=0.03, model=mfit.factory_three_gaussians())\n",
    "bext.bursts_fitter(ds, 'S', binwidth=0.03, bandwidth=0.03, model=mfit.factory_two_gaussians())"
   ]
  },
  {
   "cell_type": "code",
   "execution_count": null,
   "metadata": {
    "collapsed": true
   },
   "outputs": [],
   "source": [
    "# Limiting the range of E and S works better for 2D KDE plots\n",
    "dss = ds.select_bursts(select_bursts.ES, E1=-0.2, E2=1.2, S1=-0.2, S2=1.2)"
   ]
  },
  {
   "cell_type": "code",
   "execution_count": null,
   "metadata": {
    "collapsed": true
   },
   "outputs": [],
   "source": [
    "# Remove D-only and A-only through burst selection\n",
    "dssf = dss.select_bursts(select_bursts.size, th1=20)\n",
    "dssf = dssf.select_bursts(select_bursts.naa, th1=20)"
   ]
  },
  {
   "cell_type": "markdown",
   "metadata": {},
   "source": [
    "Just a test plot:"
   ]
  },
  {
   "cell_type": "code",
   "execution_count": null,
   "metadata": {
    "collapsed": false
   },
   "outputs": [],
   "source": [
    "E, S = dss.E_, dss.S_\n",
    "fig, ax = plt.subplots(figsize=(6, 6))\n",
    "sns.kdeplot(E, S, shade=True, n_levels=30, cmap='alex_dark', shade_lowest=False)\n",
    "plt.xlim(-0.19, 1.19)\n",
    "plt.ylim(-0.19, 1.19)"
   ]
  },
  {
   "cell_type": "code",
   "execution_count": null,
   "metadata": {
    "collapsed": false
   },
   "outputs": [],
   "source": [
    "plt.imshow(np.arange(100).reshape(10, 10), cmap='alex_dark')"
   ]
  },
  {
   "cell_type": "markdown",
   "metadata": {},
   "source": [
    "## Joint plots\n",
    "\n",
    "Here we show several jointplots. \n",
    "The argument `joint_kws` is reported with typical keywords\n",
    "used to customize the 2-D (inner) plot.\n",
    "FRETBursts defines 'alex_light' and 'alex_dark' colormaps in addition to\n",
    "the matplotlib and seaborn ones. \n",
    "\n",
    "You can inver matplotlib colormaps appending `_r` to the name. For the full list see [matplotlib colormaps](http://matplotlib.org/users/colormaps.html)."
   ]
  },
  {
   "cell_type": "code",
   "execution_count": null,
   "metadata": {
    "collapsed": false
   },
   "outputs": [],
   "source": [
    "alex_jointplot(ds, kind='scatter', cmap='Blues_r',\n",
    "               joint_kws=dict(s=40, alpha=0.1, linewidths=0))"
   ]
  },
  {
   "cell_type": "code",
   "execution_count": null,
   "metadata": {
    "collapsed": false
   },
   "outputs": [],
   "source": [
    "alex_jointplot(dss, kind='kde', cmap='viridis',\n",
    "               joint_kws=dict(shade=True, shade_lowest=False, n_levels=30))"
   ]
  },
  {
   "cell_type": "code",
   "execution_count": null,
   "metadata": {
    "collapsed": false
   },
   "outputs": [],
   "source": [
    "alex_jointplot(ds, kind='hex', cmap='alex_dark',\n",
    "               joint_kws=dict(edgecolor='grey', linewidth=0.2, gridsize=50))"
   ]
  },
  {
   "cell_type": "code",
   "execution_count": null,
   "metadata": {
    "collapsed": false
   },
   "outputs": [],
   "source": [
    "alex_jointplot(ds, kind='hex', cmap='inferno',\n",
    "               joint_kws=dict(edgecolor='none', linewidth=0.001, gridsize=50))"
   ]
  },
  {
   "cell_type": "code",
   "execution_count": null,
   "metadata": {
    "collapsed": false
   },
   "outputs": [],
   "source": [
    "alex_jointplot(dss, kind='kde', cmap='RdYlBu_r')"
   ]
  },
  {
   "cell_type": "code",
   "execution_count": null,
   "metadata": {
    "collapsed": false
   },
   "outputs": [],
   "source": [
    "alex_jointplot(dssf, kind='kde', cmap='inferno',\n",
    "               joint_kws=dict(shade=True, shade_lowest=False, n_levels=20))"
   ]
  },
  {
   "cell_type": "code",
   "execution_count": null,
   "metadata": {
    "collapsed": false
   },
   "outputs": [],
   "source": [
    "alex_jointplot(ds, joint_kws = dict(edgecolor='gray'))\n",
    "\n",
    "alex_jointplot(ds, joint_kws = {})"
   ]
  },
  {
   "cell_type": "code",
   "execution_count": null,
   "metadata": {
    "collapsed": false
   },
   "outputs": [],
   "source": [
    "alex_jointplot(ds)\n",
    "#plt.savefig('ALEX_jointplot.png', dpi=160, bbox_inches='tight')"
   ]
  },
  {
   "cell_type": "code",
   "execution_count": null,
   "metadata": {
    "collapsed": false
   },
   "outputs": [],
   "source": [
    "alex_jointplot(ds, cmap='inferno')"
   ]
  },
  {
   "cell_type": "code",
   "execution_count": null,
   "metadata": {
    "collapsed": false
   },
   "outputs": [],
   "source": [
    "sns.set_style('whitegrid')"
   ]
  },
  {
   "cell_type": "code",
   "execution_count": null,
   "metadata": {
    "collapsed": false
   },
   "outputs": [],
   "source": [
    "alex_jointplot(ds)"
   ]
  },
  {
   "cell_type": "markdown",
   "metadata": {},
   "source": [
    "## Interactive plot"
   ]
  },
  {
   "cell_type": "code",
   "execution_count": null,
   "metadata": {
    "collapsed": false
   },
   "outputs": [],
   "source": [
    "sns.set_style('darkgrid')"
   ]
  },
  {
   "cell_type": "code",
   "execution_count": null,
   "metadata": {
    "collapsed": false
   },
   "outputs": [],
   "source": [
    "@interact(cmap_compensate = False,\n",
    "          overlay = widgets.RadioButtons(values=['fit model', 'KDE']),\n",
    "          binwidth = widgets.FloatText(value=0.03, min=0.01, max=1),\n",
    "          bandwidth = widgets.FloatText(value=0.03, min=0.01, max=1),\n",
    "          gridsize = (10, 100),\n",
    "          min_size=(10, 500, 5),\n",
    "          cmap=widgets.Dropdown(value='RdYlBu', options=cmaps),\n",
    "          reverse_cmap = True,\n",
    "          vmax_fret = True,\n",
    "          )\n",
    "def plot_(min_size=50, cmap_compensate=False, overlay='KDE', binwidth=0.03, bandwidth=0.03, gridsize=50, cmap='YlGnBu_crop', \n",
    "          reverse_cmap=False, vmax_fret=True):\n",
    "    dx = Sel(d, select_bursts.size, add_naa=True, th1=min_size)\n",
    "    bext.bursts_fitter(dx, 'E', binwidth=binwidth, bandwidth=bandwidth, \n",
    "                       model=mfit.factory_three_gaussians())\n",
    "    bext.bursts_fitter(dx, 'S', binwidth=binwidth, bandwidth=bandwidth, \n",
    "                       model=mfit.factory_two_gaussians())    \n",
    "    \n",
    "    if reverse_cmap: cmap += '_r'\n",
    "\n",
    "    if binwidth < 0.01: binwidth = 0.01\n",
    "    if bandwidth < 0.01: bandwidth = 0.01\n",
    "    if overlay == 'fit model':\n",
    "        marginal_kws = dict(binwidth=binwidth, show_model=True)\n",
    "    else:\n",
    "        marginal_kws = dict(binwidth=binwidth, show_kde=True, bandwidth=bandwidth)\n",
    "    histcolor = sns.color_palette(cmap, 12)[1]\n",
    "    marginal_kws['hist_bar_style'] = dict(facecolor=histcolor, edgecolor='k', linewidth=0.2)  \n",
    "    alex_jointplot(dx, cmap=cmap, gridsize=gridsize, vmax_fret=vmax_fret, \n",
    "                   cmap_compensate=cmap_compensate, \n",
    "                   marginal_kws=marginal_kws, \n",
    "                   joint_kws=dict(edgecolor='grey', lw=0.2))\n",
    "    \n",
    "    fig = gcf()\n",
    "    plt.close()\n",
    "    display(fig)"
   ]
  },
  {
   "cell_type": "code",
   "execution_count": null,
   "metadata": {
    "collapsed": false
   },
   "outputs": [],
   "source": []
  }
 ],
 "metadata": {
  "kernelspec": {
   "display_name": "Python 3",
   "language": "python",
   "name": "python3"
  },
  "language_info": {
   "codemirror_mode": {
    "name": "ipython",
    "version": 3
   },
   "file_extension": ".py",
   "mimetype": "text/x-python",
   "name": "python",
   "nbconvert_exporter": "python",
   "pygments_lexer": "ipython3",
   "version": "3.5.1"
  }
 },
 "nbformat": 4,
 "nbformat_minor": 0
}
