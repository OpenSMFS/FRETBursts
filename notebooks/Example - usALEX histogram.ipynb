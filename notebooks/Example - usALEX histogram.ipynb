{
 "metadata": {
  "name": "",
  "signature": "sha256:91f89ff6456dd6ca74293ec0814ada443107e5d9bd456f47f5e1b564a927f691"
 },
 "nbformat": 3,
 "nbformat_minor": 0,
 "worksheets": [
  {
   "cells": [
    {
     "cell_type": "markdown",
     "metadata": {},
     "source": [
      "#Example - usALEX histogram\n",
      "\n",
      "*This notebook is part of smFRET burst analysis software [FRETBursts](http://tritemio.github.io/FRETBursts/).*"
     ]
    },
    {
     "cell_type": "markdown",
     "metadata": {},
     "source": [
      "> In this notebook shows how to plot different styles of us-ALEX histograms and $E$ and $S$ marginal distributions.\n",
      "> For a complete tutorial on burst analysis see \n",
      "> [FRETBursts - us-ALEX smFRET burst analysis](FRETBursts - us-ALEX smFRET burst analysis.ipynb)."
     ]
    },
    {
     "cell_type": "markdown",
     "metadata": {},
     "source": [
      "# Load software\n",
      "\n",
      "## FRETBursts"
     ]
    },
    {
     "cell_type": "code",
     "collapsed": false,
     "input": [
      "%run load_fretbursts.py --nogui"
     ],
     "language": "python",
     "metadata": {},
     "outputs": []
    },
    {
     "cell_type": "markdown",
     "metadata": {},
     "source": [
      "## Interactive widgets and plot styles"
     ]
    },
    {
     "cell_type": "code",
     "collapsed": false,
     "input": [
      "from IPython.html.widgets import interact, interactive, fixed\n",
      "from IPython.html import widgets\n",
      "from IPython.display import display, display_png, display_svg, clear_output\n",
      "from IPython.core.pylabtools import print_figure\n",
      "\n",
      "import seaborn as sns\n",
      "sns.set_style('darkgrid')\n",
      "fs = 13\n",
      "rc={'font.size': fs, 'axes.labelsize': fs, 'legend.fontsize': fs, \n",
      "    'axes.titlesize': fs*1.1, 'xtick.labelsize': fs, 'ytick.labelsize': fs,\n",
      "    'savefig.dpi': 70, \n",
      "    #'figure.figsize': (6, 4),\n",
      "    #'axes.facecolor': '0.95', 'axes.edgecolor': '0.85', 'grid.color': '0.85', \n",
      "    #'axes.linewidth': 1,    \n",
      "}\n",
      "sns.set(rc=rc)\n",
      "blue = '#0055d4'\n",
      "green = '#2ca02c'\n",
      "red = \"#e74c3c\"\n",
      "purple = \"#9b59b6\"\n",
      "color_brewer = sns.color_palette(\"Set1\", 9)\n",
      "colors = np.array(color_brewer)[(1,0,2,3,4,8,6,7), :]\n",
      "colors = list(colors)\n",
      "colors[:3] = (blue, colors[1], green)\n",
      "sns.set_palette(colors, 8)\n",
      "#sns.palplot(sns.color_palette(colors, 8))"
     ],
     "language": "python",
     "metadata": {},
     "outputs": []
    },
    {
     "cell_type": "markdown",
     "metadata": {},
     "source": [
      "#Download the sample file"
     ]
    },
    {
     "cell_type": "code",
     "collapsed": false,
     "input": [
      "url = 'http://files.figshare.com/1643813/0023uLRpitc_NTP_20dT_0.5GndCl.hdf5'\n",
      "download_file(url, save_dir=NOTEBOOK_DIR + '/data')"
     ],
     "language": "python",
     "metadata": {},
     "outputs": []
    },
    {
     "cell_type": "markdown",
     "metadata": {},
     "source": [
      "# Select a data file"
     ]
    },
    {
     "cell_type": "code",
     "collapsed": false,
     "input": [
      "file_name = \"0023uLRpitc_NTP_20dT_0.5GndCl.hdf5\"\n",
      "\n",
      "# Here the folder is the subfolder \"data\" of current notebook folder\n",
      "folder_name = NOTEBOOK_DIR + '/data/'\n",
      "full_fname = folder_name + file_name\n",
      "full_fname"
     ],
     "language": "python",
     "metadata": {},
     "outputs": []
    },
    {
     "cell_type": "markdown",
     "metadata": {},
     "source": [
      "Let's check that the file exists:"
     ]
    },
    {
     "cell_type": "code",
     "collapsed": false,
     "input": [
      "if os.path.isfile(full_fname):\n",
      "    print \"Perfect, I found the file!\"\n",
      "else:\n",
      "    print \"Sorry, I can't find the file:\\n\", full_fname"
     ],
     "language": "python",
     "metadata": {},
     "outputs": []
    },
    {
     "cell_type": "markdown",
     "metadata": {},
     "source": [
      "# Load the selected file"
     ]
    },
    {
     "cell_type": "code",
     "collapsed": false,
     "input": [
      "d = loader.hdf5(fname=full_fname)\n",
      "d.add(det_donor_accept=(0, 1), alex_period=4000, D_ON=(2850, 580), A_ON=(900, 2580))\n",
      "bpl.plot_alternation_hist(d)\n",
      "loader.usalex_apply_period(d)\n",
      "d.calc_bg(bg.exp_fit, time_s=1000, tail_min_us=(800, 4000, 1500, 1000, 3000))"
     ],
     "language": "python",
     "metadata": {},
     "outputs": []
    },
    {
     "cell_type": "markdown",
     "metadata": {},
     "source": [
      "#Burst search"
     ]
    },
    {
     "cell_type": "code",
     "collapsed": false,
     "input": [
      "d.burst_search_t(L=10, m=10, F=6)\n",
      "ds = Sel(d, select_bursts.size, add_naa=True, th1=30)"
     ],
     "language": "python",
     "metadata": {},
     "outputs": []
    },
    {
     "cell_type": "code",
     "collapsed": false,
     "input": [
      "dplot(ds, hist_fret)\n",
      "dplot(ds, hist_S);"
     ],
     "language": "python",
     "metadata": {},
     "outputs": []
    },
    {
     "cell_type": "code",
     "collapsed": false,
     "input": [
      "ds.E_fitter.fit_histogram(mfit.factory_three_gaussians())"
     ],
     "language": "python",
     "metadata": {},
     "outputs": []
    },
    {
     "cell_type": "markdown",
     "metadata": {},
     "source": [
      "# ALEX plots\n",
      "\n",
      "##\u00a0Basics"
     ]
    },
    {
     "cell_type": "markdown",
     "metadata": {},
     "source": [
      "We can make a simple E-S scatter plot with `scatter_alex`:"
     ]
    },
    {
     "cell_type": "code",
     "collapsed": false,
     "input": [
      "dplot(ds, scatter_alex, figsize=(4,4), mew=1, ms=4, mec='black', color='purple');"
     ],
     "language": "python",
     "metadata": {},
     "outputs": []
    },
    {
     "cell_type": "markdown",
     "metadata": {},
     "source": [
      "We can also plot the ALEX histogram with a scatterplot overlay using `hist2d_alex`:"
     ]
    },
    {
     "cell_type": "code",
     "collapsed": false,
     "input": [
      "dplot(ds, hist2d_alex);"
     ],
     "language": "python",
     "metadata": {},
     "outputs": []
    },
    {
     "cell_type": "markdown",
     "metadata": {},
     "source": [
      "## Join plot"
     ]
    },
    {
     "cell_type": "code",
     "collapsed": false,
     "input": [
      "def alex_marginals_style(g):\n",
      "    g.ax_marg_x.grid(True)\n",
      "    g.ax_marg_y.grid(True)\n",
      "    g.ax_marg_y.set_ylabel('')\n",
      "    g.ax_marg_x.set_xlabel('')\n",
      "    g.ax_marg_y.grid(True)\n",
      "    plt.setp(g.ax_marg_y.get_xticklabels(), visible=True)\n",
      "    plt.setp(g.ax_marg_x.get_yticklabels(), visible=True)\n",
      "    g.ax_marg_x.locator_params(axis='y', tight=True, nbins=4)\n",
      "    g.ax_marg_y.locator_params(axis='x', tight=True, nbins=4)"
     ],
     "language": "python",
     "metadata": {},
     "outputs": []
    },
    {
     "cell_type": "code",
     "collapsed": false,
     "input": [
      "g = sns.jointplot(x=ds.E_, y=ds.S_, kind='hex', ratio=3, space=0.2, xlim=(-0.2, 1.2), ylim=(-0.2, 1.2),\n",
      "              joint_kws={'extent': (-0.2, 1.2, -0.2, 1.2), 'gridsize': 30, 'vmax': 40, 'cmap': 'PuBuGn'},\n",
      "              marginal_kws={'bins': np.arange(-0.2, 1.201, 0.05)},\n",
      "              stat_func=None)\n",
      "alex_marginals_style(g)"
     ],
     "language": "python",
     "metadata": {},
     "outputs": []
    },
    {
     "cell_type": "markdown",
     "metadata": {},
     "source": [
      "## Join Grid\n",
      "\n",
      "### Marginals with `distplot`\n",
      "\n",
      "Here we use Seaborn's `distplot` function for the $E$ and $S$ marginal plots."
     ]
    },
    {
     "cell_type": "code",
     "collapsed": false,
     "input": [
      "g = sns.JointGrid(x=ds.E_, y=ds.S_, ratio=3, space=0.2, xlim=(-0.2, 1.2), ylim=(-0.2, 1.2))              \n",
      "g.plot_joint(plt.hexbin, \n",
      "             **{'extent': (-0.2, 1.2, -0.2, 1.2), 'gridsize': 30, 'vmax': 40, 'cmap': 'PuBuGn'})\n",
      "\n",
      "g.plot_marginals(sns.distplot, hist=True,\n",
      "                 kde=True, kde_kws={'bw':0.03, 'color': 'k'})\n",
      "\n",
      "alex_marginals_style(g)"
     ],
     "language": "python",
     "metadata": {},
     "outputs": []
    },
    {
     "cell_type": "markdown",
     "metadata": {},
     "source": [
      "### Marginals with `hist_burst_data`\n",
      "\n",
      "Plot the marginals with FRETBursts function `hist_burst_data()`."
     ]
    },
    {
     "cell_type": "code",
     "collapsed": false,
     "input": [
      "# Fit E and S to a model and compute KDE\n",
      "ds.E_fitter.histogram(bin_width=0.03)\n",
      "ds.E_fitter.fit_histogram(mfit.factory_three_gaussians())\n",
      "ds.E_fitter.calc_kde(bandwidth=0.03)\n",
      "ds.S_fitter.histogram(bin_width=0.03)\n",
      "ds.S_fitter.fit_histogram(mfit.factory_two_gaussians())\n",
      "ds.S_fitter.calc_kde(bandwidth=0.03)"
     ],
     "language": "python",
     "metadata": {},
     "outputs": []
    },
    {
     "cell_type": "code",
     "collapsed": false,
     "input": [
      "# Wrapper function for using hist_burst_data with seaborn plot_marginals\n",
      "def hist_bursts(arr, dx, **kwargs):\n",
      "    vertical = kwargs.get('vertical', False)\n",
      "    data_name = 'S' if vertical else 'E'\n",
      "    hist_burst_data(dx, data_name=data_name, **kwargs)"
     ],
     "language": "python",
     "metadata": {},
     "outputs": []
    },
    {
     "cell_type": "code",
     "collapsed": false,
     "input": [
      "g = sns.JointGrid(x=ds.E_, y=ds.S_, ratio=3, space=0.2, xlim=(-0.2, 1.2), ylim=(-0.2, 1.2))              \n",
      "g.plot_joint(plt.hexbin, \n",
      "             **{'extent': (-0.2, 1.2, -0.2, 1.2), 'gridsize': 30, 'vmax': 40, 'cmap': 'PuBuGn'})\n",
      "\n",
      "g.plot_marginals(hist_bursts, dx=ds, show_model=True)\n",
      "\n",
      "alex_marginals_style(g)"
     ],
     "language": "python",
     "metadata": {},
     "outputs": []
    },
    {
     "cell_type": "markdown",
     "metadata": {},
     "source": [
      "## Interactive plot"
     ]
    },
    {
     "cell_type": "code",
     "collapsed": false,
     "input": [
      "@interact(overlay=widgets.RadioButtonsWidget(values=['fit model', 'KDE']),\n",
      "          binw=widgets.FloatTextWidget(value=0.03, min=0.01, max=1),\n",
      "          bandwidth=widgets.FloatTextWidget(value=0.03, min=0.01, max=1),\n",
      "          gridsize=(10, 100))\n",
      "def plot_(overlay='KDE', binw=0.03, bandwidth=0.03, gridsize=30):\n",
      "    g = sns.JointGrid(x=ds.E_, y=ds.S_, ratio=3, space=0.2, xlim=(-0.2, 1.2), ylim=(-0.2, 1.2))              \n",
      "    g.plot_joint(plt.hexbin, \n",
      "                 **{'extent': (-0.2, 1.2, -0.2, 1.2), 'gridsize': gridsize, 'vmax': 40, 'cmap': 'PuBuGn'})\n",
      "\n",
      "    if binw < 0.01: binw = 0.01\n",
      "    if bandwidth < 0.01: bandwidth = 0.01\n",
      "    if overlay == 'fit model':\n",
      "        g.plot_marginals(hist_bursts, dx=ds, binw=binw, show_model=True)\n",
      "    else:\n",
      "        g.plot_marginals(hist_bursts, dx=ds, binw=binw, show_kde=True, bandwidth=bandwidth)\n",
      "\n",
      "    g.ax_marg_x.grid(True)\n",
      "    g.ax_marg_y.grid(True)\n",
      "    g.ax_marg_y.set_ylabel('')\n",
      "    g.ax_marg_x.set_xlabel('')\n",
      "    g.ax_marg_y.grid(True)\n",
      "    plt.setp(g.ax_marg_y.get_xticklabels(), visible=True)\n",
      "    plt.setp(g.ax_marg_x.get_yticklabels(), visible=True)\n",
      "    g.ax_marg_x.locator_params(axis='y', tight=True, nbins=4)\n",
      "    g.ax_marg_y.locator_params(axis='x', tight=True, nbins=4)\n",
      "    fig = gcf()\n",
      "    plt.close()\n",
      "    display(fig)"
     ],
     "language": "python",
     "metadata": {},
     "outputs": []
    },
    {
     "cell_type": "code",
     "collapsed": false,
     "input": [],
     "language": "python",
     "metadata": {},
     "outputs": []
    },
    {
     "cell_type": "code",
     "collapsed": false,
     "input": [],
     "language": "python",
     "metadata": {},
     "outputs": []
    },
    {
     "cell_type": "code",
     "collapsed": false,
     "input": [],
     "language": "python",
     "metadata": {},
     "outputs": []
    },
    {
     "cell_type": "markdown",
     "metadata": {},
     "source": [
      "# Notebook style"
     ]
    },
    {
     "cell_type": "code",
     "collapsed": false,
     "input": [
      "%cd $NOTEBOOK_DIR"
     ],
     "language": "python",
     "metadata": {},
     "outputs": []
    },
    {
     "cell_type": "code",
     "collapsed": false,
     "input": [
      "from IPython.core.display import HTML\n",
      "HTML(open(\"./styles/custom2.css\", \"r\").read())"
     ],
     "language": "python",
     "metadata": {},
     "outputs": []
    },
    {
     "cell_type": "code",
     "collapsed": false,
     "input": [],
     "language": "python",
     "metadata": {},
     "outputs": []
    }
   ],
   "metadata": {}
  }
 ]
}