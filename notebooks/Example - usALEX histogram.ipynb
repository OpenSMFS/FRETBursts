{
 "metadata": {
  "name": "",
  "signature": "sha256:9a3ced672cdc06dbe2a9a1dad488edfb625f0d072e48996ed258470026951a56"
 },
 "nbformat": 3,
 "nbformat_minor": 0,
 "worksheets": [
  {
   "cells": [
    {
     "cell_type": "markdown",
     "metadata": {},
     "source": [
      "#Example - usALEX histogram\n",
      "\n",
      "*This notebook is part of smFRET burst analysis software [FRETBursts](http://tritemio.github.io/FRETBursts/).*"
     ]
    },
    {
     "cell_type": "markdown",
     "metadata": {},
     "source": [
      "> In this notebook shows how to plot different styles of us-ALEX histograms and $E$ and $S$ marginal distributions.\n",
      "> For a complete tutorial on burst analysis see \n",
      "> [FRETBursts - us-ALEX smFRET burst analysis](FRETBursts - us-ALEX smFRET burst analysis.ipynb)."
     ]
    },
    {
     "cell_type": "markdown",
     "metadata": {},
     "source": [
      "# Load software\n",
      "\n",
      "## FRETBursts"
     ]
    },
    {
     "cell_type": "code",
     "collapsed": false,
     "input": [
      "from fretbursts import *"
     ],
     "language": "python",
     "metadata": {},
     "outputs": []
    },
    {
     "cell_type": "code",
     "collapsed": false,
     "input": [
      "sns = init_notebook()"
     ],
     "language": "python",
     "metadata": {},
     "outputs": []
    },
    {
     "cell_type": "markdown",
     "metadata": {},
     "source": [
      "## Interactive widgets"
     ]
    },
    {
     "cell_type": "code",
     "collapsed": false,
     "input": [
      "from IPython.html.widgets import interact, interactive, fixed\n",
      "from IPython.html import widgets\n",
      "from IPython.display import display, display_png, display_svg, clear_output\n",
      "from IPython.core.pylabtools import print_figure"
     ],
     "language": "python",
     "metadata": {},
     "outputs": []
    },
    {
     "cell_type": "markdown",
     "metadata": {},
     "source": [
      "#Download the sample file"
     ]
    },
    {
     "cell_type": "code",
     "collapsed": false,
     "input": [
      "url = 'http://files.figshare.com/1839121/0023uLRpitc_NTP_20dT_0.5GndCl.hdf5'\n",
      "download_file(url, save_dir='./data')"
     ],
     "language": "python",
     "metadata": {},
     "outputs": []
    },
    {
     "cell_type": "markdown",
     "metadata": {},
     "source": [
      "# Select a data file"
     ]
    },
    {
     "cell_type": "code",
     "collapsed": false,
     "input": [
      "file_name = \"0023uLRpitc_NTP_20dT_0.5GndCl.hdf5\"\n",
      "\n",
      "# Here the folder is the subfolder \"data\" of current notebook folder\n",
      "folder_name = './data/'\n",
      "full_fname = folder_name + file_name\n",
      "full_fname"
     ],
     "language": "python",
     "metadata": {},
     "outputs": []
    },
    {
     "cell_type": "markdown",
     "metadata": {},
     "source": [
      "Let's check that the file exists:"
     ]
    },
    {
     "cell_type": "code",
     "collapsed": false,
     "input": [
      "import os\n",
      "if os.path.isfile(full_fname):\n",
      "    print \"Perfect, I found the file!\"\n",
      "else:\n",
      "    print \"Sorry, I can't find the file:\\n\", full_fname"
     ],
     "language": "python",
     "metadata": {},
     "outputs": []
    },
    {
     "cell_type": "markdown",
     "metadata": {},
     "source": [
      "# Load the selected file"
     ]
    },
    {
     "cell_type": "code",
     "collapsed": false,
     "input": [
      "d = loader.hdf5(fname=full_fname)\n",
      "d.add(det_donor_accept=(0, 1), alex_period=4000, D_ON=(2850, 580), A_ON=(900, 2580))\n",
      "bpl.plot_alternation_hist(d)\n",
      "loader.alex_apply_period(d)\n",
      "d.calc_bg(bg.exp_fit, time_s=1000, tail_min_us=(800, 4000, 1500, 1000, 3000))"
     ],
     "language": "python",
     "metadata": {},
     "outputs": []
    },
    {
     "cell_type": "markdown",
     "metadata": {},
     "source": [
      "#Burst search"
     ]
    },
    {
     "cell_type": "code",
     "collapsed": false,
     "input": [
      "d.burst_search(L=10, m=10, F=6)\n",
      "ds = Sel(d, select_bursts.size, add_naa=True, th1=30)"
     ],
     "language": "python",
     "metadata": {},
     "outputs": []
    },
    {
     "cell_type": "code",
     "collapsed": false,
     "input": [
      "#dplot(ds, hist_fret)\n",
      "#dplot(ds, hist_S);"
     ],
     "language": "python",
     "metadata": {},
     "outputs": []
    },
    {
     "cell_type": "code",
     "collapsed": false,
     "input": [
      "#ds.E_fitter.fit_histogram(mfit.factory_three_gaussians())"
     ],
     "language": "python",
     "metadata": {},
     "outputs": []
    },
    {
     "cell_type": "markdown",
     "metadata": {},
     "source": [
      "# ALEX plots\n",
      "\n",
      "##\u00a0Basics"
     ]
    },
    {
     "cell_type": "markdown",
     "metadata": {},
     "source": [
      "We can make a simple E-S scatter plot with `scatter_alex`:"
     ]
    },
    {
     "cell_type": "code",
     "collapsed": false,
     "input": [
      "dplot(ds, scatter_alex, figsize=(4,4), mew=1, ms=4, mec='black', color='purple');"
     ],
     "language": "python",
     "metadata": {},
     "outputs": []
    },
    {
     "cell_type": "markdown",
     "metadata": {},
     "source": [
      "We can also plot the ALEX histogram with a scatterplot overlay using `hist2d_alex`:"
     ]
    },
    {
     "cell_type": "code",
     "collapsed": false,
     "input": [
      "dplot(ds, hist2d_alex);"
     ],
     "language": "python",
     "metadata": {},
     "outputs": []
    },
    {
     "cell_type": "markdown",
     "metadata": {},
     "source": [
      "# ALEX Joint Plot"
     ]
    },
    {
     "cell_type": "code",
     "collapsed": false,
     "input": [
      "# Fit E and S to a model and compute KDE\n",
      "bext.bursts_fitter(ds, 'E', binwidth=0.03, bandwidth=0.03, model=mfit.factory_three_gaussians())\n",
      "bext.bursts_fitter(ds, 'S', binwidth=0.03, bandwidth=0.03, model=mfit.factory_two_gaussians())"
     ],
     "language": "python",
     "metadata": {},
     "outputs": []
    },
    {
     "cell_type": "code",
     "collapsed": false,
     "input": [
      "#sns.set_style('darkgrid')"
     ],
     "language": "python",
     "metadata": {},
     "outputs": []
    },
    {
     "cell_type": "code",
     "collapsed": false,
     "input": [
      "alex_jointplot(ds)"
     ],
     "language": "python",
     "metadata": {},
     "outputs": []
    },
    {
     "cell_type": "code",
     "collapsed": false,
     "input": [
      "alex_jointplot(ds, joint_kws = dict(edgecolor='none'))\n",
      "\n",
      "alex_jointplot(ds, joint_kws = {})"
     ],
     "language": "python",
     "metadata": {},
     "outputs": []
    },
    {
     "cell_type": "code",
     "collapsed": false,
     "input": [
      "sns.set_style('whitegrid')"
     ],
     "language": "python",
     "metadata": {},
     "outputs": []
    },
    {
     "cell_type": "code",
     "collapsed": false,
     "input": [
      "alex_jointplot(ds)"
     ],
     "language": "python",
     "metadata": {},
     "outputs": []
    },
    {
     "cell_type": "code",
     "collapsed": false,
     "input": [
      "alex_jointplot(ds, joint_kws = dict(edgecolor='none'))\n",
      "\n",
      "alex_jointplot(ds, joint_kws = {})"
     ],
     "language": "python",
     "metadata": {},
     "outputs": []
    },
    {
     "cell_type": "markdown",
     "metadata": {},
     "source": [
      "## Interactive plot"
     ]
    },
    {
     "cell_type": "code",
     "collapsed": false,
     "input": [
      "sns.set_style('whitegrid')"
     ],
     "language": "python",
     "metadata": {},
     "outputs": []
    },
    {
     "cell_type": "code",
     "collapsed": false,
     "input": [
      "@interact(cmap_compensate = False,\n",
      "          overlay = widgets.RadioButtonsWidget(values=['fit model', 'KDE']),\n",
      "          binwidth = widgets.FloatTextWidget(value=0.03, min=0.01, max=1),\n",
      "          bandwidth = widgets.FloatTextWidget(value=0.03, min=0.01, max=1),\n",
      "          gridsize = (10, 100),\n",
      "          min_size=(10, 500, 5),\n",
      "          cmap=widgets.DropdownWidget(value='YlGnBu_crop', \n",
      "                                      values=['YlGnBu_crop', 'YlOrRd', 'Blues', 'PuBuGn', \n",
      "                                              'PuBu', 'GnBu', 'YlGnBu', 'afmhot', 'alex_lv',\n",
      "                                              'copper', 'summer', 'winter', 'cubehelix']),\n",
      "          zero_transparent = True,\n",
      "          reverse_cmap = False,\n",
      "          vmax_fret = True,\n",
      "          )\n",
      "def plot_(min_size=50, cmap_compensate=False, overlay='KDE', binwidth=0.03, bandwidth=0.03, gridsize=50, cmap='YlGnBu_crop', \n",
      "          reverse_cmap=False, vmax_fret=True, zero_transparent=True):\n",
      "    dx = Sel(d, select_bursts.size, add_naa=True, th1=min_size)\n",
      "    bext.bursts_fitter(dx, 'E', binwidth=binwidth, bandwidth=bandwidth, \n",
      "                       model=mfit.factory_three_gaussians())\n",
      "    bext.bursts_fitter(dx, 'S', binwidth=binwidth, bandwidth=bandwidth, \n",
      "                       model=mfit.factory_two_gaussians())    \n",
      "    \n",
      "    if reverse_cmap: cmap += '_r'\n",
      "\n",
      "    if binwidth < 0.01: binwidth = 0.01\n",
      "    if bandwidth < 0.01: bandwidth = 0.01\n",
      "    if overlay == 'fit model':\n",
      "        marginal_kws = dict(binwidth=binwidth, show_model=True)\n",
      "    else:\n",
      "        marginal_kws = dict(binwidth=binwidth, show_kde=True, bandwidth=bandwidth)\n",
      "    alex_jointplot(dx, cmap=cmap, gridsize=gridsize, zero_transparent=zero_transparent, vmax_fret=vmax_fret, \n",
      "                   cmap_compensate=cmap_compensate, marginal_kws=marginal_kws, joint_kws=dict(edgecolor='grey', lw=0.2))\n",
      "    \n",
      "    fig = gcf()\n",
      "    plt.close()\n",
      "    display(fig)"
     ],
     "language": "python",
     "metadata": {},
     "outputs": []
    },
    {
     "cell_type": "markdown",
     "metadata": {},
     "source": [
      "# Notebook style"
     ]
    },
    {
     "cell_type": "code",
     "collapsed": false,
     "input": [
      "from IPython.core.display import HTML\n",
      "HTML(open(\"./styles/custom2.css\", \"r\").read())"
     ],
     "language": "python",
     "metadata": {},
     "outputs": []
    },
    {
     "cell_type": "code",
     "collapsed": false,
     "input": [],
     "language": "python",
     "metadata": {},
     "outputs": []
    }
   ],
   "metadata": {}
  }
 ]
}