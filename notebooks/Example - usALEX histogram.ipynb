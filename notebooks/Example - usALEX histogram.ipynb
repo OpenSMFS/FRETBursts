{
 "metadata": {
  "name": "",
  "signature": "sha256:99a73461e695503b9a55db89a00346b8efbb43836b7ed756074c21593e102b40"
 },
 "nbformat": 3,
 "nbformat_minor": 0,
 "worksheets": [
  {
   "cells": [
    {
     "cell_type": "markdown",
     "metadata": {},
     "source": [
      "#Example - usALEX histogram\n",
      "\n",
      "*This notebook is part of smFRET burst analysis software [FRETBursts](http://tritemio.github.io/FRETBursts/).*"
     ]
    },
    {
     "cell_type": "markdown",
     "metadata": {},
     "source": [
      "> In this notebook shows how to plot different styles of us-ALEX histograms and $E$ and $S$ marginal distributions.\n",
      "> For a complete tutorial on burst analysis see \n",
      "> [FRETBursts - us-ALEX smFRET burst analysis](FRETBursts - us-ALEX smFRET burst analysis.ipynb)."
     ]
    },
    {
     "cell_type": "markdown",
     "metadata": {},
     "source": [
      "# Load software\n",
      "\n",
      "## FRETBursts"
     ]
    },
    {
     "cell_type": "code",
     "collapsed": false,
     "input": [
      "%run load_fretbursts.py --nogui"
     ],
     "language": "python",
     "metadata": {},
     "outputs": []
    },
    {
     "cell_type": "markdown",
     "metadata": {},
     "source": [
      "## Interactive widgets and plot styles"
     ]
    },
    {
     "cell_type": "code",
     "collapsed": false,
     "input": [
      "from IPython.html.widgets import interact, interactive, fixed\n",
      "from IPython.html import widgets\n",
      "from IPython.display import display, display_png, display_svg, clear_output\n",
      "from IPython.core.pylabtools import print_figure\n",
      "\n",
      "import matplotlib as mpl\n",
      "import seaborn as sns\n",
      "sns.set_style('darkgrid')\n",
      "fs = 13\n",
      "rc={'font.size': fs, 'axes.labelsize': fs, 'legend.fontsize': fs, \n",
      "    'axes.titlesize': fs*1.1, 'xtick.labelsize': fs, 'ytick.labelsize': fs,\n",
      "    'savefig.dpi': 70, \n",
      "    #'figure.figsize': (6, 4),\n",
      "    #'axes.facecolor': '0.95', 'axes.edgecolor': '0.85', 'grid.color': '0.85', \n",
      "    #'axes.linewidth': 1,    \n",
      "}\n",
      "sns.set(rc=rc)\n",
      "blue = '#0055d4'\n",
      "green = '#2ca02c'\n",
      "red = \"#e74c3c\"\n",
      "purple = \"#9b59b6\"\n",
      "color_brewer = sns.color_palette(\"Set1\", 9)\n",
      "colors = np.array(color_brewer)[(1,0,2,3,4,8,6,7), :]\n",
      "colors = list(colors)\n",
      "colors[:3] = (blue, colors[1], green)\n",
      "sns.set_palette(colors, 8)\n",
      "#sns.palplot(sns.color_palette(colors, 8))"
     ],
     "language": "python",
     "metadata": {},
     "outputs": []
    },
    {
     "cell_type": "markdown",
     "metadata": {},
     "source": [
      "#Download the sample file"
     ]
    },
    {
     "cell_type": "code",
     "collapsed": false,
     "input": [
      "url = 'http://files.figshare.com/1643813/0023uLRpitc_NTP_20dT_0.5GndCl.hdf5'\n",
      "download_file(url, save_dir=NOTEBOOK_DIR + '/data')"
     ],
     "language": "python",
     "metadata": {},
     "outputs": []
    },
    {
     "cell_type": "markdown",
     "metadata": {},
     "source": [
      "# Select a data file"
     ]
    },
    {
     "cell_type": "code",
     "collapsed": false,
     "input": [
      "file_name = \"0023uLRpitc_NTP_20dT_0.5GndCl.hdf5\"\n",
      "\n",
      "# Here the folder is the subfolder \"data\" of current notebook folder\n",
      "folder_name = NOTEBOOK_DIR + '/data/'\n",
      "full_fname = folder_name + file_name\n",
      "full_fname"
     ],
     "language": "python",
     "metadata": {},
     "outputs": []
    },
    {
     "cell_type": "markdown",
     "metadata": {},
     "source": [
      "Let's check that the file exists:"
     ]
    },
    {
     "cell_type": "code",
     "collapsed": false,
     "input": [
      "if os.path.isfile(full_fname):\n",
      "    print \"Perfect, I found the file!\"\n",
      "else:\n",
      "    print \"Sorry, I can't find the file:\\n\", full_fname"
     ],
     "language": "python",
     "metadata": {},
     "outputs": []
    },
    {
     "cell_type": "markdown",
     "metadata": {},
     "source": [
      "# Load the selected file"
     ]
    },
    {
     "cell_type": "code",
     "collapsed": false,
     "input": [
      "d = loader.hdf5(fname=full_fname)\n",
      "d.add(det_donor_accept=(0, 1), alex_period=4000, D_ON=(2850, 580), A_ON=(900, 2580))\n",
      "bpl.plot_alternation_hist(d)\n",
      "loader.usalex_apply_period(d)\n",
      "d.calc_bg(bg.exp_fit, time_s=1000, tail_min_us=(800, 4000, 1500, 1000, 3000))"
     ],
     "language": "python",
     "metadata": {},
     "outputs": []
    },
    {
     "cell_type": "markdown",
     "metadata": {},
     "source": [
      "#Burst search"
     ]
    },
    {
     "cell_type": "code",
     "collapsed": false,
     "input": [
      "d.burst_search_t(L=10, m=10, F=6)\n",
      "ds = Sel(d, select_bursts.size, add_naa=True, th1=30)"
     ],
     "language": "python",
     "metadata": {},
     "outputs": []
    },
    {
     "cell_type": "code",
     "collapsed": false,
     "input": [
      "#dplot(ds, hist_fret)\n",
      "#dplot(ds, hist_S);"
     ],
     "language": "python",
     "metadata": {},
     "outputs": []
    },
    {
     "cell_type": "code",
     "collapsed": false,
     "input": [
      "#ds.E_fitter.fit_histogram(mfit.factory_three_gaussians())"
     ],
     "language": "python",
     "metadata": {},
     "outputs": []
    },
    {
     "cell_type": "markdown",
     "metadata": {},
     "source": [
      "# ALEX plots\n",
      "\n",
      "##\u00a0Basics"
     ]
    },
    {
     "cell_type": "markdown",
     "metadata": {},
     "source": [
      "We can make a simple E-S scatter plot with `scatter_alex`:"
     ]
    },
    {
     "cell_type": "code",
     "collapsed": false,
     "input": [
      "dplot(ds, scatter_alex, figsize=(4,4), mew=1, ms=4, mec='black', color='purple');"
     ],
     "language": "python",
     "metadata": {},
     "outputs": []
    },
    {
     "cell_type": "markdown",
     "metadata": {},
     "source": [
      "We can also plot the ALEX histogram with a scatterplot overlay using `hist2d_alex`:"
     ]
    },
    {
     "cell_type": "code",
     "collapsed": false,
     "input": [
      "dplot(ds, hist2d_alex);"
     ],
     "language": "python",
     "metadata": {},
     "outputs": []
    },
    {
     "cell_type": "markdown",
     "metadata": {},
     "source": [
      "## Helper functions"
     ]
    },
    {
     "cell_type": "code",
     "collapsed": false,
     "input": [
      "def _alex_plot_style(g):\n",
      "    \"\"\"Set plot style and colorbar for an ALEX joint plot.\n",
      "    \"\"\"\n",
      "    g.set_axis_labels(xlabel=\"E\", ylabel=\"S\")\n",
      "    g.ax_marg_x.grid(True)\n",
      "    g.ax_marg_y.grid(True)\n",
      "    plt.setp(g.ax_marg_y.get_xticklabels(), visible=True)\n",
      "    plt.setp(g.ax_marg_x.get_yticklabels(), visible=True)\n",
      "    g.ax_marg_x.locator_params(axis='y', tight=True, nbins=3)\n",
      "    g.ax_marg_y.locator_params(axis='x', tight=True, nbins=3)\n",
      "    pos = g.ax_joint.get_position().get_points()\n",
      "    X, Y = pos[:, 0], pos[:, 1]\n",
      "    cax = plt.axes([1., Y[0], (X[1] - X[0])*0.045, Y[1]-Y[0]])\n",
      "    plt.colorbar(cax=cax)\n",
      "    \n",
      "def _hist_bursts(arr, dx, **kwargs):\n",
      "    \"\"\"Wrapper function for calling hist_burst_data() from seaborn plot_marginals().\n",
      "    \"\"\"\n",
      "    vertical = kwargs.get('vertical', False)\n",
      "    data_name = 'S' if vertical else 'E'\n",
      "    hist_burst_data(dx, data_name=data_name, **kwargs)\n",
      "\n",
      "def _alex_hexbin_vmax(patches, vmax_fret=True, Smax=0.8):\n",
      "    \"\"\"Return max count E-S hexbin plot in `patches`.\n",
      "    \n",
      "    When `vmax_fret` is True, returns the max count for S < Smax.\n",
      "    Otherwise returns the max count in all the histogram.\n",
      "    \"\"\"\n",
      "    counts = patches.get_array()\n",
      "    if vmax_fret:\n",
      "        offset = patches.get_offsets()\n",
      "        xoffset, yoffset = offset[:, 0], offset[:, 1]\n",
      "        mask = yoffset < Smax\n",
      "        vmax = counts[mask].max()\n",
      "    else:\n",
      "        vmax = counts.max()\n",
      "    return vmax\n",
      "\n",
      "def _calc_vmin(vmax, vmax_threshold, vmin_default):\n",
      "    if vmax <= vmax_threshold:\n",
      "        vmin = vmin_default - 0.5*vmax\n",
      "    elif vmax_threshold < vmax < 2*vmax_threshold:\n",
      "        vmin = vmin_default - 0.5*vmax*((2*vmax_threshold - vmax)/(1.*vmax_threshold))\n",
      "    else:\n",
      "        vmin = vmin_default\n",
      "    return vmin\n",
      "\n",
      "def alex_jointplot(d, i=0, gridsize=50, cmap='YlGnBu_crop', zero_transparent=True, vmax_fret=True,\n",
      "                  vmax_threshold=10, vmin_default=0, vmin=None, cmap_compensate=False,\n",
      "                  joint_kws = {},\n",
      "                  marginal_kws = dict(show_kde=True, bandwidth=0.03, binwidth=0.03)):\n",
      "    \"\"\"Plot an ALEX join plot: E-S 2-D histograms and marginal plots.\n",
      "    \"\"\"\n",
      "    g = sns.JointGrid(x=d.E[i], y=d.S[i], ratio=3, space=0.2, xlim=(-0.2, 1.2), ylim=(-0.2, 1.2))\n",
      "    joint_kws.update(gridsize=gridsize, cmap=cmap, extent=(-0.2, 1.2, -0.2, 1.2))\n",
      "    jplot = g.plot_joint(plt.hexbin, mincnt=zero_transparent, **joint_kws)\n",
      "\n",
      "    poly = jplot.ax_joint.get_children()[2]\n",
      "    vmax = _alex_hexbin_vmax(poly, vmax_fret=vmax_fret)\n",
      "    if vmin is None:\n",
      "        if cmap_compensate:\n",
      "            #vmin = _calc_vmin(vmax, vmax_threshold, vmin_default)\n",
      "            vmin = -vmax/3\n",
      "        else:\n",
      "            vmin = vmin_default\n",
      "    poly.set_clim(vmin, vmax)\n",
      "\n",
      "    g.plot_marginals(_hist_bursts, dx=d, **marginal_kws)\n",
      "    g.annotate(lambda x, y: x.size, stat='# Bursts', template='{stat}: {val}')\n",
      "    _alex_plot_style(g)"
     ],
     "language": "python",
     "metadata": {},
     "outputs": []
    },
    {
     "cell_type": "markdown",
     "metadata": {},
     "source": [
      "# Tweak colomaps\n",
      "\n",
      "As an example let's create a cutom colormap and plot a plain 2D ALEX histogram:"
     ]
    },
    {
     "cell_type": "code",
     "collapsed": false,
     "input": [
      "sns.palplot(sns.color_palette('nipy_spectral', 64))"
     ],
     "language": "python",
     "metadata": {},
     "outputs": []
    },
    {
     "cell_type": "code",
     "collapsed": false,
     "input": [
      "c = sns.color_palette('nipy_spectral', 64)[2:43]\n",
      "sns.palplot(c)"
     ],
     "language": "python",
     "metadata": {},
     "outputs": []
    },
    {
     "cell_type": "code",
     "collapsed": false,
     "input": [
      "cmap = mpl.colors.LinearSegmentedColormap.from_list('alex', c)\n",
      "cmap.set_under(alpha=0)\n",
      "mpl.cm.register_cmap(name='alex_lv', cmap=cmap)\n",
      "cmap"
     ],
     "language": "python",
     "metadata": {},
     "outputs": []
    },
    {
     "cell_type": "code",
     "collapsed": false,
     "input": [
      "squarehist, _, _ = np.histogram2d(ds.E_, ds.S_, range=((-0.2, 1.2), (-0.2, 1.2)), bins=np.arange(-0.2, 1.2, 0.018))\n",
      "im = plt.imshow(squarehist[:,::-1].T, extent=(-0.2, 1.2, -0.2, 1.2), vmin=1, cmap='alex_lv', zorder=10)\n",
      "gca().set_axisbelow(True)\n",
      "plt.colorbar()"
     ],
     "language": "python",
     "metadata": {},
     "outputs": []
    },
    {
     "cell_type": "code",
     "collapsed": false,
     "input": [
      "sns.palplot(sns.color_palette('YlGnBu', 64))"
     ],
     "language": "python",
     "metadata": {},
     "outputs": []
    },
    {
     "cell_type": "code",
     "collapsed": false,
     "input": [
      "c = sns.color_palette('YlGnBu', 64)[16:]\n",
      "sns.palplot(c)"
     ],
     "language": "python",
     "metadata": {},
     "outputs": []
    },
    {
     "cell_type": "code",
     "collapsed": false,
     "input": [
      "cmap = mpl.colors.LinearSegmentedColormap.from_list('YlGnBu_crop', c)\n",
      "cmap.set_under(alpha=0)\n",
      "mpl.cm.register_cmap(name='YlGnBu_crop', cmap=cmap)\n",
      "cmap"
     ],
     "language": "python",
     "metadata": {},
     "outputs": []
    },
    {
     "cell_type": "markdown",
     "metadata": {},
     "source": [
      "# ALEX Joint Plot"
     ]
    },
    {
     "cell_type": "code",
     "collapsed": false,
     "input": [
      "# Fit E and S to a model and compute KDE\n",
      "bext.bursts_fitter(ds, 'E', binwidth=0.03, bandwidth=0.03, model=mfit.factory_three_gaussians())\n",
      "bext.bursts_fitter(ds, 'S', binwidth=0.03, bandwidth=0.03, model=mfit.factory_two_gaussians())"
     ],
     "language": "python",
     "metadata": {},
     "outputs": []
    },
    {
     "cell_type": "code",
     "collapsed": false,
     "input": [
      "sns.set_style('whitegrid')"
     ],
     "language": "python",
     "metadata": {},
     "outputs": []
    },
    {
     "cell_type": "code",
     "collapsed": false,
     "input": [
      "alex_jointplot(ds)"
     ],
     "language": "python",
     "metadata": {},
     "outputs": []
    },
    {
     "cell_type": "code",
     "collapsed": false,
     "input": [
      "alex_jointplot(ds, cmap = 'GnBu',\n",
      "               cmap_compensate = True,\n",
      "               gridsize = 50,\n",
      "               zero_transparent = True,\n",
      "               vmax_fret = True, \n",
      "               joint_kws = dict(edgecolor='grey'))"
     ],
     "language": "python",
     "metadata": {},
     "outputs": []
    },
    {
     "cell_type": "code",
     "collapsed": false,
     "input": [
      "sns.set_style('darkgrid')"
     ],
     "language": "python",
     "metadata": {},
     "outputs": []
    },
    {
     "cell_type": "code",
     "collapsed": false,
     "input": [
      "alex_jointplot(ds)"
     ],
     "language": "python",
     "metadata": {},
     "outputs": []
    },
    {
     "cell_type": "code",
     "collapsed": false,
     "input": [
      "alex_jointplot(ds, \n",
      "               #cmap = 'GnBu',\n",
      "               #cmap_compensate = True,\n",
      "               gridsize = 50,\n",
      "               zero_transparent = True,\n",
      "               vmax_fret = True, \n",
      "               joint_kws = dict(edgecolor='grey'))"
     ],
     "language": "python",
     "metadata": {},
     "outputs": []
    },
    {
     "cell_type": "markdown",
     "metadata": {},
     "source": [
      "## Interactive plot"
     ]
    },
    {
     "cell_type": "code",
     "collapsed": false,
     "input": [
      "sns.set_style('darkgrid')"
     ],
     "language": "python",
     "metadata": {},
     "outputs": []
    },
    {
     "cell_type": "code",
     "collapsed": false,
     "input": [
      "sns.set_style('whitegrid')"
     ],
     "language": "python",
     "metadata": {},
     "outputs": []
    },
    {
     "cell_type": "code",
     "collapsed": false,
     "input": [
      "@interact(cmap_compensate = False,\n",
      "          overlay = widgets.RadioButtonsWidget(values=['fit model', 'KDE']),\n",
      "          binwidth = widgets.FloatTextWidget(value=0.03, min=0.01, max=1),\n",
      "          bandwidth = widgets.FloatTextWidget(value=0.03, min=0.01, max=1),\n",
      "          gridsize = (10, 100),\n",
      "          min_size=(10, 500, 5),\n",
      "          cmap=widgets.DropdownWidget(value='YlGnBu_crop', \n",
      "                                      values=['YlGnBu_crop', 'YlOrRd', 'Blues', 'PuBuGn', \n",
      "                                              'PuBu', 'GnBu', 'YlGnBu', 'afmhot', 'alex_lv',\n",
      "                                              'copper', 'summer', 'winter', 'cubehelix']),\n",
      "          zero_transparent = True,\n",
      "          reverse_cmap = False,\n",
      "          vmax_fret = True,\n",
      "          )\n",
      "def plot_(min_size=50, cmap_compensate=False, overlay='KDE', binwidth=0.03, bandwidth=0.03, gridsize=50, cmap='YlGnBu_crop', \n",
      "          reverse_cmap=False, vmax_fret=True, zero_transparent=True):\n",
      "    dx = Sel(d, select_bursts.size, add_naa=True, th1=min_size)\n",
      "    bext.bursts_fitter(dx, 'E', binwidth=binwidth, bandwidth=bandwidth, \n",
      "                       model=mfit.factory_three_gaussians())\n",
      "    bext.bursts_fitter(dx, 'S', binwidth=binwidth, bandwidth=bandwidth, \n",
      "                       model=mfit.factory_two_gaussians())    \n",
      "    \n",
      "    if reverse_cmap: cmap += '_r'\n",
      "\n",
      "    if binwidth < 0.01: binwidth = 0.01\n",
      "    if bandwidth < 0.01: bandwidth = 0.01\n",
      "    if overlay == 'fit model':\n",
      "        marginal_kws = dict(binwidth=binwidth, show_model=True)\n",
      "    else:\n",
      "        marginal_kws = dict(binwidth=binwidth, show_kde=True, bandwidth=bandwidth)\n",
      "    alex_jointplot(dx, cmap=cmap, gridsize=gridsize, zero_transparent=zero_transparent, vmax_fret=vmax_fret, \n",
      "                   cmap_compensate=cmap_compensate, marginal_kws=marginal_kws, joint_kws=dict())#edgecolor='grey'))\n",
      "    \n",
      "    fig = gcf()\n",
      "    plt.close()\n",
      "    display(fig)"
     ],
     "language": "python",
     "metadata": {},
     "outputs": []
    },
    {
     "cell_type": "markdown",
     "metadata": {},
     "source": [
      "# Notebook style"
     ]
    },
    {
     "cell_type": "code",
     "collapsed": false,
     "input": [
      "%cd $NOTEBOOK_DIR"
     ],
     "language": "python",
     "metadata": {},
     "outputs": []
    },
    {
     "cell_type": "code",
     "collapsed": false,
     "input": [
      "from IPython.core.display import HTML\n",
      "HTML(open(\"./styles/custom2.css\", \"r\").read())"
     ],
     "language": "python",
     "metadata": {},
     "outputs": []
    },
    {
     "cell_type": "code",
     "collapsed": false,
     "input": [],
     "language": "python",
     "metadata": {},
     "outputs": []
    }
   ],
   "metadata": {}
  }
 ]
}