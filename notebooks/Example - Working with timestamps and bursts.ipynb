{
 "cells": [
  {
   "cell_type": "markdown",
   "metadata": {},
   "source": [
    "# Working with timestamps and bursts\n",
    "\n",
    "*This notebook is part of a [tutorial series](https://github.com/tritemio/FRETBursts_notebooks) for the [FRETBursts](http://tritemio.github.io/FRETBursts/) burst analysis software.*"
   ]
  },
  {
   "cell_type": "markdown",
   "metadata": {},
   "source": [
    "> In this notebook show how to access different streams of timestamps,\n",
    "> burst data (i.e. start and stop times and indexes, counts, etc...).\n",
    "> This is useful for users wanting to access or process bursts data \n",
    "> and timestamps in custom ways."
   ]
  },
  {
   "cell_type": "markdown",
   "metadata": {},
   "source": [
    "# Load data\n",
    "\n",
    "We start by loading the data, computing background and performing a standard burst search:"
   ]
  },
  {
   "cell_type": "code",
   "execution_count": null,
   "metadata": {
    "collapsed": false
   },
   "outputs": [],
   "source": [
    "from fretbursts import *\n",
    "sns = init_notebook()"
   ]
  },
  {
   "cell_type": "code",
   "execution_count": null,
   "metadata": {
    "collapsed": false
   },
   "outputs": [],
   "source": [
    "filename = \"./data/0023uLRpitc_NTP_20dT_0.5GndCl.hdf5\"\n",
    "d = loader.photon_hdf5(filename)\n",
    "loader.alex_apply_period(d)\n",
    "d.calc_bg(bg.exp_fit, time_s=30, tail_min_us='auto', F_bg=1.7)\n",
    "d.burst_search()"
   ]
  },
  {
   "cell_type": "markdown",
   "metadata": {},
   "source": [
    "# Getting the timestamps\n",
    "\n",
    "To get the timestamps arrays for a given [photon stream](http://fretbursts.readthedocs.org/en/latest/ph_sel.html) we use [Data.get_ph_times](http://fretbursts.readthedocs.org/en/latest/data_class.html?highlight=get_ph_times#fretbursts.burstlib.Data.get_ph_times). Here a few example:"
   ]
  },
  {
   "cell_type": "code",
   "execution_count": null,
   "metadata": {
    "collapsed": true
   },
   "outputs": [],
   "source": [
    "ph = d.get_ph_times()                              # all the recorded photons\n",
    "ph_dd = d.get_ph_times(ph_sel=Ph_sel(Dex='Dem'))   # donor excitation, donor emission\n",
    "ph_d = d.get_ph_times(ph_sel=Ph_sel(Dex='DAem'))   # donor excitation, donor+acceptor emission\n",
    "ph_aa = d.get_ph_times(ph_sel=Ph_sel(Aex='Aem'))   # acceptor excitation, acceptor emission"
   ]
  },
  {
   "cell_type": "markdown",
   "metadata": {},
   "source": [
    "This are streams of all timestamps (both inside and outside the bursts).\n",
    "Similarly, we can get \"masks\" of photons for each photon stream using \n",
    "[Data.get_ph_mask](http://fretbursts.readthedocs.org/en/latest/data_class.html?highlight=get_ph_mask#fretbursts.burstlib.Data.get_ph_mask):"
   ]
  },
  {
   "cell_type": "code",
   "execution_count": null,
   "metadata": {
    "collapsed": false
   },
   "outputs": [],
   "source": [
    "mask_dd = d.get_ph_mask(ph_sel=Ph_sel(Dex='Dem'))   # donor excitation, donor emission\n",
    "mask_d = d.get_ph_mask(ph_sel=Ph_sel(Dex='DAem'))   # donor excitation, donor+acceptor emission\n",
    "mask_aa = d.get_ph_mask(ph_sel=Ph_sel(Aex='Aem'))   # acceptor excitation, acceptor emission"
   ]
  },
  {
   "cell_type": "markdown",
   "metadata": {},
   "source": [
    "Masks are arrays of booleans (True or False values) which are True\n",
    "when the corresponding photon is in the stream. Note that all masks\n",
    "have same number of elements as the all-photons timestamps array:"
   ]
  },
  {
   "cell_type": "code",
   "execution_count": null,
   "metadata": {
    "collapsed": false
   },
   "outputs": [],
   "source": [
    "ph.size, mask_dd.size, mask_d.size, mask_aa.size"
   ]
  },
  {
   "cell_type": "markdown",
   "metadata": {},
   "source": [
    "Masks can be used to count photons in one stream:"
   ]
  },
  {
   "cell_type": "code",
   "execution_count": null,
   "metadata": {
    "collapsed": false
   },
   "outputs": [],
   "source": [
    "mask_d.sum()"
   ]
  },
  {
   "cell_type": "markdown",
   "metadata": {},
   "source": [
    "and to obtain the timestamps for one stream:"
   ]
  },
  {
   "cell_type": "code",
   "execution_count": null,
   "metadata": {
    "collapsed": false
   },
   "outputs": [],
   "source": [
    "ph[mask_d]"
   ]
  },
  {
   "cell_type": "markdown",
   "metadata": {},
   "source": [
    "Note that the arrays `ph[mask_d]` and `ph_d` are equal. This is an important point to understand."
   ]
  },
  {
   "cell_type": "markdown",
   "metadata": {},
   "source": [
    "# Burst data\n",
    "\n",
    "There are several fields containing burst data:\n",
    "\n",
    "**Start-stop**:\n",
    "\n",
    "- `Data.mburst`: start-stop information for each burst\n",
    "\n",
    "**Counts**:\n",
    "- `Data.nd`: donor detetor counts during donor excitation\n",
    "- `Data.na`: acceptor detetor counts during donor excitation\n",
    "- `Data.naa`: acceptor detetor counts during acceptor excitation (ALEX only)\n",
    "- `Data.nda`: donor detetor counts during acceptor excitation\n",
    "\n",
    "**FRET**:\n",
    "- `Data.E`: Proximity Ratio (when uncorrected) or FRET efficiency (when corrected)\n",
    "- `Data.S`: \"Stoichiometry\" (ALEX only)\n",
    "\n",
    "All these fields are lists containing one element per each channel.\n",
    "In single-spot data these list have one single element which is accessed\n",
    "using the `[0]` notation:"
   ]
  },
  {
   "cell_type": "code",
   "execution_count": null,
   "metadata": {
    "collapsed": false
   },
   "outputs": [],
   "source": [
    "bursts = d.mburst[0]\n",
    "nd = d.nd[0]\n",
    "na = d.na[0]\n",
    "naa = d.naa[0]\n",
    "E = d.E[0]\n",
    "S = d.S[0]"
   ]
  },
  {
   "cell_type": "markdown",
   "metadata": {},
   "source": [
    "## Burst start and stop\n",
    "\n",
    "The start-stop burst data is in `bursts` (a variable of type [Bursts](), plural):"
   ]
  },
  {
   "cell_type": "code",
   "execution_count": null,
   "metadata": {
    "collapsed": false
   },
   "outputs": [],
   "source": [
    "bursts"
   ]
  },
  {
   "cell_type": "markdown",
   "metadata": {},
   "source": [
    "Indexing `bursts` we can access a single burst:"
   ]
  },
  {
   "cell_type": "code",
   "execution_count": null,
   "metadata": {
    "collapsed": false
   },
   "outputs": [],
   "source": [
    "firstburst = bursts[0]\n",
    "firstburst"
   ]
  },
  {
   "cell_type": "markdown",
   "metadata": {},
   "source": [
    "The first two \"columns\" (both in `bursts` or `firstburst`) are the index of \n",
    "start and stop timestamps (relative to the all-photons timestamps).\n",
    "The last two columns (`start` and `stop`) are the actual times of burst \n",
    "start and stop. To access any of these fields we type:"
   ]
  },
  {
   "cell_type": "code",
   "execution_count": null,
   "metadata": {
    "collapsed": false
   },
   "outputs": [],
   "source": [
    "bursts.istart"
   ]
  },
  {
   "cell_type": "code",
   "execution_count": null,
   "metadata": {
    "collapsed": false
   },
   "outputs": [],
   "source": [
    "firstburst.istart"
   ]
  },
  {
   "cell_type": "markdown",
   "metadata": {},
   "source": [
    "Note that `ph[firstburst.istart]` is equal to `firstburst.start`:"
   ]
  },
  {
   "cell_type": "code",
   "execution_count": null,
   "metadata": {
    "collapsed": false
   },
   "outputs": [],
   "source": [
    "ph[firstburst.istart], firstburst.start"
   ]
  },
  {
   "cell_type": "markdown",
   "metadata": {},
   "source": [
    "The same holds for stop:"
   ]
  },
  {
   "cell_type": "code",
   "execution_count": null,
   "metadata": {
    "collapsed": false
   },
   "outputs": [],
   "source": [
    "ph[firstburst.istop], firstburst.stop"
   ]
  },
  {
   "cell_type": "markdown",
   "metadata": {},
   "source": [
    "Note that `bursts` is a `Bursts` object (plural) and `firstburst` is a `Burst` object (singular).\n",
    "You can find more info on these objects in the documentation:\n",
    "\n",
    "- [Low-level burst search functions](http://fretbursts.readthedocs.org/en/latest/burstsearch.html)"
   ]
  },
  {
   "cell_type": "markdown",
   "metadata": {},
   "source": [
    "## Burst photon-counts\n",
    "\n",
    "The variables `nd`, `na`, `naa` contains the number of photon in different photon streams.\n",
    "By default these values are beckaground corrected and, if the correction coefficients \n",
    "are specified, are also corrected for leakage, direct excitation and gamma factor.\n",
    "\n",
    "To get the raw counts before correction we can redo the burst search as follow:"
   ]
  },
  {
   "cell_type": "code",
   "execution_count": null,
   "metadata": {
    "collapsed": false
   },
   "outputs": [],
   "source": [
    "d.burst_search(computefret=False)\n",
    "d.calc_fret(count_ph=True, corrections=False)"
   ]
  },
  {
   "cell_type": "markdown",
   "metadata": {},
   "source": [
    "Note that if you select bursts, you also need to use `computefret=False`\n",
    "to avoid recomputing E and S (which by defaults applyies the corrections):"
   ]
  },
  {
   "cell_type": "code",
   "execution_count": null,
   "metadata": {
    "collapsed": true
   },
   "outputs": [],
   "source": [
    "ds = d.select_bursts(select_bursts.size, th1=30, computefret=False)"
   ]
  },
  {
   "cell_type": "code",
   "execution_count": null,
   "metadata": {
    "collapsed": true
   },
   "outputs": [],
   "source": [
    "nd = ds.nd[0]\n",
    "na = ds.na[0]\n",
    "naa = ds.naa[0]\n",
    "E = ds.E[0]\n",
    "S = ds.S[0]"
   ]
  },
  {
   "cell_type": "code",
   "execution_count": null,
   "metadata": {
    "collapsed": false
   },
   "outputs": [],
   "source": [
    "nd"
   ]
  },
  {
   "cell_type": "markdown",
   "metadata": {},
   "source": [
    "Note that the burst counts are integer values, confirming that the background\n",
    "correction was not applied."
   ]
  },
  {
   "cell_type": "markdown",
   "metadata": {
    "collapsed": true
   },
   "source": [
    "# See also\n",
    "\n",
    "Thhis section of the documentation has more info how to use `Bursts` objects:\n",
    "\n",
    "- [Low-level burst search functions](http://fretbursts.readthedocs.org/en/latest/burstsearch.html)\n",
    "\n",
    "In particular, these 3 methods:\n",
    "\n",
    "- [Bursts.recompute_times](http://fretbursts.readthedocs.org/en/latest/burstsearch.html?highlight=recompute_times#fretbursts.burstsearch.burstsearchlib.Bursts.recompute_times)\n",
    "- [Bursts.recompute_index_expand](http://fretbursts.readthedocs.org/en/latest/burstsearch.html?highlight=recompute_index_expand#fretbursts.burstsearch.burstsearchlib.Bursts.recompute_index_expand)\n",
    "- [Bursts.recompute_index_reduce](http://fretbursts.readthedocs.org/en/latest/burstsearch.html?highlight=recompute_index_reduce#fretbursts.burstsearch.burstsearchlib.Bursts.recompute_index_reduce)\n",
    "\n",
    "Allow to transform burst data to refer a new timestamps arrays."
   ]
  },
  {
   "cell_type": "code",
   "execution_count": null,
   "metadata": {
    "collapsed": true
   },
   "outputs": [],
   "source": []
  }
 ],
 "metadata": {
  "kernelspec": {
   "display_name": "Python 3",
   "language": "python",
   "name": "python3"
  },
  "language_info": {
   "codemirror_mode": {
    "name": "ipython",
    "version": 3
   },
   "file_extension": ".py",
   "mimetype": "text/x-python",
   "name": "python",
   "nbconvert_exporter": "python",
   "pygments_lexer": "ipython3",
   "version": "3.5.0"
  }
 },
 "nbformat": 4,
 "nbformat_minor": 0
}
