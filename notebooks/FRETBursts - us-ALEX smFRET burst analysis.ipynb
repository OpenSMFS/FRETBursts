{
 "metadata": {
  "name": "",
  "signature": "sha256:9404bd4a4d506162d8f1c1df56e8dcf34d7b10a05ba16ba6e47a4d1adf75abb7"
 },
 "nbformat": 3,
 "nbformat_minor": 0,
 "worksheets": [
  {
   "cells": [
    {
     "cell_type": "markdown",
     "metadata": {},
     "source": [
      "#FRETBursts - us-ALEX smFRET burst analysis\n",
      "\n",
      "*This notebook is part of a [tutorial series](https://github.com/tritemio/FRETBursts_notebooks) for the [FRETBursts](http://tritemio.github.io/FRETBursts/) burst analysis software.*"
     ]
    },
    {
     "cell_type": "markdown",
     "metadata": {},
     "source": [
      "> In this notebook we present a typical [FRETBursts](https://github.com/tritemio/FRETBursts/) \n",
      "> workflow for **us-ALEX smFRET burst analysis**. \n",
      "> Briefly, we show how to perform background estimation, burst search, burst selection, \n",
      "> FRET histograms, ALEX histograms, sub-population selection and FRET efficiency fit."
     ]
    },
    {
     "cell_type": "markdown",
     "metadata": {},
     "source": [
      "# Loading the software"
     ]
    },
    {
     "cell_type": "markdown",
     "metadata": {},
     "source": [
      "We start loading the **`FRETBursts`** software:"
     ]
    },
    {
     "cell_type": "code",
     "collapsed": false,
     "input": [
      "%run load_fretbursts.py --nogui"
     ],
     "language": "python",
     "metadata": {},
     "outputs": []
    },
    {
     "cell_type": "markdown",
     "metadata": {},
     "source": [
      "The last line tells us which FRETBursts revision is currently in use. This information can be used for long-term reproducibility, a crucial problem in science. Moreover, knowing the revision allows to easily track software regressions."
     ]
    },
    {
     "cell_type": "markdown",
     "metadata": {},
     "source": [
      "Now we can select a data-file by pasting its name in a variable or by using a conventional GUI dialog. In either cases we'll end up with the a file-name stored in the variable `full_fname`."
     ]
    },
    {
     "cell_type": "markdown",
     "metadata": {},
     "source": [
      "#Downloading the sample data file"
     ]
    },
    {
     "cell_type": "markdown",
     "metadata": {},
     "source": [
      "The full list of smFRET measurements used in the [FRETBursts tutorials](https://github.com/tritemio/FRETBursts_notebooks) \n",
      "can be found on [Figshare](http://dx.doi.org/10.6084/m9.figshare.1019906).\n",
      "\n",
      "Here we download the us-ALEX data-file and put it in a folder named `data`, inside the notebook folder. \n",
      "For this purpose we use the `download_file` function provided by FRETBursts:"
     ]
    },
    {
     "cell_type": "code",
     "collapsed": false,
     "input": [
      "url = 'http://files.figshare.com/1643813/0023uLRpitc_NTP_20dT_0.5GndCl.hdf5'"
     ],
     "language": "python",
     "metadata": {},
     "outputs": []
    },
    {
     "cell_type": "code",
     "collapsed": false,
     "input": [
      "download_file(url, save_dir=NOTEBOOK_DIR + '/data')"
     ],
     "language": "python",
     "metadata": {},
     "outputs": []
    },
    {
     "cell_type": "markdown",
     "metadata": {},
     "source": [
      "# Selecting a data file"
     ]
    },
    {
     "cell_type": "markdown",
     "metadata": {},
     "source": [
      "## Option 1: Use an \"Open File\" dialog"
     ]
    },
    {
     "cell_type": "markdown",
     "metadata": {},
     "source": [
      "We can select a data file with an \"Open File\" windows (note: it may pop-up in the foreground):"
     ]
    },
    {
     "cell_type": "code",
     "collapsed": false,
     "input": [
      "#full_fname = gui_fname(NOTEBOOK_DIR)"
     ],
     "language": "python",
     "metadata": {},
     "outputs": []
    },
    {
     "cell_type": "code",
     "collapsed": false,
     "input": [
      "#full_fname"
     ],
     "language": "python",
     "metadata": {},
     "outputs": []
    },
    {
     "cell_type": "markdown",
     "metadata": {},
     "source": [
      "Now `full_fname` contains the path of the file you just selected. Run again the previous cell to select a new file."
     ]
    },
    {
     "cell_type": "markdown",
     "metadata": {},
     "source": [
      "##Option 2: Paste the file-name"
     ]
    },
    {
     "cell_type": "markdown",
     "metadata": {},
     "source": [
      "Alternatively, we can directly define the file name to be loaded:"
     ]
    },
    {
     "cell_type": "code",
     "collapsed": false,
     "input": [
      "# That's an example dataset, download it from (link here)\n",
      "file_name = \"0023uLRpitc_NTP_20dT_0.5GndCl.hdf5\"\n",
      "\n",
      "# Here the folder is the subfolder \"data\" of current notebook folder\n",
      "folder_name = NOTEBOOK_DIR + '/data/'"
     ],
     "language": "python",
     "metadata": {},
     "outputs": []
    },
    {
     "cell_type": "markdown",
     "metadata": {},
     "source": [
      "and  concatenate the data folder with the file name:"
     ]
    },
    {
     "cell_type": "code",
     "collapsed": false,
     "input": [
      "full_fname = folder_name + file_name\n",
      "full_fname"
     ],
     "language": "python",
     "metadata": {},
     "outputs": []
    },
    {
     "cell_type": "markdown",
     "metadata": {},
     "source": [
      "Let's check that the file exists:"
     ]
    },
    {
     "cell_type": "code",
     "collapsed": false,
     "input": [
      "if os.path.isfile(full_fname):\n",
      "    print \"Perfect, I found the file!\"\n",
      "else:\n",
      "    print \"Sorry, I can't find the file:\\n\", full_fname"
     ],
     "language": "python",
     "metadata": {},
     "outputs": []
    },
    {
     "cell_type": "markdown",
     "metadata": {},
     "source": [
      "# Load the selected file"
     ]
    },
    {
     "cell_type": "markdown",
     "metadata": {},
     "source": [
      "We can finally load the measurement and store it in a variable called (go figure) `d`. \n",
      "\n",
      "For convenience we also set the correction coefficients so that they will be used in the subsequent analysis. The correction coefficients are: \n",
      "\n",
      "* leakage or bleed-through: `leakage`\n",
      "* direct excitation: `dir_ex` (ALEX-only)\n",
      "* gamma-factor `gamma`"
     ]
    },
    {
     "cell_type": "code",
     "collapsed": false,
     "input": [
      "d = loader.hdf5(fname=full_fname)\n",
      "d.add(leakage=0.11, dir_ex=0.04, gamma=1.)"
     ],
     "language": "python",
     "metadata": {},
     "outputs": []
    },
    {
     "cell_type": "markdown",
     "metadata": {},
     "source": [
      "> **NOTE:** at any later moment after burst search we can modify these coefficient using the `Data` methods `update_leakage`, `update_dir_ex` and `update_gamma` respectively. Using these methods all the burst data will be updated."
     ]
    },
    {
     "cell_type": "markdown",
     "metadata": {},
     "source": [
      "# us-ALEX parameters\n",
      "\n",
      "At this point, in `d`, we only have the timestamps (`ph_times_t`) and the detector numbers (`det_t`):"
     ]
    },
    {
     "cell_type": "code",
     "collapsed": false,
     "input": [
      "d.ph_times_t, d.det_t"
     ],
     "language": "python",
     "metadata": {},
     "outputs": []
    },
    {
     "cell_type": "markdown",
     "metadata": {},
     "source": [
      "We need to define some ALEX parameters: \n",
      "\n",
      "- donor and acceptor channels (`det_donor_accept`)\n",
      "- length of excitation period (`alex_period`)\n",
      "- donor and acceptor excitation windows (`D_ON` and `A_ON`)"
     ]
    },
    {
     "cell_type": "code",
     "collapsed": false,
     "input": [
      "d.add(det_donor_accept=(0, 1), alex_period=4000, D_ON=(2850, 580), A_ON=(900, 2580))"
     ],
     "language": "python",
     "metadata": {},
     "outputs": []
    },
    {
     "cell_type": "markdown",
     "metadata": {},
     "source": [
      "We have to check the consistency of the alternation histogram to verify whether the parameters are correct:"
     ]
    },
    {
     "cell_type": "code",
     "collapsed": false,
     "input": [
      "bpl.plot_alternation_hist(d)"
     ],
     "language": "python",
     "metadata": {},
     "outputs": []
    },
    {
     "cell_type": "markdown",
     "metadata": {},
     "source": [
      "The previous alternation histogram looks correct, so we can apply the current parameters:"
     ]
    },
    {
     "cell_type": "code",
     "collapsed": false,
     "input": [
      "loader.usalex_apply_period(d)"
     ],
     "language": "python",
     "metadata": {},
     "outputs": []
    },
    {
     "cell_type": "markdown",
     "metadata": {},
     "source": [
      "If the previous histogram does not look right, you can go back and modify the parameters in the `d.add(...)` cell and re-plot the histogram until it looks fine. Don't forget to apply the parameters with `loader.usalex_apply_period(d)` as a last step.\n",
      "\n",
      "> **NOTE:** After applying the ALEX parameters a new array of timestamps containing only photons inside the excitation periods is created (name `d.ph_times_m`). To save memory, by default, the old timestamps array (`d.ph_times_t`) is deleted. Therefore, in the following, when we talk about all-photon selection we always refer to all photons inside the excitation periods."
     ]
    },
    {
     "cell_type": "markdown",
     "metadata": {},
     "source": [
      "##Measurement infos"
     ]
    },
    {
     "cell_type": "markdown",
     "metadata": {},
     "source": [
      "The entire measurement data is now in the variable `d`. Printing it will give a compact representation containing the file-name and some eventual parameters (only the $\\gamma$-factor in this case):"
     ]
    },
    {
     "cell_type": "code",
     "collapsed": false,
     "input": [
      "d"
     ],
     "language": "python",
     "metadata": {},
     "outputs": []
    },
    {
     "cell_type": "markdown",
     "metadata": {},
     "source": [
      "To check the **measurement duration** run:"
     ]
    },
    {
     "cell_type": "code",
     "collapsed": false,
     "input": [
      "d.time_max()"
     ],
     "language": "python",
     "metadata": {},
     "outputs": []
    },
    {
     "cell_type": "markdown",
     "metadata": {},
     "source": [
      "# Background estimation\n",
      "\n",
      "As a first step of the analysis we need to estimate the background. The assumption is that the background is a Poisson process and therefore the photon waiting times are exponentially distributed. Since the background can change during the measurement a new estimation is computed every `time_s` seconds (this time is called the *background period*).\n",
      "\n",
      "A problem is that in the photon waiting times distribution we have both signal and background. Therefore we need to choose a threshold to discriminate between the exponential tail from the rest.\n",
      "\n",
      "Choosing a threshold and fitting the exponential tail are two different problems.\n",
      "FRETBursts provides several ways to specify the minimum threshold and different functions to fit the exponential tail.\n",
      "\n",
      "You can find more info in the documentation for [`calc_bg()` method](http://fretbursts.readthedocs.org/data_class.html#fretbursts.burstlib.Data.calc_bg), \n",
      "the [`background` module](http://fretbursts.readthedocs.org/background.html)\n",
      "and [`exp_fitting` module](http://fretbursts.readthedocs.org/background.html#module-fretbursts.fit.exp_fitting)."
     ]
    },
    {
     "cell_type": "markdown",
     "metadata": {},
     "source": [
      "## Single threshold"
     ]
    },
    {
     "cell_type": "markdown",
     "metadata": {},
     "source": [
      "Let start with a standard Maximum Likelihood (ML) background fit with a minimum tail threshold of 500us:"
     ]
    },
    {
     "cell_type": "code",
     "collapsed": false,
     "input": [
      "d.calc_bg(bg.exp_fit, time_s=1000, tail_min_us=500)"
     ],
     "language": "python",
     "metadata": {},
     "outputs": []
    },
    {
     "cell_type": "markdown",
     "metadata": {},
     "source": [
      "We can look how the fit looks with:"
     ]
    },
    {
     "cell_type": "code",
     "collapsed": false,
     "input": [
      "dplot(d, hist_bg_fit, t_min_us=500)"
     ],
     "language": "python",
     "metadata": {},
     "outputs": []
    },
    {
     "cell_type": "markdown",
     "metadata": {},
     "source": [
      "## Multiple thresholds"
     ]
    },
    {
     "cell_type": "markdown",
     "metadata": {},
     "source": [
      "Optionally, we can specify a threshold for each channel to obtain a better fit:"
     ]
    },
    {
     "cell_type": "code",
     "collapsed": false,
     "input": [
      "d.calc_bg(bg.exp_fit, time_s=1000, tail_min_us=(800, 4000, 1500, 1000, 3000))"
     ],
     "language": "python",
     "metadata": {},
     "outputs": []
    },
    {
     "cell_type": "code",
     "collapsed": false,
     "input": [
      "dplot(d, hist_bg_fit, t_min_us=2000)"
     ],
     "language": "python",
     "metadata": {},
     "outputs": []
    },
    {
     "cell_type": "markdown",
     "metadata": {},
     "source": [
      "## Automatic threshold"
     ]
    },
    {
     "cell_type": "markdown",
     "metadata": {},
     "source": [
      "Finally, is possible to let FRETBursts infer the threshold automatically with:"
     ]
    },
    {
     "cell_type": "code",
     "collapsed": false,
     "input": [
      "d.calc_bg(bg.exp_fit, time_s=1000, tail_min_us='auto', F_bg=1.7)"
     ],
     "language": "python",
     "metadata": {},
     "outputs": []
    },
    {
     "cell_type": "markdown",
     "metadata": {},
     "source": [
      "this is the recommended approach."
     ]
    },
    {
     "cell_type": "code",
     "collapsed": false,
     "input": [
      "dplot(d, hist_bg_fit, t_min_us=2000)"
     ],
     "language": "python",
     "metadata": {},
     "outputs": []
    },
    {
     "cell_type": "markdown",
     "metadata": {},
     "source": [
      "##Getting the background rates\n",
      "\n",
      "The background rates are stored in `Data()` attributes `bg`, `bg_dd`, `bg_ad`, `bg_aa`. These contain all the fitted background rates for each channel and period.\n",
      "\n",
      "We can also get the average background for each channel:"
     ]
    },
    {
     "cell_type": "code",
     "collapsed": false,
     "input": [
      "d.rate_m, d.rate_dd, d.rate_ad, d.rate_da, d.rate_aa"
     ],
     "language": "python",
     "metadata": {},
     "outputs": []
    },
    {
     "cell_type": "markdown",
     "metadata": {},
     "source": [
      "#Burst analysis"
     ]
    },
    {
     "cell_type": "markdown",
     "metadata": {},
     "source": [
      "First step of burst analysis is the burst search. \n",
      "\n",
      "We'll use the sliding-window algorithm on all photons. Note that all-photons here means all the photons selected in the alternation histogram.\n",
      "An important variation compared to the classical sliding-windows is that the threshold-rate for burst start is computed as a function of the background and it changes when the background changes during the measurement.\n",
      "\n",
      "Let perfom a burst search evaluating the photon rate with 10 photons (`m=10`), and selecting a minimum rate 6 times the background rate (F=6) on all photons (default):"
     ]
    },
    {
     "cell_type": "code",
     "collapsed": false,
     "input": [
      "d.burst_search_t(L=10, m=10, F=6)"
     ],
     "language": "python",
     "metadata": {},
     "outputs": []
    },
    {
     "cell_type": "markdown",
     "metadata": {},
     "source": [
      "The previous command perfoms the burst search, corrects the bursts sizes for background and spectral leakage,\n",
      "applies the gamma correction and compute FRET and Stoichiometry. See the \n",
      "[`burst_search_t` documentation](http://fretbursts.readthedocs.org/data_class.html#fretbursts.burstlib.Data.burst_search_t) for more details."
     ]
    },
    {
     "cell_type": "markdown",
     "metadata": {},
     "source": [
      "We can plot the resulting FRET histogram like this:"
     ]
    },
    {
     "cell_type": "code",
     "collapsed": false,
     "input": [
      "dplot(d, hist_fret);"
     ],
     "language": "python",
     "metadata": {},
     "outputs": []
    },
    {
     "cell_type": "markdown",
     "metadata": {},
     "source": [
      "All the pre-defined plots follow this pattern: \n",
      "call the generic `dplot()` function, passing 2 parameters:\n",
      "\n",
      "- the measurement data (`d` in this case) \n",
      "- the plot function (`hist_fret`)\n",
      "\n",
      "In some case we can add other optional parameters to tweak the plot.\n",
      "\n",
      "All the plot functions start with `hist_` for histograms, `scatter_` for scatter-plots  or `timetrace_` for plots function of measurement time. You can use autocompletion to find all the plot function or you can look in `bursts_plot.py` where all the plot functions are defined."
     ]
    },
    {
     "cell_type": "markdown",
     "metadata": {},
     "source": [
      "Instead of `hist_fret` we can use `hist_fret_kde` to add a [KDE](http://en.wikipedia.org/wiki/Kernel_density_estimation) overlay. Also, we can plot a **weighted histogram** by passing an additional parameter `weights`:"
     ]
    },
    {
     "cell_type": "code",
     "collapsed": false,
     "input": [
      "dplot(d, hist_fret, show_kde=True);\n",
      "dplot(d, hist_fret, show_kde=True, weights='size');"
     ],
     "language": "python",
     "metadata": {},
     "outputs": []
    },
    {
     "cell_type": "markdown",
     "metadata": {},
     "source": [
      "You can experiment with different weighting schema (for all supported weights see `get_weigths()` function in `fret_fit.py`)."
     ]
    },
    {
     "cell_type": "markdown",
     "metadata": {},
     "source": [
      "## Burst selection"
     ]
    },
    {
     "cell_type": "markdown",
     "metadata": {},
     "source": [
      "When performing the burst search we specified `L=10` without explaining what it is. *L* is traditionally the minimum size (number of photons) for a burst: smaller bursts will be rejected. By setting L=m (10 in this case) we are deciding to don't discard any burst  (because the smallest detected burst has at least *m* counts). \n",
      "\n",
      "Selecting the bursts in a second step considering the corrected burst size, results in a more accurate an un-biased selection.\n",
      "\n",
      "For example we can select bursts with more than 30 photons (after background, gamma and leakage corrections) and store the result in a new `Data()` variable `ds`:"
     ]
    },
    {
     "cell_type": "code",
     "collapsed": false,
     "input": [
      "ds = Sel(d, select_bursts.size, th1=30)"
     ],
     "language": "python",
     "metadata": {},
     "outputs": []
    },
    {
     "cell_type": "markdown",
     "metadata": {},
     "source": [
      "By defaults the burst size includes donor and acceptor photons during donor excitation. To also add acceptor photons during acceptor excitation (`naa`) we can pass `add_naa=True`:"
     ]
    },
    {
     "cell_type": "code",
     "collapsed": false,
     "input": [
      "ds = Sel(d, select_bursts.size, add_naa=True, th1=30)"
     ],
     "language": "python",
     "metadata": {},
     "outputs": []
    },
    {
     "cell_type": "markdown",
     "metadata": {},
     "source": [
      "Similar to the plot functions, all the selection functions are defined in `select_bursts.py` and you can access them typing `select_bursts.` and using TAB for autocompletion. \n",
      "\n",
      "> **See also:** \n",
      "> * [Burst selection](http://fretbursts.readthedocs.org/burst_selection.html) in the documentation. \n",
      "> In particular the function [`select_bursts.size`](http://fretbursts.readthedocs.org/burst_selection.html#fretbursts.select_bursts.size) and [`Sel`](http://fretbursts.readthedocs.org/burst_selection.html#fretbursts.burstlib.Sel).\n",
      "\n",
      "Let's replot the FRET histogram after selection (note that now we are passing `ds` that contains the selected bursts):"
     ]
    },
    {
     "cell_type": "code",
     "collapsed": false,
     "input": [
      "dplot(ds, hist_fret);"
     ],
     "language": "python",
     "metadata": {},
     "outputs": []
    },
    {
     "cell_type": "markdown",
     "metadata": {},
     "source": [
      "Note how the histogram is much more defined after the burst selection. "
     ]
    },
    {
     "cell_type": "markdown",
     "metadata": {},
     "source": [
      "## Histogram fitting and plotting style\n",
      "\n",
      "Now, as just an example, we fit this histogram with 3 Gaussian peaks:"
     ]
    },
    {
     "cell_type": "code",
     "collapsed": false,
     "input": [
      "ds.E_fitter.fit_histogram(mfit.factory_three_gaussians())"
     ],
     "language": "python",
     "metadata": {},
     "outputs": []
    },
    {
     "cell_type": "code",
     "collapsed": false,
     "input": [
      "dplot(ds, hist_fret, show_model=True)"
     ],
     "language": "python",
     "metadata": {},
     "outputs": []
    },
    {
     "cell_type": "markdown",
     "metadata": {},
     "source": [
      "The bin width can be changed with `bin_width` argument or the full bins can be passed in `bins` (overriding `bin_width`).\n",
      "\n",
      "We can customize the appearance of this plot (type `hist_fret?` for the complete set of arguments). \n",
      "\n",
      "For example to change from a bar plot to a line-plot we use the `hist_style` argument:"
     ]
    },
    {
     "cell_type": "code",
     "collapsed": false,
     "input": [
      "dplot(ds, hist_fret, show_model=True, hist_style='line')"
     ],
     "language": "python",
     "metadata": {},
     "outputs": []
    },
    {
     "cell_type": "markdown",
     "metadata": {},
     "source": [
      "We can customize the line-plot, bar-plot, the model plot and the KDE plot by passing dictionaries with matplotlib style. The name of the arguments are:\n",
      "\n",
      "- `hist_plot_style`: style fot the histogram line-plot\n",
      "- `hist_bar_style`: style for the histogram bar-plot\n",
      "- `model_plot_style`: style for the model plot\n",
      "- `kde_plot_style`: style for the KDE plot\n",
      "\n",
      "Let see an example:"
     ]
    },
    {
     "cell_type": "code",
     "collapsed": false,
     "input": [
      "dplot(ds, hist_fret, show_model=True, hist_style='bar', show_kde=True,\n",
      "      kde_plot_style = dict(linewidth=5, color='orange', alpha=0.6),\n",
      "      hist_plot_style = dict(linewidth=3, markersize=8, color='b', alpha=0.6))\n",
      "plt.legend()"
     ],
     "language": "python",
     "metadata": {},
     "outputs": []
    },
    {
     "cell_type": "markdown",
     "metadata": {},
     "source": [
      "# Other plots"
     ]
    },
    {
     "cell_type": "markdown",
     "metadata": {},
     "source": [
      "Similarly we can plot the burst size using all photons (type `hist_size?` for all the plot options):"
     ]
    },
    {
     "cell_type": "code",
     "collapsed": false,
     "input": [
      "dplot(ds, hist_size, add_naa=True);"
     ],
     "language": "python",
     "metadata": {},
     "outputs": []
    },
    {
     "cell_type": "markdown",
     "metadata": {},
     "source": [
      "Or plot the burst size histogram for the different components:"
     ]
    },
    {
     "cell_type": "code",
     "collapsed": false,
     "input": [
      "dplot(ds, hist_size_all);"
     ],
     "language": "python",
     "metadata": {},
     "outputs": []
    },
    {
     "cell_type": "markdown",
     "metadata": {},
     "source": [
      "> **NOTE:** The previous plot may generate a benign warning due to the presence of zeroes when switching to log scale. Just ignore it."
     ]
    },
    {
     "cell_type": "markdown",
     "metadata": {},
     "source": [
      "A scatterplot Size *vs* FRET:"
     ]
    },
    {
     "cell_type": "code",
     "collapsed": false,
     "input": [
      "dplot(ds, scatter_fret_nd_na)\n",
      "xlim(-1, 2)"
     ],
     "language": "python",
     "metadata": {},
     "outputs": []
    },
    {
     "cell_type": "markdown",
     "metadata": {},
     "source": [
      "# Study of different populations"
     ]
    },
    {
     "cell_type": "markdown",
     "metadata": {},
     "source": [
      "We can further select only bursts smaller than 300 photons to get rid of eventual aggregates:"
     ]
    },
    {
     "cell_type": "code",
     "collapsed": false,
     "input": [
      "ds2 = Sel(ds, select_bursts.size, th2=300)"
     ],
     "language": "python",
     "metadata": {},
     "outputs": []
    },
    {
     "cell_type": "markdown",
     "metadata": {},
     "source": [
      "and superimpose the two histograms before and after selection to see the difference:"
     ]
    },
    {
     "cell_type": "code",
     "collapsed": false,
     "input": [
      "ax = dplot(ds2, hist_fret, hist_style='bar', show_kde=True, \n",
      "              hist_bar_style = dict(facecolor='r', alpha=0.5, label='Hist. no large bursts'),\n",
      "              kde_plot_style = dict(lw=3, color='m', label='KDE no large bursts'))\n",
      "dplot(ds, hist_fret, ax=ax, hist_style='bar', show_kde=True,\n",
      "      hist_bar_style = dict(label='Hist. with large bursts'),\n",
      "      kde_plot_style = dict(lw=3, label='KDE with large bursts'))\n",
      "plt.legend();"
     ],
     "language": "python",
     "metadata": {},
     "outputs": []
    },
    {
     "cell_type": "markdown",
     "metadata": {},
     "source": [
      "## Fit and plot peak positions\n",
      "\n",
      "We can find the KDE peak position in a range (let say 0.2 ... 0.6):"
     ]
    },
    {
     "cell_type": "code",
     "collapsed": false,
     "input": [
      "ds.E_fitter.find_kde_max(np.r_[0:1:0.0002], xmin=0.2, xmax=0.6)"
     ],
     "language": "python",
     "metadata": {},
     "outputs": []
    },
    {
     "cell_type": "markdown",
     "metadata": {},
     "source": [
      "and plot it with `show_kde_peak=True`, we also use `show_fit_value=True` to show a box with the fitted value:"
     ]
    },
    {
     "cell_type": "code",
     "collapsed": false,
     "input": [
      "dplot(ds, hist_fret, hist_style='line', \n",
      "      show_fit_value=True, \n",
      "      show_kde=True, show_kde_peak=True);"
     ],
     "language": "python",
     "metadata": {},
     "outputs": []
    },
    {
     "cell_type": "markdown",
     "metadata": {},
     "source": [
      "Instead of using the KDE, we can use the peak position as fitted from a gaussian model. "
     ]
    },
    {
     "cell_type": "code",
     "collapsed": false,
     "input": [
      "ds.E_fitter.fit_histogram(mfit.factory_three_gaussians())"
     ],
     "language": "python",
     "metadata": {},
     "outputs": []
    },
    {
     "cell_type": "markdown",
     "metadata": {},
     "source": [
      "To select which peak to show we use `fit_from='p1_center'`:"
     ]
    },
    {
     "cell_type": "code",
     "collapsed": false,
     "input": [
      "dplot(ds, hist_fret, hist_style='line', \n",
      "      show_fit_value=True, fit_from='p1_center', \n",
      "      show_model=True);"
     ],
     "language": "python",
     "metadata": {},
     "outputs": []
    },
    {
     "cell_type": "markdown",
     "metadata": {},
     "source": [
      "The string `'p1_center'` is the name of the parameter of the gaussian fit that we want to show in the text box. To see all the parameters of the models we look in:"
     ]
    },
    {
     "cell_type": "code",
     "collapsed": false,
     "input": [
      "ds.E_fitter.params"
     ],
     "language": "python",
     "metadata": {},
     "outputs": []
    },
    {
     "cell_type": "markdown",
     "metadata": {},
     "source": [
      "## ALEX plots"
     ]
    },
    {
     "cell_type": "markdown",
     "metadata": {},
     "source": [
      "We can make a simple E-S scatter plot with `scatter_alex`:"
     ]
    },
    {
     "cell_type": "code",
     "collapsed": false,
     "input": [
      "dplot(ds, scatter_alex, figsize=(4,4), mew=1, ms=4, mec='black', color='purple')"
     ],
     "language": "python",
     "metadata": {},
     "outputs": []
    },
    {
     "cell_type": "markdown",
     "metadata": {},
     "source": [
      "We can also plot the ALEX histogram with a scatterplot overlay using `hist2d_alex`:"
     ]
    },
    {
     "cell_type": "code",
     "collapsed": false,
     "input": [
      "dplot(ds, hist2d_alex);"
     ],
     "language": "python",
     "metadata": {},
     "outputs": []
    },
    {
     "cell_type": "markdown",
     "metadata": {},
     "source": [
      "We can try get rid of the large donor-only population simply selecting burst with at least 4 photons in the acceptor channel (during acceptor excitation):"
     ]
    },
    {
     "cell_type": "code",
     "collapsed": false,
     "input": [
      "ds2 = Sel(ds, select_bursts.naa, th1=4)\n",
      "dplot(ds2, hist2d_alex);\n",
      "dplot(ds2, hist_fret);"
     ],
     "language": "python",
     "metadata": {},
     "outputs": []
    },
    {
     "cell_type": "markdown",
     "metadata": {},
     "source": [
      "Much better, but maybe we want to select a region on the E/S histogram to completely eliminate the donor-only.\n",
      "\n",
      "To select bursts graphically we need to open the ALEX histogram in a new (QT) window, dragg the mouse to define a selection and  having it printed here in the notebook.\n",
      "\n",
      "When you are done you can close the additional window and continue the execution.\n",
      "\n",
      "Here the commands:"
     ]
    },
    {
     "cell_type": "code",
     "collapsed": false,
     "input": [
      "# Switches to open plot in external window\n",
      "#%matplotlib qt "
     ],
     "language": "python",
     "metadata": {},
     "outputs": []
    },
    {
     "cell_type": "code",
     "collapsed": false,
     "input": [
      "# ALEX histogram with GUI selection enabled\n",
      "#dplot(ds, hist2d_alex, gui_sel=True)"
     ],
     "language": "python",
     "metadata": {},
     "outputs": []
    },
    {
     "cell_type": "code",
     "collapsed": false,
     "input": [
      "# Switch back to show plots inline in the notebook\n",
      "#%matplotlib inline"
     ],
     "language": "python",
     "metadata": {},
     "outputs": []
    },
    {
     "cell_type": "markdown",
     "metadata": {},
     "source": [
      "Now, to apply the selection, we paste the values obtained from the previous plot. We can use a rectangular or elliptical selection (see image), using `select_bursts.ES` and setting respectively `rect=True` or `rect=False`. Here we use the ellitpical selection:"
     ]
    },
    {
     "cell_type": "code",
     "collapsed": false,
     "input": [
      "d_fret_mix = Sel(ds, select_bursts.ES, E1=-0.07, E2=1.17, S1=0.18, S2=0.70, rect=False)"
     ],
     "language": "python",
     "metadata": {},
     "outputs": []
    },
    {
     "cell_type": "markdown",
     "metadata": {},
     "source": [
      "By plotting the FRET histogram we can double check that the selection has been applied:"
     ]
    },
    {
     "cell_type": "code",
     "collapsed": false,
     "input": [
      "dplot(d_fret_mix, hist2d_alex)"
     ],
     "language": "python",
     "metadata": {},
     "outputs": []
    },
    {
     "cell_type": "markdown",
     "metadata": {},
     "source": [
      "Now we can further separate high- and low FRET sub-populations. We can go back to the GUI:"
     ]
    },
    {
     "cell_type": "code",
     "collapsed": false,
     "input": [
      "#%matplotlib qt"
     ],
     "language": "python",
     "metadata": {},
     "outputs": []
    },
    {
     "cell_type": "code",
     "collapsed": false,
     "input": [
      "#dplot(d_fret_mix, hist2d_alex, gui_sel=True)"
     ],
     "language": "python",
     "metadata": {},
     "outputs": []
    },
    {
     "cell_type": "code",
     "collapsed": false,
     "input": [
      "#%matplotlib inline"
     ],
     "language": "python",
     "metadata": {},
     "outputs": []
    },
    {
     "cell_type": "code",
     "collapsed": false,
     "input": [
      "d_high_fret = Sel(d_fret_mix, select_bursts.ES_ellips, E1=0.65, E2=1.09, S1=-0.13, S2=0.96)\n",
      "d_low_fret = Sel(d_fret_mix, select_bursts.ES_ellips, E1=-0.19, E2=0.64, S1=-0.05, S2=0.92)"
     ],
     "language": "python",
     "metadata": {},
     "outputs": []
    },
    {
     "cell_type": "code",
     "collapsed": false,
     "input": [
      "dplot(d_high_fret, hist2d_alex);"
     ],
     "language": "python",
     "metadata": {},
     "outputs": []
    },
    {
     "cell_type": "code",
     "collapsed": false,
     "input": [
      "dplot(d_low_fret, hist2d_alex);"
     ],
     "language": "python",
     "metadata": {},
     "outputs": []
    },
    {
     "cell_type": "markdown",
     "metadata": {},
     "source": [
      "We can for example compute the ratio of high- and low-fret bursts:"
     ]
    },
    {
     "cell_type": "code",
     "collapsed": false,
     "input": [
      "1.*d_low_fret.num_bursts()/d_high_fret.num_bursts()"
     ],
     "language": "python",
     "metadata": {},
     "outputs": []
    },
    {
     "cell_type": "markdown",
     "metadata": {},
     "source": [
      "##Burst Width analysis"
     ]
    },
    {
     "cell_type": "markdown",
     "metadata": {},
     "source": [
      "To plot a burst-width histogram we can just use `hist_width` instead of `hist_fret`:"
     ]
    },
    {
     "cell_type": "code",
     "collapsed": false,
     "input": [
      "dplot(d_low_fret, hist_width)"
     ],
     "language": "python",
     "metadata": {},
     "outputs": []
    },
    {
     "cell_type": "markdown",
     "metadata": {},
     "source": [
      "Let use a larger bin size, plots two sub-populations (in different color) and add a legend:"
     ]
    },
    {
     "cell_type": "code",
     "collapsed": false,
     "input": [
      "ax = dplot(d_high_fret, hist_width, bins=r_[0:10:0.2], color='g')\n",
      "dplot(d_low_fret, hist_width, bins=r_[0:10:0.2], ax=ax, color='r')\n",
      "plt.legend(['High-FRET population', 'Low-FRET population'])"
     ],
     "language": "python",
     "metadata": {},
     "outputs": []
    },
    {
     "cell_type": "markdown",
     "metadata": {},
     "source": [
      "Finally we compute the mean burst width for each subpopulation:"
     ]
    },
    {
     "cell_type": "code",
     "collapsed": false,
     "input": [
      "mean_b_width_low_fret  = bl.b_width(d_low_fret.mburst[0]).mean()*d_low_fret.clk_p*1e3\n",
      "mean_b_width_high_fret = bl.b_width(d_high_fret.mburst[0]).mean()*d_high_fret.clk_p*1e3\n",
      "\n",
      "print 'Mean burst width: %.1f ms (high-fret), %.1f (low-fret)' % (mean_b_width_high_fret, mean_b_width_low_fret)"
     ],
     "language": "python",
     "metadata": {},
     "outputs": []
    },
    {
     "cell_type": "markdown",
     "metadata": {},
     "source": [
      "# FRET fit: in-depth example"
     ]
    },
    {
     "cell_type": "markdown",
     "metadata": {},
     "source": [
      "We can fit a FRET distribution to any model. For example here we fit the FRET selection (2 FRET sub-population) with 2 gaussians. The model is `Model` object from the `lmfit` package.\n",
      "\n",
      "To create a model and initialize tha parameters we use `factory_two_gaussians()`:"
     ]
    },
    {
     "cell_type": "code",
     "collapsed": false,
     "input": [
      "model = mfit.factory_two_gaussians()"
     ],
     "language": "python",
     "metadata": {},
     "outputs": []
    },
    {
     "cell_type": "markdown",
     "metadata": {},
     "source": [
      "We can see the list of parameters, the intial values and bounds by looking in `model.params`:"
     ]
    },
    {
     "cell_type": "code",
     "collapsed": false,
     "input": [
      "params = model.make_params()\n",
      "params.values()"
     ],
     "language": "python",
     "metadata": {},
     "outputs": []
    },
    {
     "cell_type": "markdown",
     "metadata": {},
     "source": [
      "We can modify some initial values and contrains:"
     ]
    },
    {
     "cell_type": "code",
     "collapsed": false,
     "input": [
      "params['p1_center'].set(0.2, min=-0.1, max=1.1)\n",
      "params['p2_center'].set(0.8, min=-0.1, max=1.1)"
     ],
     "language": "python",
     "metadata": {},
     "outputs": []
    },
    {
     "cell_type": "markdown",
     "metadata": {},
     "source": [
      "Finally we assign the model and we fit the histogram with one of the [supported methods](http://lmfit.github.io/lmfit-py/fitting.html#fit-engines-label):"
     ]
    },
    {
     "cell_type": "code",
     "collapsed": false,
     "input": [
      "bext.bursts_fitter(d_fret_mix)  # create fitter for E values and save it in d_fret_mix.E_fitter  \n",
      "d_fret_mix.E_fitter.model = model"
     ],
     "language": "python",
     "metadata": {},
     "outputs": []
    },
    {
     "cell_type": "code",
     "collapsed": false,
     "input": [
      "d_fret_mix.E_fitter.fit_histogram(method='leastsq')  # This is the default\n",
      "#d_fret_mix.E_fitter.fit_histogram(method='lbfgsb')\n",
      "#d_fret_mix.E_fitter.fit_histogram(method='nelder')\n",
      "#d_fret_mix.E_fitter.fit_histogram(method='slsqp')"
     ],
     "language": "python",
     "metadata": {},
     "outputs": []
    },
    {
     "cell_type": "markdown",
     "metadata": {},
     "source": [
      "In the early examples we directly passed the model to fit_histogram. Here we first created the model, tweaked some initial values and constrains and then used this model to fit the $E$ histogram."
     ]
    },
    {
     "cell_type": "markdown",
     "metadata": {},
     "source": [
      "To plot the model with the fitted parameters on top of the FRET histogram we add `show_model=True` as seen before:"
     ]
    },
    {
     "cell_type": "code",
     "collapsed": false,
     "input": [
      "dplot(d_fret_mix, hist_fret, show_model=True)"
     ],
     "language": "python",
     "metadata": {},
     "outputs": []
    },
    {
     "cell_type": "markdown",
     "metadata": {},
     "source": [
      "The minimizer object returned by `lmfit` is saved in the list `fit_res` (one element per channel) in the fitter object:"
     ]
    },
    {
     "cell_type": "code",
     "collapsed": false,
     "input": [
      "results = d_fret_mix.E_fitter.fit_res[0]\n",
      "results"
     ],
     "language": "python",
     "metadata": {},
     "outputs": []
    },
    {
     "cell_type": "markdown",
     "metadata": {},
     "source": [
      "For example we can take a look at the initial parameters:"
     ]
    },
    {
     "cell_type": "code",
     "collapsed": false,
     "input": [
      "results.init_params.values()"
     ],
     "language": "python",
     "metadata": {},
     "outputs": []
    },
    {
     "cell_type": "markdown",
     "metadata": {},
     "source": [
      "and at the fitted parameters:"
     ]
    },
    {
     "cell_type": "code",
     "collapsed": false,
     "input": [
      "results.params.values()"
     ],
     "language": "python",
     "metadata": {},
     "outputs": []
    },
    {
     "cell_type": "markdown",
     "metadata": {},
     "source": [
      "Moreover, for convenience, the fitter object (`E_fitter`) saves the fitted parameter values in `E_fitter.params` (a pandas DataFrame):"
     ]
    },
    {
     "cell_type": "code",
     "collapsed": false,
     "input": [
      "d_fret_mix.E_fitter.params"
     ],
     "language": "python",
     "metadata": {},
     "outputs": []
    },
    {
     "cell_type": "markdown",
     "metadata": {},
     "source": [
      "Lmfit allows to print useful fit reports that include statistics like reduced chi-square, error ranges ($\\pm 1 \\sigma$) and correlations:"
     ]
    },
    {
     "cell_type": "code",
     "collapsed": false,
     "input": [
      "print results.fit_report()"
     ],
     "language": "python",
     "metadata": {},
     "outputs": []
    },
    {
     "cell_type": "markdown",
     "metadata": {},
     "source": [
      "For more on how to use the powerful lmfit features refer to the [lmfit documentation](http://cars9.uchicago.edu/software/python/lmfit/index.html)."
     ]
    },
    {
     "cell_type": "markdown",
     "metadata": {},
     "source": [
      "# Timetrace and Ratetrace\n",
      "\n",
      "For an intial inspection of a data file is common to do a *timetrace* plot. We also can do a similar plot called *ratetrace* that does not bin the data but shows the instantaneous rate. In both cases is convenient to scroll the plot interactively.\n",
      "\n",
      "In FRETBursts we have *timetrace* and *ratetrace* plots that support interactive scrolling. We just need to switch from the inline backend to the QT, like we did before. \n",
      "\n",
      "And here the commands:"
     ]
    },
    {
     "cell_type": "code",
     "collapsed": false,
     "input": [
      "#%matplotlib qt"
     ],
     "language": "python",
     "metadata": {},
     "outputs": []
    },
    {
     "cell_type": "code",
     "collapsed": false,
     "input": [
      "#dplot(d, ratetrace, scroll=True)"
     ],
     "language": "python",
     "metadata": {},
     "outputs": []
    },
    {
     "cell_type": "code",
     "collapsed": false,
     "input": [
      "#plt.ylim(-3e5, 3e5)"
     ],
     "language": "python",
     "metadata": {},
     "outputs": []
    },
    {
     "cell_type": "code",
     "collapsed": false,
     "input": [
      "#dplot(d, timetrace, scroll=True, tmax=600)"
     ],
     "language": "python",
     "metadata": {},
     "outputs": []
    },
    {
     "cell_type": "code",
     "collapsed": false,
     "input": [
      "#plt.ylim(-100, 100)"
     ],
     "language": "python",
     "metadata": {},
     "outputs": []
    },
    {
     "cell_type": "code",
     "collapsed": false,
     "input": [
      "#%matplotlib inline"
     ],
     "language": "python",
     "metadata": {},
     "outputs": []
    },
    {
     "cell_type": "markdown",
     "metadata": {},
     "source": [
      "# Notebook style"
     ]
    },
    {
     "cell_type": "code",
     "collapsed": false,
     "input": [
      "%cd $NOTEBOOK_DIR"
     ],
     "language": "python",
     "metadata": {},
     "outputs": []
    },
    {
     "cell_type": "code",
     "collapsed": false,
     "input": [
      "from IPython.core.display import HTML\n",
      "HTML(open(\"./styles/custom2.css\", \"r\").read())"
     ],
     "language": "python",
     "metadata": {},
     "outputs": []
    },
    {
     "cell_type": "code",
     "collapsed": false,
     "input": [],
     "language": "python",
     "metadata": {},
     "outputs": []
    }
   ],
   "metadata": {}
  }
 ]
}