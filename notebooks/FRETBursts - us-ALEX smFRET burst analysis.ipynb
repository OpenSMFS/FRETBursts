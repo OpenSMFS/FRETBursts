{
 "cells": [
  {
   "cell_type": "markdown",
   "metadata": {
    "input_collapsed": false
   },
   "source": [
    "# FRETBursts - us-ALEX smFRET burst analysis\n",
    "\n",
    "*This notebook is part of a [tutorial series](https://github.com/tritemio/FRETBursts_notebooks) for the [FRETBursts](http://tritemio.github.io/FRETBursts/) burst analysis software.*"
   ]
  },
  {
   "cell_type": "markdown",
   "metadata": {},
   "source": [
    "> In this notebook we present a typical [FRETBursts](https://github.com/tritemio/FRETBursts/) \n",
    "> workflow for **us-ALEX smFRET burst analysis**. \n",
    "> Briefly, we show how to perform background estimation, burst search, burst selection, \n",
    "> FRET histograms, ALEX histograms, sub-population selection and FRET efficiency fit."
   ]
  },
  {
   "cell_type": "markdown",
   "metadata": {},
   "source": [
    "# Loading the software"
   ]
  },
  {
   "cell_type": "markdown",
   "metadata": {},
   "source": [
    "We start loading **`FRETBursts`**:"
   ]
  },
  {
   "cell_type": "code",
   "execution_count": null,
   "metadata": {
    "collapsed": false
   },
   "outputs": [],
   "source": [
    "from fretbursts import *"
   ]
  },
  {
   "cell_type": "markdown",
   "metadata": {},
   "source": [
    "> *Please remember to **always cite** FRETBursts in publications or presentations.*\n",
    "\n",
    "Note that FRETBursts **version string** tells you the exact revision \n",
    "that is currently in use (we use [versioneer](https://github.com/warner/python-versioneer)). \n",
    "Storing the version in the notebook helps reproducibility and in \n",
    "tracking software regressions.\n",
    "\n",
    "Optionally we can initialize the default plot style for the notebook \n",
    "(requires [seaborn](http://stanford.edu/~mwaskom/software/seaborn/)):"
   ]
  },
  {
   "cell_type": "code",
   "execution_count": null,
   "metadata": {
    "collapsed": false
   },
   "outputs": [],
   "source": [
    "sns = init_notebook()"
   ]
  },
  {
   "cell_type": "code",
   "execution_count": null,
   "metadata": {
    "collapsed": false
   },
   "outputs": [],
   "source": [
    "import lmfit; lmfit.__version__"
   ]
  },
  {
   "cell_type": "code",
   "execution_count": null,
   "metadata": {
    "collapsed": false
   },
   "outputs": [],
   "source": [
    "import phconvert; phconvert.__version__"
   ]
  },
  {
   "cell_type": "markdown",
   "metadata": {},
   "source": [
    "# Downloading the sample data file"
   ]
  },
  {
   "cell_type": "markdown",
   "metadata": {},
   "source": [
    "The full list of smFRET measurements used in the [FRETBursts tutorials](https://github.com/tritemio/FRETBursts_notebooks) \n",
    "can be found on [Figshare](http://dx.doi.org/10.6084/m9.figshare.1456362).\n",
    "\n",
    "Here we download the us-ALEX data-file and put it in a folder named `data`, \n",
    "inside the notebook folder. \n",
    "For this purpose we use the `download_file` function provided \n",
    "by FRETBursts:"
   ]
  },
  {
   "cell_type": "code",
   "execution_count": null,
   "metadata": {
    "collapsed": false
   },
   "outputs": [],
   "source": [
    "url = 'http://files.figshare.com/2182601/0023uLRpitc_NTP_20dT_0.5GndCl.hdf5'"
   ]
  },
  {
   "cell_type": "code",
   "execution_count": null,
   "metadata": {
    "collapsed": false
   },
   "outputs": [],
   "source": [
    "download_file(url, save_dir='./data')"
   ]
  },
  {
   "cell_type": "markdown",
   "metadata": {},
   "source": [
    "# Selecting a data file"
   ]
  },
  {
   "cell_type": "markdown",
   "metadata": {},
   "source": [
    "Let's select now a data-file. We can either paste the filename \n",
    "in a variable, or we can use a GUI Open-File dialog. In either \n",
    "cases we'll end up with the a file name stored in the \n",
    "variable `filename`."
   ]
  },
  {
   "cell_type": "markdown",
   "metadata": {},
   "source": [
    "## Option 1: Use an \"Open File\" dialog"
   ]
  },
  {
   "cell_type": "markdown",
   "metadata": {},
   "source": [
    "We can select a data file with an \"Open File\" windows (note: it may pop-up in the foreground):"
   ]
  },
  {
   "cell_type": "code",
   "execution_count": null,
   "metadata": {
    "collapsed": false
   },
   "outputs": [],
   "source": [
    "# filename = OpenFileDialog()\n",
    "# filename"
   ]
  },
  {
   "cell_type": "markdown",
   "metadata": {},
   "source": [
    "Now `full_fname` contains the path of the file you just selected. \n",
    "Run again the previous cell to select a new file."
   ]
  },
  {
   "cell_type": "markdown",
   "metadata": {},
   "source": [
    "## Option 2: Paste the file-name"
   ]
  },
  {
   "cell_type": "markdown",
   "metadata": {},
   "source": [
    "Alternatively, we can directly define the file name to be loaded:"
   ]
  },
  {
   "cell_type": "code",
   "execution_count": null,
   "metadata": {
    "collapsed": false
   },
   "outputs": [],
   "source": [
    "filename = \"./data/0023uLRpitc_NTP_20dT_0.5GndCl.hdf5\""
   ]
  },
  {
   "cell_type": "markdown",
   "metadata": {},
   "source": [
    "Let's check that the file exists:"
   ]
  },
  {
   "cell_type": "code",
   "execution_count": null,
   "metadata": {
    "collapsed": false
   },
   "outputs": [],
   "source": [
    "import os\n",
    "if os.path.isfile(filename):\n",
    "    print(\"Perfect, I found the file!\")\n",
    "else:\n",
    "    print(\"Sorry, I can't find the file:\\n%s\" % filename)"
   ]
  },
  {
   "cell_type": "markdown",
   "metadata": {},
   "source": [
    "# Load the selected file"
   ]
  },
  {
   "cell_type": "markdown",
   "metadata": {},
   "source": [
    "We can finally load the measurement and store it in a variable \n",
    "called `d`. \n",
    "\n",
    "For convenience we also set the correction coefficients so that \n",
    "they will be used in the subsequent analysis. The correction \n",
    "coefficients are: \n",
    "\n",
    "* leakage or bleed-through: `leakage`\n",
    "* direct excitation: `dir_ex` (ALEX-only)\n",
    "* gamma-factor `gamma`"
   ]
  },
  {
   "cell_type": "code",
   "execution_count": null,
   "metadata": {
    "collapsed": false
   },
   "outputs": [],
   "source": [
    "d = loader.photon_hdf5(filename)"
   ]
  },
  {
   "cell_type": "code",
   "execution_count": null,
   "metadata": {
    "collapsed": false
   },
   "outputs": [],
   "source": [
    "d.leakage = 0.11\n",
    "d.dir_ex = 0.04\n",
    "d.gamma = 1."
   ]
  },
  {
   "cell_type": "markdown",
   "metadata": {},
   "source": [
    "> **NOTE:** at any later moment, after burst search, a simple \n",
    "> reassignment of these coefficient will update the burst \n",
    "> data with the new correction values."
   ]
  },
  {
   "cell_type": "markdown",
   "metadata": {},
   "source": [
    "# us-ALEX parameters\n",
    "\n",
    "At this point, in `d`, we only have the timestamps (`ph_times_t`) and the detector numbers (`det_t`):"
   ]
  },
  {
   "cell_type": "code",
   "execution_count": null,
   "metadata": {
    "collapsed": false
   },
   "outputs": [],
   "source": [
    "d.ph_times_t, d.det_t"
   ]
  },
  {
   "cell_type": "markdown",
   "metadata": {},
   "source": [
    "We need to define some ALEX parameters: \n",
    "\n",
    "- donor and acceptor channels (`det_donor_accept`)\n",
    "- length of excitation period (`alex_period`)\n",
    "- donor and acceptor excitation windows (`D_ON` and `A_ON`)"
   ]
  },
  {
   "cell_type": "code",
   "execution_count": null,
   "metadata": {
    "collapsed": false
   },
   "outputs": [],
   "source": [
    "d.add(det_donor_accept = (0, 1), \n",
    "      alex_period = 4000,\n",
    "      offset = 700,\n",
    "      D_ON = (2180, 3900), \n",
    "      A_ON = (200, 1800))"
   ]
  },
  {
   "cell_type": "markdown",
   "metadata": {},
   "source": [
    "We have to check the consistency of the alternation \n",
    "histogram to verify whether the parameters are correct:"
   ]
  },
  {
   "cell_type": "code",
   "execution_count": null,
   "metadata": {
    "collapsed": false
   },
   "outputs": [],
   "source": [
    "bpl.plot_alternation_hist(d)"
   ]
  },
  {
   "cell_type": "markdown",
   "metadata": {},
   "source": [
    "The previous alternation histogram looks correct, \n",
    "so we can apply the current parameters:"
   ]
  },
  {
   "cell_type": "code",
   "execution_count": null,
   "metadata": {
    "collapsed": false
   },
   "outputs": [],
   "source": [
    "loader.alex_apply_period(d)"
   ]
  },
  {
   "cell_type": "markdown",
   "metadata": {},
   "source": [
    "If the previous histogram does not look right, you can go back \n",
    "and modify the parameters in the `d.add(...)` cell and re-plot \n",
    "the histogram until it looks fine. Don't forget to apply the \n",
    "parameters with `loader.usalex_apply_period(d)` as a last step.\n",
    "\n",
    "> **NOTE:** After applying the ALEX parameters a new array of \n",
    "> timestamps containing only photons inside the excitation periods \n",
    "> is created (name `d.ph_times_m`). To save memory, by default, \n",
    "> the old timestamps array (`d.ph_times_t`) is deleted. Therefore, \n",
    "> in the following, when we talk about all-photon selection we always \n",
    "> refer to all photons inside the excitation periods."
   ]
  },
  {
   "cell_type": "markdown",
   "metadata": {},
   "source": [
    "## Measurement infos"
   ]
  },
  {
   "cell_type": "markdown",
   "metadata": {},
   "source": [
    "The entire measurement data is now in the variable `d`. Printing it\n",
    "will give a compact representation containing the file-name and some \n",
    "eventual parameters (only the $\\gamma$-factor in this case):"
   ]
  },
  {
   "cell_type": "code",
   "execution_count": null,
   "metadata": {
    "collapsed": false
   },
   "outputs": [],
   "source": [
    "d"
   ]
  },
  {
   "cell_type": "markdown",
   "metadata": {},
   "source": [
    "To check the **measurement duration** run:"
   ]
  },
  {
   "cell_type": "code",
   "execution_count": null,
   "metadata": {
    "collapsed": false
   },
   "outputs": [],
   "source": [
    "d.time_max"
   ]
  },
  {
   "cell_type": "markdown",
   "metadata": {},
   "source": [
    "# Background estimation\n",
    "\n",
    "As a first step of the analysis we need to estimate the background. \n",
    "The assumption is that the background is a Poisson process and therefore \n",
    "the photon waiting times are exponentially distributed. Since the \n",
    "background can change during the measurement a new estimation is \n",
    "computed every `time_s` seconds (this time is called the *background period*).\n",
    "\n",
    "A problem is that in the photon waiting times distribution we have \n",
    "both signal and background. Therefore we need to choose a threshold \n",
    "to discriminate between the exponential tail from the rest.\n",
    "\n",
    "Choosing a threshold and fitting the exponential tail are two \n",
    "different problems.\n",
    "FRETBursts provides several ways to specify the minimum threshold \n",
    "and different functions to fit the exponential tail.\n",
    "\n",
    "You can find more info in the documentation for \n",
    "[`calc_bg()` method](http://fretbursts.readthedocs.org/en/latest/data_class.html#fretbursts.burstlib.Data.calc_bg), \n",
    "the [`background` module](http://fretbursts.readthedocs.org/en/latest/background.html)\n",
    "and [`exp_fitting` module](http://fretbursts.readthedocs.org/en/latest/background.html#module-fretbursts.fit.exp_fitting)."
   ]
  },
  {
   "cell_type": "markdown",
   "metadata": {},
   "source": [
    "## Single threshold"
   ]
  },
  {
   "cell_type": "markdown",
   "metadata": {},
   "source": [
    "Let start with a standard Maximum Likelihood (ML) \n",
    "background fit with a minimum tail threshold of 500us:"
   ]
  },
  {
   "cell_type": "code",
   "execution_count": null,
   "metadata": {
    "collapsed": false
   },
   "outputs": [],
   "source": [
    "d.calc_bg(bg.exp_fit, time_s=1000, tail_min_us=500)"
   ]
  },
  {
   "cell_type": "markdown",
   "metadata": {},
   "source": [
    "We can look how the fit looks with:"
   ]
  },
  {
   "cell_type": "code",
   "execution_count": null,
   "metadata": {
    "collapsed": false
   },
   "outputs": [],
   "source": [
    "dplot(d, hist_bg, show_fit=True)"
   ]
  },
  {
   "cell_type": "markdown",
   "metadata": {},
   "source": [
    "## Multiple thresholds"
   ]
  },
  {
   "cell_type": "markdown",
   "metadata": {},
   "source": [
    "Optionally, we can specify a threshold for each channel to obtain a better fit:"
   ]
  },
  {
   "cell_type": "code",
   "execution_count": null,
   "metadata": {
    "collapsed": false
   },
   "outputs": [],
   "source": [
    "d.calc_bg(bg.exp_fit, time_s=1000, tail_min_us=(800, 4000, 1500, 1000, 3000))"
   ]
  },
  {
   "cell_type": "code",
   "execution_count": null,
   "metadata": {
    "collapsed": false
   },
   "outputs": [],
   "source": [
    "dplot(d, hist_bg, show_fit=True)"
   ]
  },
  {
   "cell_type": "markdown",
   "metadata": {},
   "source": [
    "## Automatic threshold"
   ]
  },
  {
   "cell_type": "markdown",
   "metadata": {},
   "source": [
    "Finally, is possible to let FRETBursts infer the threshold automatically with:"
   ]
  },
  {
   "cell_type": "code",
   "execution_count": null,
   "metadata": {
    "collapsed": false
   },
   "outputs": [],
   "source": [
    "d.calc_bg(bg.exp_fit, time_s=1000, tail_min_us='auto', F_bg=1.7)"
   ]
  },
  {
   "cell_type": "markdown",
   "metadata": {},
   "source": [
    "this is the recommended approach."
   ]
  },
  {
   "cell_type": "code",
   "execution_count": null,
   "metadata": {
    "collapsed": false
   },
   "outputs": [],
   "source": [
    "dplot(d, hist_bg, show_fit=True)"
   ]
  },
  {
   "cell_type": "markdown",
   "metadata": {},
   "source": [
    "## Background timetrace"
   ]
  },
  {
   "cell_type": "code",
   "execution_count": null,
   "metadata": {
    "collapsed": false
   },
   "outputs": [],
   "source": [
    "d.calc_bg(bg.exp_fit, time_s=30, tail_min_us='auto', F_bg=1.7)"
   ]
  },
  {
   "cell_type": "code",
   "execution_count": null,
   "metadata": {
    "collapsed": false
   },
   "outputs": [],
   "source": [
    "dplot(d, timetrace_bg)"
   ]
  },
  {
   "cell_type": "markdown",
   "metadata": {},
   "source": [
    "## Getting the background rates\n",
    "\n",
    "The background rates are stored in `Data()` attributes \n",
    "`bg`, `bg_dd`, `bg_ad`, `bg_aa`. These contain all the \n",
    "fitted background rates for each channel and period.\n",
    "\n",
    "We can also get the average background for each channel:"
   ]
  },
  {
   "cell_type": "code",
   "execution_count": null,
   "metadata": {
    "collapsed": false
   },
   "outputs": [],
   "source": [
    "d.rate_m, d.rate_dd, d.rate_ad, d.rate_da, d.rate_aa"
   ]
  },
  {
   "cell_type": "markdown",
   "metadata": {},
   "source": [
    "# Burst analysis"
   ]
  },
  {
   "cell_type": "markdown",
   "metadata": {},
   "source": [
    "First step of burst analysis is the burst search. \n",
    "\n",
    "We'll use the sliding-window algorithm on all photons. Note \n",
    "that all-photons here means all the photons selected in the \n",
    "alternation histogram.\n",
    "An important variation compared to the classical sliding-windows \n",
    "is that the threshold-rate for burst start is computed as \n",
    "a function of the background and it changes when the background\n",
    "changes during the measurement.\n",
    "\n",
    "Let's perform a burst search evaluating the photon rate with \n",
    "10 photons (`m=10`), and selecting a minimum rate 6 times \n",
    "the background rate (F=6) on all photons (default):"
   ]
  },
  {
   "cell_type": "code",
   "execution_count": null,
   "metadata": {
    "collapsed": false
   },
   "outputs": [],
   "source": [
    "d.burst_search(L=10, m=10, F=6)"
   ]
  },
  {
   "cell_type": "markdown",
   "metadata": {},
   "source": [
    "The previous command performs the burst search, corrects \n",
    "the bursts sizes for background and spectral leakage,\n",
    "applies the gamma correction and compute FRET and Stoichiometry. \n",
    "See the \n",
    "[`burst_search` documentation](http://fretbursts.readthedocs.org/en/latest/data_class.html#fretbursts.burstlib.Data.burst_search) for more details."
   ]
  },
  {
   "cell_type": "markdown",
   "metadata": {},
   "source": [
    "We can plot the resulting FRET histogram like this:"
   ]
  },
  {
   "cell_type": "code",
   "execution_count": null,
   "metadata": {
    "collapsed": false
   },
   "outputs": [],
   "source": [
    "dplot(d, hist_fret);"
   ]
  },
  {
   "cell_type": "markdown",
   "metadata": {},
   "source": [
    "All the pre-defined plots follow this pattern: \n",
    "call the generic `dplot()` function, passing 2 parameters:\n",
    "\n",
    "- the measurement data (`d` in this case) \n",
    "- the plot function (`hist_fret`)\n",
    "\n",
    "In some case we can add other optional parameters to tweak the plot.\n",
    "\n",
    "All the plot functions start with `hist_` for histograms, \n",
    "`scatter_` for scatter-plots  or `timetrace_` for plots function \n",
    "of measurement time. You can use autocompletion to find all \n",
    "the plot function or you can look in `bursts_plot.py` where \n",
    "all the plot functions are defined."
   ]
  },
  {
   "cell_type": "markdown",
   "metadata": {},
   "source": [
    "Instead of `hist_fret` we can use `hist_fret_kde` to add a [KDE](http://en.wikipedia.org/wiki/Kernel_density_estimation) overlay. Also, we can plot a **weighted histogram** by passing an additional parameter `weights`:"
   ]
  },
  {
   "cell_type": "code",
   "execution_count": null,
   "metadata": {
    "collapsed": false
   },
   "outputs": [],
   "source": [
    "dplot(d, hist_fret, show_kde=True);\n",
    "dplot(d, hist_fret, show_kde=True, weights='size');"
   ]
  },
  {
   "cell_type": "markdown",
   "metadata": {},
   "source": [
    "You can experiment with different weighting schema (for all \n",
    "supported weights see `get_weigths()` function in `fret_fit.py`)."
   ]
  },
  {
   "cell_type": "markdown",
   "metadata": {},
   "source": [
    "## Burst selection"
   ]
  },
  {
   "cell_type": "markdown",
   "metadata": {},
   "source": [
    "When performing the burst search we specified `L=10` without \n",
    "explaining what it is. *L* is traditionally the minimum size \n",
    "(number of photons) for a burst: smaller bursts will be rejected. \n",
    "By setting L=m (10 in this case) we are deciding to don't discard \n",
    "any burst (because the smallest detected burst has at least *m* counts). \n",
    "\n",
    "Selecting the bursts in a second step considering the corrected burst size, \n",
    "results in a more accurate an un-biased selection.\n",
    "\n",
    "For example we can select bursts with more than 30 photons (after \n",
    "background, gamma and leakage corrections) and store the result in a new\n",
    "`Data()` variable `ds`:"
   ]
  },
  {
   "cell_type": "code",
   "execution_count": null,
   "metadata": {
    "collapsed": false
   },
   "outputs": [],
   "source": [
    "ds = d.select_bursts(select_bursts.size, th1=30)"
   ]
  },
  {
   "cell_type": "markdown",
   "metadata": {},
   "source": [
    "By defaults the burst size includes donor and acceptor photons \n",
    "during donor excitation. To also add acceptor photons during \n",
    "acceptor excitation (`naa`) we can pass `add_naa=True`:"
   ]
  },
  {
   "cell_type": "code",
   "execution_count": null,
   "metadata": {
    "collapsed": false
   },
   "outputs": [],
   "source": [
    "ds = d.select_bursts(select_bursts.size, add_naa=True, th1=30)"
   ]
  },
  {
   "cell_type": "markdown",
   "metadata": {},
   "source": [
    "Similar to the plot functions, all the selection functions \n",
    "are defined in `select_bursts.py` and you can access them typing \n",
    "`select_bursts.` and using TAB for autocompletion. \n",
    "\n",
    "> **See also:** \n",
    "> * [Burst selection](http://fretbursts.readthedocs.org/en/latest/burst_selection.html) in the documentation. \n",
    "> In particular the function [`select_bursts.size`](http://fretbursts.readthedocs.org/en/latest/burst_selection.html#fretbursts.select_bursts.size) and [`Sel`](http://fretbursts.readthedocs.org/en/latest/burst_selection.html#fretbursts.burstlib.Sel).\n",
    "\n",
    "Let's replot the FRET histogram after selection (note that now \n",
    "we are passing `ds` that contains the selected bursts):"
   ]
  },
  {
   "cell_type": "code",
   "execution_count": null,
   "metadata": {
    "collapsed": false
   },
   "outputs": [],
   "source": [
    "dplot(ds, hist_fret);"
   ]
  },
  {
   "cell_type": "markdown",
   "metadata": {},
   "source": [
    "Note how the histogram is much more defined after the burst selection. "
   ]
  },
  {
   "cell_type": "markdown",
   "metadata": {},
   "source": [
    "## Histogram fitting and plotting style\n",
    "\n",
    "Under the hood the previous `hist_fret` plot creates a `MultiFitter` \n",
    "object for $E$ values. This object, stored as `ds.E_fitter`, operates\n",
    "on multi-channel data and computes the histogram, KDE and can fit \n",
    "the histogram with a model ([lmfit.Model](http://lmfit.github.io/lmfit-py/model.html)).\n",
    "\n",
    "Now, as just an example, we fit the histogram with 3 Gaussian \n",
    "peaks, using the already created `ds.E_fitter` object:"
   ]
  },
  {
   "cell_type": "code",
   "execution_count": null,
   "metadata": {
    "collapsed": false
   },
   "outputs": [],
   "source": [
    "ds.E_fitter.fit_histogram(mfit.factory_three_gaussians())"
   ]
  },
  {
   "cell_type": "code",
   "execution_count": null,
   "metadata": {
    "collapsed": false
   },
   "outputs": [],
   "source": [
    "dplot(ds, hist_fret, show_model=True)"
   ]
  },
  {
   "cell_type": "markdown",
   "metadata": {},
   "source": [
    "The bin width can be changed with `binwidth` argument or the full \n",
    "bins can be passed in `bins` (overriding `binwidth`).\n",
    "\n",
    "We can customize the appearance of this plot (type \n",
    "`hist_fret?` for the complete set of arguments). \n",
    "\n",
    "For example to change from a bar plot to a line-plot \n",
    "we use the `hist_style` argument:"
   ]
  },
  {
   "cell_type": "code",
   "execution_count": null,
   "metadata": {
    "collapsed": false
   },
   "outputs": [],
   "source": [
    "dplot(ds, hist_fret, show_model=True, hist_style='line')"
   ]
  },
  {
   "cell_type": "markdown",
   "metadata": {},
   "source": [
    "We can customize the line-plot, bar-plot, the model \n",
    "plot and the KDE plot by passing dictionaries with matplotlib \n",
    "style. The name of the arguments are:\n",
    "\n",
    "- `hist_plot_style`: style for the histogram line-plot\n",
    "- `hist_bar_style`: style for the histogram bar-plot\n",
    "- `model_plot_style`: style for the model plot\n",
    "- `kde_plot_style`: style for the KDE plot\n",
    "\n",
    "Let see an example:"
   ]
  },
  {
   "cell_type": "code",
   "execution_count": null,
   "metadata": {
    "collapsed": false
   },
   "outputs": [],
   "source": [
    "dplot(ds, hist_fret, show_model=True, hist_style='bar', show_kde=True,\n",
    "      kde_plot_style = dict(linewidth=5, color='orange', alpha=0.6),\n",
    "      hist_plot_style = dict(linewidth=3, markersize=8, color='b', alpha=0.6))\n",
    "plt.legend()"
   ]
  },
  {
   "cell_type": "markdown",
   "metadata": {},
   "source": [
    "# Other plots"
   ]
  },
  {
   "cell_type": "markdown",
   "metadata": {},
   "source": [
    "Similarly we can plot the burst size using all photons \n",
    "(type `hist_size?` for all the plot options):"
   ]
  },
  {
   "cell_type": "code",
   "execution_count": null,
   "metadata": {
    "collapsed": false
   },
   "outputs": [],
   "source": [
    "dplot(ds, hist_size, add_naa=True);"
   ]
  },
  {
   "cell_type": "markdown",
   "metadata": {},
   "source": [
    "Or plot the burst size histogram for the different components:"
   ]
  },
  {
   "cell_type": "code",
   "execution_count": null,
   "metadata": {
    "collapsed": false
   },
   "outputs": [],
   "source": [
    "dplot(ds, hist_size_all);"
   ]
  },
  {
   "cell_type": "markdown",
   "metadata": {},
   "source": [
    "> **NOTE:** The previous plot may generate a benign warning \n",
    "> due to the presence of zeroes when switching to log scale. Just ignore it."
   ]
  },
  {
   "cell_type": "markdown",
   "metadata": {},
   "source": [
    "A scatterplot Size *vs* FRET:"
   ]
  },
  {
   "cell_type": "code",
   "execution_count": null,
   "metadata": {
    "collapsed": false
   },
   "outputs": [],
   "source": [
    "dplot(ds, scatter_fret_nd_na)\n",
    "xlim(-1, 2)"
   ]
  },
  {
   "cell_type": "code",
   "execution_count": null,
   "metadata": {
    "collapsed": false
   },
   "outputs": [],
   "source": [
    "np.array([(1,2),(3,4)]).shape[-1]"
   ]
  },
  {
   "cell_type": "code",
   "execution_count": null,
   "metadata": {
    "collapsed": false
   },
   "outputs": [],
   "source": [
    "np.array((1,2)).shape[-1]"
   ]
  },
  {
   "cell_type": "code",
   "execution_count": null,
   "metadata": {
    "collapsed": false
   },
   "outputs": [],
   "source": [
    "np.repeat([np.array((1,2))], 6, axis=0)[0]"
   ]
  },
  {
   "cell_type": "markdown",
   "metadata": {},
   "source": [
    "# Study of different populations"
   ]
  },
  {
   "cell_type": "markdown",
   "metadata": {},
   "source": [
    "We can further select only bursts smaller than 300 photons \n",
    "to get rid of eventual aggregates:"
   ]
  },
  {
   "cell_type": "code",
   "execution_count": null,
   "metadata": {
    "collapsed": false
   },
   "outputs": [],
   "source": [
    "ds2 = ds.select_bursts(select_bursts.size, th2=300)"
   ]
  },
  {
   "cell_type": "markdown",
   "metadata": {},
   "source": [
    "and superimpose the two histograms before and after selection to see the difference:"
   ]
  },
  {
   "cell_type": "code",
   "execution_count": null,
   "metadata": {
    "collapsed": false
   },
   "outputs": [],
   "source": [
    "ax = dplot(ds2, hist_fret, hist_style='bar', show_kde=True, \n",
    "              hist_bar_style = dict(facecolor='r', alpha=0.5, label='Hist. no large bursts'),\n",
    "              kde_plot_style = dict(lw=3, color='m', label='KDE no large bursts'))\n",
    "dplot(ds, hist_fret, ax=ax, hist_style='bar', show_kde=True,\n",
    "      hist_bar_style = dict(label='Hist. with large bursts'),\n",
    "      kde_plot_style = dict(lw=3, label='KDE with large bursts'))\n",
    "plt.legend();"
   ]
  },
  {
   "cell_type": "markdown",
   "metadata": {},
   "source": [
    "## Fit and plot peak positions\n",
    "\n",
    "We can find the KDE peak position in a range (let say 0.2 ... 0.6):"
   ]
  },
  {
   "cell_type": "code",
   "execution_count": null,
   "metadata": {
    "collapsed": false
   },
   "outputs": [],
   "source": [
    "ds.E_fitter.find_kde_max(np.r_[0:1:0.0002], xmin=0.2, xmax=0.6)"
   ]
  },
  {
   "cell_type": "markdown",
   "metadata": {},
   "source": [
    "and plot it with `show_kde_peak=True`, we also use `show_fit_value=True` to show a box with the fitted value:"
   ]
  },
  {
   "cell_type": "code",
   "execution_count": null,
   "metadata": {
    "collapsed": false
   },
   "outputs": [],
   "source": [
    "dplot(ds, hist_fret, hist_style='line', \n",
    "      show_fit_value=True, \n",
    "      show_kde=True, show_kde_peak=True);"
   ]
  },
  {
   "cell_type": "markdown",
   "metadata": {},
   "source": [
    "Instead of using the KDE, we can use the peak position as fitted from a gaussian model. "
   ]
  },
  {
   "cell_type": "code",
   "execution_count": null,
   "metadata": {
    "collapsed": false
   },
   "outputs": [],
   "source": [
    "ds.E_fitter.fit_histogram(mfit.factory_three_gaussians())"
   ]
  },
  {
   "cell_type": "markdown",
   "metadata": {},
   "source": [
    "To select which peak to show we use `fit_from='p1_center'`:"
   ]
  },
  {
   "cell_type": "code",
   "execution_count": null,
   "metadata": {
    "collapsed": false
   },
   "outputs": [],
   "source": [
    "dplot(ds, hist_fret, hist_style='line', \n",
    "      show_fit_value=True, fit_from='p1_center', \n",
    "      show_model=True);"
   ]
  },
  {
   "cell_type": "markdown",
   "metadata": {},
   "source": [
    "The string `'p1_center'` is the name of the parameter of the \n",
    "gaussian fit that we want to show in the text box. To see all \n",
    "the parameters of the models we look in:"
   ]
  },
  {
   "cell_type": "code",
   "execution_count": null,
   "metadata": {
    "collapsed": false
   },
   "outputs": [],
   "source": [
    "ds.E_fitter.params"
   ]
  },
  {
   "cell_type": "markdown",
   "metadata": {},
   "source": [
    "## ALEX plots"
   ]
  },
  {
   "cell_type": "markdown",
   "metadata": {},
   "source": [
    "We can make a simple E-S scatter plot with `scatter_alex`:"
   ]
  },
  {
   "cell_type": "code",
   "execution_count": null,
   "metadata": {
    "collapsed": false
   },
   "outputs": [],
   "source": [
    "dplot(ds, scatter_alex, figsize=(4,4), mew=1, ms=4, mec='black', color='purple')"
   ]
  },
  {
   "cell_type": "markdown",
   "metadata": {},
   "source": [
    "We can also plot the ALEX histogram with a scatterplot overlay using `hist2d_alex`:"
   ]
  },
  {
   "cell_type": "code",
   "execution_count": null,
   "metadata": {
    "collapsed": false
   },
   "outputs": [],
   "source": [
    "dplot(ds, hist2d_alex);"
   ]
  },
  {
   "cell_type": "markdown",
   "metadata": {},
   "source": [
    "Finally we can also plot an ALEX histogram and marginals \n",
    "(joint plot) as follow (for more options see: \n",
    "[Example - usALEX histogram](Example - usALEX histogram.ipynb)):"
   ]
  },
  {
   "cell_type": "code",
   "execution_count": null,
   "metadata": {
    "collapsed": false
   },
   "outputs": [],
   "source": [
    "alex_jointplot(ds)"
   ]
  },
  {
   "cell_type": "markdown",
   "metadata": {},
   "source": [
    "We can try get rid of the large donor-only population simply \n",
    "selecting burst with at least 4 photons in the acceptor channel \n",
    "(during acceptor excitation):"
   ]
  },
  {
   "cell_type": "code",
   "execution_count": null,
   "metadata": {
    "collapsed": false
   },
   "outputs": [],
   "source": [
    "ds2 = ds.select_bursts(select_bursts.naa, th1=4)\n",
    "dplot(ds2, hist2d_alex);\n",
    "dplot(ds2, hist_fret);"
   ]
  },
  {
   "cell_type": "markdown",
   "metadata": {},
   "source": [
    "Much better, but maybe we want to select a region on the E/S \n",
    "histogram to completely eliminate the donor-only.\n",
    "\n",
    "To select bursts graphically we need to open the ALEX histogram \n",
    "in a new (QT) window, drag the mouse to define a selection and  \n",
    "having it printed here in the notebook.\n",
    "\n",
    "When you are done you can close the additional window and \n",
    "continue the execution.\n",
    "\n",
    "Here the commands:"
   ]
  },
  {
   "cell_type": "code",
   "execution_count": null,
   "metadata": {
    "collapsed": false
   },
   "outputs": [],
   "source": [
    "# Switches to open plot in external window\n",
    "#%matplotlib qt "
   ]
  },
  {
   "cell_type": "code",
   "execution_count": null,
   "metadata": {
    "collapsed": true
   },
   "outputs": [],
   "source": [
    "plt.close('all')"
   ]
  },
  {
   "cell_type": "code",
   "execution_count": null,
   "metadata": {
    "collapsed": false
   },
   "outputs": [],
   "source": [
    "# ALEX histogram with GUI selection enabled\n",
    "dplot(ds, hist2d_alex, gui_sel=True)"
   ]
  },
  {
   "cell_type": "code",
   "execution_count": null,
   "metadata": {
    "collapsed": false
   },
   "outputs": [],
   "source": [
    "# Switch back to show plots inline in the notebook\n",
    "#%matplotlib inline"
   ]
  },
  {
   "cell_type": "markdown",
   "metadata": {},
   "source": [
    "Now, to apply the selection, we paste the values obtained from \n",
    "the previous plot. We can use a rectangular or elliptical \n",
    "selection (see image), using `select_bursts.ES` and setting \n",
    "respectively `rect=True` or `rect=False`. Here we use the \n",
    "elliptical selection:"
   ]
  },
  {
   "cell_type": "code",
   "execution_count": null,
   "metadata": {
    "collapsed": false
   },
   "outputs": [],
   "source": [
    "d_fret_mix = ds.select_bursts(select_bursts.ES, E1=-0.07, E2=1.17, S1=0.18, S2=0.70, rect=False)"
   ]
  },
  {
   "cell_type": "markdown",
   "metadata": {},
   "source": [
    "By plotting the FRET histogram we can double check that \n",
    "the selection has been applied:"
   ]
  },
  {
   "cell_type": "code",
   "execution_count": null,
   "metadata": {
    "collapsed": false
   },
   "outputs": [],
   "source": [
    "dplot(d_fret_mix, hist2d_alex)"
   ]
  },
  {
   "cell_type": "markdown",
   "metadata": {},
   "source": [
    "Now we can further separate high- and low FRET sub-populations. \n",
    "We can go back to the GUI:"
   ]
  },
  {
   "cell_type": "code",
   "execution_count": null,
   "metadata": {
    "collapsed": false
   },
   "outputs": [],
   "source": [
    "#%matplotlib qt"
   ]
  },
  {
   "cell_type": "code",
   "execution_count": null,
   "metadata": {
    "collapsed": false
   },
   "outputs": [],
   "source": [
    "#dplot(d_fret_mix, hist2d_alex, gui_sel=True)"
   ]
  },
  {
   "cell_type": "code",
   "execution_count": null,
   "metadata": {
    "collapsed": false
   },
   "outputs": [],
   "source": [
    "#%matplotlib inline"
   ]
  },
  {
   "cell_type": "code",
   "execution_count": null,
   "metadata": {
    "collapsed": false
   },
   "outputs": [],
   "source": [
    "d_high_fret = d_fret_mix.select_bursts(select_bursts.ES_ellips, E1=0.65, E2=1.09, S1=-0.13, S2=0.96)\n",
    "d_low_fret = d_fret_mix.select_bursts(select_bursts.ES_ellips, E1=-0.19, E2=0.64, S1=-0.05, S2=0.92)"
   ]
  },
  {
   "cell_type": "code",
   "execution_count": null,
   "metadata": {
    "collapsed": false
   },
   "outputs": [],
   "source": [
    "dplot(d_high_fret, hist2d_alex);"
   ]
  },
  {
   "cell_type": "code",
   "execution_count": null,
   "metadata": {
    "collapsed": false
   },
   "outputs": [],
   "source": [
    "dplot(d_low_fret, hist2d_alex);"
   ]
  },
  {
   "cell_type": "markdown",
   "metadata": {},
   "source": [
    "We can for example compute the ratio of high- and low-fret bursts:"
   ]
  },
  {
   "cell_type": "code",
   "execution_count": null,
   "metadata": {
    "collapsed": false
   },
   "outputs": [],
   "source": [
    "1.*d_low_fret.num_bursts/d_high_fret.num_bursts"
   ]
  },
  {
   "cell_type": "markdown",
   "metadata": {},
   "source": [
    "## Burst Width analysis"
   ]
  },
  {
   "cell_type": "markdown",
   "metadata": {},
   "source": [
    "To plot a burst-width histogram we can just use `hist_width` instead of `hist_fret`:"
   ]
  },
  {
   "cell_type": "code",
   "execution_count": null,
   "metadata": {
    "collapsed": false
   },
   "outputs": [],
   "source": [
    "dplot(d_low_fret, hist_width)"
   ]
  },
  {
   "cell_type": "markdown",
   "metadata": {},
   "source": [
    "Let use a larger bin size, plots two sub-populations (in different color) and add a legend:"
   ]
  },
  {
   "cell_type": "code",
   "execution_count": null,
   "metadata": {
    "collapsed": false
   },
   "outputs": [],
   "source": [
    "ax = dplot(d_high_fret, hist_width, bins=(0, 10, 0.2))\n",
    "dplot(d_low_fret, hist_width, bins=(0, 10, 0.2), ax=ax)\n",
    "plt.legend(['High-FRET population', 'Low-FRET population'])"
   ]
  },
  {
   "cell_type": "markdown",
   "metadata": {},
   "source": [
    "Finally we compute the mean burst width for each subpopulation:"
   ]
  },
  {
   "cell_type": "code",
   "execution_count": null,
   "metadata": {
    "collapsed": false
   },
   "outputs": [],
   "source": [
    "mean_b_width_low_fret  = d_low_fret.mburst[0].width.mean()*d_low_fret.clk_p*1e3\n",
    "mean_b_width_high_fret = d_high_fret.mburst[0].width.mean()*d_high_fret.clk_p*1e3\n",
    "\n",
    "print('Mean burst width: %.1f ms (high-fret), %.1f (low-fret)' % (mean_b_width_high_fret, mean_b_width_low_fret))"
   ]
  },
  {
   "cell_type": "markdown",
   "metadata": {},
   "source": [
    "# FRET fit: in-depth example"
   ]
  },
  {
   "cell_type": "markdown",
   "metadata": {},
   "source": [
    "We can fit a FRET distribution to any model. For example here \n",
    "we fit the FRET selection (2 FRET sub-population) with 2 gaussians. \n",
    "The model is a [`Model` object](http://lmfit.github.io/lmfit-py/model.html) \n",
    "from the [`lmfit` library](http://lmfit.github.io/lmfit-py/).\n",
    "\n",
    "The first step, previously performed implicitely by the `hist_fret()`\n",
    "plot function, is creating a `MultiFitter` object for both $E$ and $S$.\n",
    "This is done calling `bext.burst_fitter()`. We can compute histogram, \n",
    "KDE and fit the histogram in one single step:"
   ]
  },
  {
   "cell_type": "code",
   "execution_count": null,
   "metadata": {
    "collapsed": false
   },
   "outputs": [],
   "source": [
    "bext.bursts_fitter(d_fret_mix, 'E', binwidth=0.03, bandwidth=0.03, model=mfit.factory_two_gaussians())\n",
    "bext.bursts_fitter(d_fret_mix, 'S', binwidth=0.03, bandwidth=0.03, model=mfit.factory_gaussian())"
   ]
  },
  {
   "cell_type": "markdown",
   "metadata": {},
   "source": [
    "However if we want to modify the model (for example to add a \n",
    "constrain) we may want to perform the fit in a second step. \n",
    "To skip the fitting, we simply avoid passing a `model`:"
   ]
  },
  {
   "cell_type": "code",
   "execution_count": null,
   "metadata": {
    "collapsed": false
   },
   "outputs": [],
   "source": [
    "bext.bursts_fitter(d_fret_mix, 'E', binwidth=0.03, bandwidth=0.03)\n",
    "bext.bursts_fitter(d_fret_mix, 'S', binwidth=0.03, bandwidth=0.03) "
   ]
  },
  {
   "cell_type": "markdown",
   "metadata": {},
   "source": [
    "Now we create a model and initialize the parameters \n",
    "using `mfit.factory_two_gaussians()` (all the functions\n",
    "`mfit.factory_*` return initialized models):"
   ]
  },
  {
   "cell_type": "code",
   "execution_count": null,
   "metadata": {
    "collapsed": false
   },
   "outputs": [],
   "source": [
    "model = mfit.factory_two_gaussians(add_bridge=True)"
   ]
  },
  {
   "cell_type": "markdown",
   "metadata": {},
   "source": [
    "We can see the list of parameters, initial values and constraints:"
   ]
  },
  {
   "cell_type": "code",
   "execution_count": null,
   "metadata": {
    "collapsed": false
   },
   "outputs": [],
   "source": [
    "model.param_hints"
   ]
  },
  {
   "cell_type": "markdown",
   "metadata": {},
   "source": [
    "We can modify some initial values and constrains (bounds):"
   ]
  },
  {
   "cell_type": "code",
   "execution_count": null,
   "metadata": {
    "collapsed": false
   },
   "outputs": [],
   "source": [
    "model.set_param_hint('p1_center', value=0.3, min=0.1, max=0.6)\n",
    "model.set_param_hint('p2_center', value=0.85, min=0.6, max=1.1)\n",
    "model.param_hints"
   ]
  },
  {
   "cell_type": "markdown",
   "metadata": {},
   "source": [
    "Finally we assign the model and we fit the histogram with one \n",
    "of the [supported minimization methods](http://lmfit.github.io/lmfit-py/fitting.html#fit-engines-label) \n",
    "(default is least-squares):"
   ]
  },
  {
   "cell_type": "code",
   "execution_count": null,
   "metadata": {
    "collapsed": false
   },
   "outputs": [],
   "source": [
    "d_fret_mix.E_fitter.fit_histogram(model=model, verbose=False)    # The default method is 'leastsq'\n",
    "#d_fret_mix.E_fitter.fit_histogram(model=model, method='nelder')  # i.e. simplex"
   ]
  },
  {
   "cell_type": "markdown",
   "metadata": {},
   "source": [
    "In the early examples we directly passed the model to fit_histogram. \n",
    "Here we first created the model, tweaked some initial values and \n",
    "constrains and then used this model to fit the $E$ histogram.\n",
    "\n",
    "To plot the model with the fitted parameters on top of the FRET \n",
    "histogram we add `show_model=True` as seen before:"
   ]
  },
  {
   "cell_type": "code",
   "execution_count": null,
   "metadata": {
    "collapsed": false
   },
   "outputs": [],
   "source": [
    "dplot(d_fret_mix, hist_fret, show_model=True)"
   ]
  },
  {
   "cell_type": "markdown",
   "metadata": {},
   "source": [
    "The minimizer object returned by `lmfit` is saved in the list `fit_res` \n",
    "(one element per channel) in the fitter object:"
   ]
  },
  {
   "cell_type": "code",
   "execution_count": null,
   "metadata": {
    "collapsed": false
   },
   "outputs": [],
   "source": [
    "results = d_fret_mix.E_fitter.fit_res[0]\n",
    "results.best_values"
   ]
  },
  {
   "cell_type": "markdown",
   "metadata": {},
   "source": [
    "For example we can take a look at the initial parameters:"
   ]
  },
  {
   "cell_type": "code",
   "execution_count": null,
   "metadata": {
    "collapsed": false
   },
   "outputs": [],
   "source": [
    "results.init_params.values()"
   ]
  },
  {
   "cell_type": "markdown",
   "metadata": {},
   "source": [
    "and at the fitted parameters (with error ranges computed from \n",
    "the non-linear least squares algorithm):"
   ]
  },
  {
   "cell_type": "code",
   "execution_count": null,
   "metadata": {
    "collapsed": false
   },
   "outputs": [],
   "source": [
    "results.params.values()"
   ]
  },
  {
   "cell_type": "markdown",
   "metadata": {},
   "source": [
    "Moreover, for convenience, the fitter object (`E_fitter`) saves \n",
    "the fitted parameter values in `E_fitter.params` (a pandas DataFrame):"
   ]
  },
  {
   "cell_type": "code",
   "execution_count": null,
   "metadata": {
    "collapsed": false
   },
   "outputs": [],
   "source": [
    "d_fret_mix.E_fitter.params"
   ]
  },
  {
   "cell_type": "markdown",
   "metadata": {},
   "source": [
    "Lmfit allows to print useful fit reports that include statistics like \n",
    "reduced chi-square, error ranges ($\\pm 1 \\sigma$) and correlations:"
   ]
  },
  {
   "cell_type": "code",
   "execution_count": null,
   "metadata": {
    "collapsed": false
   },
   "outputs": [],
   "source": [
    "print(results.fit_report())"
   ]
  },
  {
   "cell_type": "markdown",
   "metadata": {},
   "source": [
    "For more information on fitting features refer to the [lmfit documentation](http://cars9.uchicago.edu/software/python/lmfit/index.html)."
   ]
  },
  {
   "cell_type": "markdown",
   "metadata": {},
   "source": [
    "# Timetrace and Ratetrace\n",
    "\n",
    "For an initial inspection of a data file is common to do a *timetrace* plot. \n",
    "We also can do a similar plot called *ratetrace* that does not bin the data \n",
    "but shows the instantaneous rate. In both cases is convenient to scroll \n",
    "the plot interactively.\n",
    "\n",
    "In FRETBursts we have *timetrace* and *ratetrace* plots that support \n",
    "interactive scrolling. We just need to switch from the inline backend \n",
    "to the QT, like we did before. \n",
    "\n",
    "And here the commands:"
   ]
  },
  {
   "cell_type": "code",
   "execution_count": null,
   "metadata": {
    "collapsed": false
   },
   "outputs": [],
   "source": [
    "#%matplotlib qt"
   ]
  },
  {
   "cell_type": "code",
   "execution_count": null,
   "metadata": {
    "collapsed": false
   },
   "outputs": [],
   "source": [
    "#dplot(ds, ratetrace, scroll=True, bursts=True)"
   ]
  },
  {
   "cell_type": "code",
   "execution_count": null,
   "metadata": {
    "collapsed": false
   },
   "outputs": [],
   "source": [
    "#dplot(ds, timetrace, tmax=600, scroll=True, bursts=True)"
   ]
  },
  {
   "cell_type": "code",
   "execution_count": null,
   "metadata": {
    "collapsed": false
   },
   "outputs": [],
   "source": [
    "#%matplotlib inline"
   ]
  },
  {
   "cell_type": "code",
   "execution_count": null,
   "metadata": {
    "collapsed": true
   },
   "outputs": [],
   "source": []
  }
 ],
 "metadata": {
  "kernelspec": {
   "display_name": "Python 3",
   "language": "python",
   "name": "python3"
  },
  "language_info": {
   "codemirror_mode": {
    "name": "ipython",
    "version": 3
   },
   "file_extension": ".py",
   "mimetype": "text/x-python",
   "name": "python",
   "nbconvert_exporter": "python",
   "pygments_lexer": "ipython3",
   "version": "3.5.1"
  }
 },
 "nbformat": 4,
 "nbformat_minor": 0
}
