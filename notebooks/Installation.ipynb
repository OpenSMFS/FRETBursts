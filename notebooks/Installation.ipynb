{
 "metadata": {
  "name": "",
  "signature": "sha256:3a7f516e0e0c5ea2c70cb3af7a2d46c2fa3bd96203560f9881ecbb0bc8738b55"
 },
 "nbformat": 3,
 "nbformat_minor": 0,
 "worksheets": [
  {
   "cells": [
    {
     "cell_type": "markdown",
     "metadata": {},
     "source": [
      "# Installation\n",
      "\n",
      "> *This notebook writes in the user folder a configuration file used by FRETBursts loader script to find the FRETBursts source folder.*\n",
      "\n",
      "Run this notebook using *Cell* -> *Run all*. If no errors occurs the last line will print 'Installation complete'.\n",
      "\n",
      "To run FRETBursts you need a copy of the script [load_fretbursts.py]() in each notebook folder you intend to use. When downloading the [FRETBursts tutorials](https://github.com/tritemio/FRETBursts_notebooks/tree/master/notebooks) the loader script is already included."
     ]
    },
    {
     "cell_type": "markdown",
     "metadata": {},
     "source": [
      "## Setup\n",
      "\n",
      "Setup the folder names:"
     ]
    },
    {
     "cell_type": "code",
     "collapsed": false,
     "input": [
      "import os"
     ],
     "language": "python",
     "metadata": {},
     "outputs": []
    },
    {
     "cell_type": "code",
     "collapsed": false,
     "input": [
      "FRETBURSTS_DIR = os.path.abspath('..') + '/'"
     ],
     "language": "python",
     "metadata": {},
     "outputs": []
    },
    {
     "cell_type": "code",
     "collapsed": false,
     "input": [
      "if os.name == 'posix':\n",
      "    # Linux or Mac\n",
      "    HOME = os.environ['HOME'] + '/'\n",
      "elif os.name == 'nt':\n",
      "    # Windows\n",
      "    HOME = os.environ['HOMEPATH'] + '/'\n",
      "else:\n",
      "    raise OSError (\"Operating system not recognized (%s).\" % os.name)"
     ],
     "language": "python",
     "metadata": {},
     "outputs": []
    },
    {
     "cell_type": "code",
     "collapsed": false,
     "input": [
      "config_file_name = '.fretbursts'"
     ],
     "language": "python",
     "metadata": {},
     "outputs": []
    },
    {
     "cell_type": "code",
     "collapsed": false,
     "input": [
      "config_file_content = '%s\\n' % FRETBURSTS_DIR"
     ],
     "language": "python",
     "metadata": {},
     "outputs": []
    },
    {
     "cell_type": "markdown",
     "metadata": {},
     "source": [
      "Write the configuration file:"
     ]
    },
    {
     "cell_type": "code",
     "collapsed": false,
     "input": [
      "with open(HOME + config_file_name, 'w') as f:\n",
      "    f.write(config_file_content)"
     ],
     "language": "python",
     "metadata": {},
     "outputs": []
    },
    {
     "cell_type": "markdown",
     "metadata": {},
     "source": [
      "## Test installation\n",
      "\n",
      "Load the configuration file"
     ]
    },
    {
     "cell_type": "code",
     "collapsed": false,
     "input": [
      "with open(HOME + config_file_name) as f:\n",
      "    DIR = f.read().strip()\n",
      "DIR.strip()"
     ],
     "language": "python",
     "metadata": {},
     "outputs": [
      {
       "metadata": {},
       "output_type": "pyout",
       "prompt_number": 10,
       "text": [
        "'/Users/anto/src/fretbursts/'"
       ]
      }
     ],
     "prompt_number": 10
    },
    {
     "cell_type": "markdown",
     "metadata": {},
     "source": [
      "Load **FRETBursts**:"
     ]
    },
    {
     "cell_type": "code",
     "collapsed": false,
     "input": [
      "%run load_fretbursts --nogui"
     ],
     "language": "python",
     "metadata": {},
     "outputs": [
      {
       "output_type": "stream",
       "stream": "stdout",
       "text": [
        "\n",
        "FRETBursts revision:\n",
        " 2014-08-12 0950b51 White-spaces removal\n",
        "\n",
        "\n",
        "WARNING -> Uncommitted changes:\n",
        "AM notebooks/Installation.ipynb\n",
        "M  notebooks/load_fretbursts.py\n",
        "\n"
       ]
      }
     ],
     "prompt_number": 11
    },
    {
     "cell_type": "code",
     "collapsed": false,
     "input": [
      "print 'Installation completed.'"
     ],
     "language": "python",
     "metadata": {},
     "outputs": []
    },
    {
     "cell_type": "code",
     "collapsed": false,
     "input": [],
     "language": "python",
     "metadata": {},
     "outputs": []
    }
   ],
   "metadata": {}
  }
 ]
}