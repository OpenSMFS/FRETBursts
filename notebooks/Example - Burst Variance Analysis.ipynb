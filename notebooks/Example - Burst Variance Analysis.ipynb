{
 "cells": [
  {
   "cell_type": "markdown",
   "metadata": {},
   "source": [
    "# Example - Burst Variance Analysis\n",
    "\n",
    "*This notebook is part of smFRET burst analysis software [FRETBursts](http://tritemio.github.io/FRETBursts/).*"
   ]
  },
  {
   "cell_type": "markdown",
   "metadata": {},
   "source": [
    "> This notebook shows how to implement Burst Variance Analysis (BVA) ([Torella 2011](http://dx.doi.org/10.1016/j.bpj.2011.01.066)) using FRETBursts.\n",
    "\n",
    "> For a complete tutorial on burst analysis see \n",
    "> [FRETBursts - us-ALEX smFRET burst analysis](FRETBursts - us-ALEX smFRET burst analysis.ipynb)."
   ]
  },
  {
   "cell_type": "markdown",
   "metadata": {},
   "source": [
    "# Loading the software"
   ]
  },
  {
   "cell_type": "markdown",
   "metadata": {},
   "source": [
    "We start loading the **`FRETBursts`** software:"
   ]
  },
  {
   "cell_type": "code",
   "execution_count": null,
   "metadata": {
    "collapsed": false,
    "scrolled": false
   },
   "outputs": [],
   "source": [
    "from fretbursts import *\n",
    "sns = init_notebook()"
   ]
  },
  {
   "cell_type": "markdown",
   "metadata": {},
   "source": [
    "# Data file"
   ]
  },
  {
   "cell_type": "code",
   "execution_count": null,
   "metadata": {
    "collapsed": false
   },
   "outputs": [],
   "source": [
    "url = 'http://files.figshare.com/2182601/0023uLRpitc_NTP_20dT_0.5GndCl.hdf5'\n",
    "download_file(url, save_dir='./data')"
   ]
  },
  {
   "cell_type": "code",
   "execution_count": null,
   "metadata": {
    "collapsed": false
   },
   "outputs": [],
   "source": [
    "file_name = \"0023uLRpitc_NTP_20dT_0.5GndCl.hdf5\"\n",
    "\n",
    "# Here the folder is the subfolder \"data\" of current notebook folder\n",
    "folder_name = './data/'\n",
    "full_fname = folder_name + file_name\n",
    "full_fname"
   ]
  },
  {
   "cell_type": "code",
   "execution_count": null,
   "metadata": {
    "collapsed": false
   },
   "outputs": [],
   "source": [
    "import os\n",
    "if os.path.isfile(full_fname):\n",
    "    print (\"Perfect, I found the file!\")\n",
    "else:\n",
    "    print (\"Sorry, I can't find the file:\\n\", full_fname)"
   ]
  },
  {
   "cell_type": "markdown",
   "metadata": {},
   "source": [
    "# Load the selected file"
   ]
  },
  {
   "cell_type": "code",
   "execution_count": null,
   "metadata": {
    "collapsed": false
   },
   "outputs": [],
   "source": [
    "d = loader.photon_hdf5(full_fname)"
   ]
  },
  {
   "cell_type": "markdown",
   "metadata": {},
   "source": [
    "# us-ALEX parameters\n",
    "\n",
    "At this point, in `d`, we only have the timestamps (`ph_times_t`) and the detector numbers (`det_t`):"
   ]
  },
  {
   "cell_type": "code",
   "execution_count": null,
   "metadata": {
    "collapsed": false
   },
   "outputs": [],
   "source": [
    "d.add(det_donor_accept=(0, 1), \n",
    "      alex_period=4000, \n",
    "      D_ON=(2100, 3900), \n",
    "      A_ON=(150, 1900),\n",
    "      offset=700)\n",
    "bpl.plot_alternation_hist (d)\n",
    "loader.usalex_apply_period(d)"
   ]
  },
  {
   "cell_type": "markdown",
   "metadata": {},
   "source": [
    "# Burst Search and Selection"
   ]
  },
  {
   "cell_type": "markdown",
   "metadata": {},
   "source": [
    "Here we perform a standard burst search using the donor-excitation photon stream \n",
    "(`Ph_sel(Dex='DAem')`) as required for BVA.\n",
    "Then, we apply a few selection filters to discard D-only and A-only bursts."
   ]
  },
  {
   "cell_type": "code",
   "execution_count": null,
   "metadata": {
    "collapsed": false
   },
   "outputs": [],
   "source": [
    "d.calc_bg(bg.exp_fit, time_s=50.1, tail_min_us='auto', F_bg=1.7)"
   ]
  },
  {
   "cell_type": "code",
   "execution_count": null,
   "metadata": {
    "collapsed": false
   },
   "outputs": [],
   "source": [
    "d.burst_search(m=10, computefret=False, ph_sel=Ph_sel(Dex='DAem'))\n",
    "d.calc_fret(count_ph=True, corrections=False)"
   ]
  },
  {
   "cell_type": "code",
   "execution_count": null,
   "metadata": {
    "collapsed": false
   },
   "outputs": [],
   "source": [
    "ds = d.select_bursts(select_bursts.naa, th1=30, computefret=False)\n",
    "ds1 = ds.select_bursts(select_bursts.size, th1=30, computefret=False)\n",
    "ds_FRET = ds1.select_bursts(select_bursts.S, S1=0.25, S2=0.85, computefret=False)"
   ]
  },
  {
   "cell_type": "code",
   "execution_count": null,
   "metadata": {
    "collapsed": false
   },
   "outputs": [],
   "source": [
    "dx=ds_FRET\n",
    "alex_jointplot(dx)"
   ]
  },
  {
   "cell_type": "markdown",
   "metadata": {},
   "source": [
    "# Burst Variance Analysis"
   ]
  },
  {
   "cell_type": "markdown",
   "metadata": {},
   "source": [
    "We define a function to compute $s_E$:"
   ]
  },
  {
   "cell_type": "code",
   "execution_count": null,
   "metadata": {
    "collapsed": false
   },
   "outputs": [],
   "source": [
    "def bva_sigma_E(n, bursts_d, AexDex_mask_d):\n",
    "    \"\"\"\n",
    "    Perfom BVA analysis computing the std.dev. of sub-bursts E.\n",
    "    \n",
    "    For details on BVA see:\n",
    "    \n",
    "    - Torella et al. (2011) Biophys. J. doi:10.1016/j.bpj.2011.01.066\n",
    "    - Ingargiola et al. (2016) bioRxiv, doi:10.1101/039198\n",
    "    \n",
    "    Arguments:\n",
    "        n (int): number of photons in each sub-burst\n",
    "        bursts_d (Bursts object): burst data with index relative\n",
    "            Dex photon stream.\n",
    "        AexDex_mask_d (bool array): mask of acceptor-emitted photons\n",
    "            relative to the Dex photon stream.\n",
    "    \n",
    "    Returns:\n",
    "        E_sub_std (1D array): for ech burst, the standard deviation\n",
    "            of sub-bursts FRET efficiency. Same length of `bursts_d`.\n",
    "    \"\"\"\n",
    "    E_sub_std = []\n",
    "    for burst in bursts_d:\n",
    "        E_sub_bursts = []\n",
    "        startlist = range(burst.istart, burst.istop + 2 - n, n)\n",
    "        stoplist = [i + n for i in startlist]\n",
    "        for start, stop in zip(startlist, stoplist): \n",
    "            A_D = AemDex_mask_d[start:stop].sum()\n",
    "            assert stop-start == n\n",
    "            E = A_D / n\n",
    "            E_sub_bursts.append(E)\n",
    "        E_sub_std.append(np.std(E_sub_bursts))\n",
    "    return np.array(E_sub_std)"
   ]
  },
  {
   "cell_type": "markdown",
   "metadata": {},
   "source": [
    "Next we prepare the data for BVA:"
   ]
  },
  {
   "cell_type": "code",
   "execution_count": null,
   "metadata": {
    "collapsed": true
   },
   "outputs": [],
   "source": [
    "ph_d = ds_FRET.get_ph_times(ph_sel=Ph_sel(Dex='DAem'))\n",
    "bursts = ds_FRET.mburst[0]\n",
    "bursts_d = bursts.recompute_index_reduce(ph_d)"
   ]
  },
  {
   "cell_type": "code",
   "execution_count": null,
   "metadata": {
    "collapsed": false
   },
   "outputs": [],
   "source": [
    "Dex_mask = ds_FRET.get_ph_mask(ph_sel=Ph_sel(Dex='DAem'))   \n",
    "AemDex_mask = ds_FRET.get_ph_mask(ph_sel=Ph_sel(Dex='Aem')) \n",
    "AemDex_mask_d = AemDex_mask[Dex_mask]"
   ]
  },
  {
   "cell_type": "markdown",
   "metadata": {},
   "source": [
    "and call the `bva_sigma_E` function:"
   ]
  },
  {
   "cell_type": "code",
   "execution_count": null,
   "metadata": {
    "collapsed": true
   },
   "outputs": [],
   "source": [
    "n = 7\n",
    "E_sub_std = bva_sigma_E(n, bursts_d, AemDex_mask_d)"
   ]
  },
  {
   "cell_type": "markdown",
   "metadata": {},
   "source": [
    "Finally, we make a KDE plot of the 2D distribution `E_sub_std` versus the burst FRET efficiency:"
   ]
  },
  {
   "cell_type": "code",
   "execution_count": null,
   "metadata": {
    "collapsed": false,
    "scrolled": false
   },
   "outputs": [],
   "source": [
    "plt.figure(figsize=(6,6))\n",
    "x = np.arange(0,1.01,0.01)\n",
    "y = np.sqrt((x*(1-x))/n)\n",
    "plt.plot(x,y, lw=3, color='red')\n",
    "im = sns.kdeplot(ds_FRET.E_, E_sub_std, shade=True, cmap='viridis', shade_lowest=False)\n",
    "plt.xlim(0,1)\n",
    "plt.ylim(0,0.4)\n",
    "plt.xlabel('E', fontsize=14)\n",
    "plt.ylabel(r'$s_E$', fontsize=24);"
   ]
  }
 ],
 "metadata": {
  "kernelspec": {
   "display_name": "Python 3",
   "language": "python",
   "name": "python3"
  },
  "language_info": {
   "codemirror_mode": {
    "name": "ipython",
    "version": 3
   },
   "file_extension": ".py",
   "mimetype": "text/x-python",
   "name": "python",
   "nbconvert_exporter": "python",
   "pygments_lexer": "ipython3",
   "version": "3.5.1"
  }
 },
 "nbformat": 4,
 "nbformat_minor": 0
}
