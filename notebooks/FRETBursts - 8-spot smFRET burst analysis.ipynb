{
 "metadata": {
  "name": "",
  "signature": "sha256:3b5a9ba9ccd7e394f683273778b240562db422be330a6936703afa6557847a57"
 },
 "nbformat": 3,
 "nbformat_minor": 0,
 "worksheets": [
  {
   "cells": [
    {
     "cell_type": "markdown",
     "metadata": {},
     "source": [
      "#FRETBursts - 8-spot smFRET burst analysis\n",
      "\n",
      "*This notebook is part of a [tutorial series](https://github.com/tritemio/FRETBursts_notebooks) for the [FRETBursts](http://tritemio.github.io/FRETBursts/) burst analysis software.*"
     ]
    },
    {
     "cell_type": "markdown",
     "metadata": {},
     "source": [
      "> For a step-by-step introduction to FRETBursts usage please refer to [us-ALEX smFRET burst analysis](FRETBursts - us-ALEX smFRET burst analysis.ipynb).\n",
      ">\n",
      "> In this notebook we present a typical [FRETBursts](https://github.com/tritemio/FRETBursts/)\n",
      "> workflow for **multi-spot smFRET burst analysis**. \n",
      "> Briefly, we show how to perform background estimation, burst search, burst selection, \n",
      "> FRET histograms, and FRET efficiency fit using different methods. "
     ]
    },
    {
     "cell_type": "markdown",
     "metadata": {},
     "source": [
      "##Loading the software"
     ]
    },
    {
     "cell_type": "code",
     "collapsed": false,
     "input": [
      "%run load_fretbursts.py"
     ],
     "language": "python",
     "metadata": {},
     "outputs": []
    },
    {
     "cell_type": "markdown",
     "metadata": {},
     "source": [
      "#Downloading the sample data file"
     ]
    },
    {
     "cell_type": "markdown",
     "metadata": {},
     "source": [
      "The complete example dataset can be downloaded from [here](http://dx.doi.org/10.6084/m9.figshare.1019906).\n",
      "\n",
      "Here we download an 8-spot smFRET measurement file using the `download_file` function provided by FRETBursts: "
     ]
    },
    {
     "cell_type": "code",
     "collapsed": false,
     "input": [
      "url = 'http://files.figshare.com/1589086/12d_New_30p_320mW_steer_3.hdf5'"
     ],
     "language": "python",
     "metadata": {},
     "outputs": []
    },
    {
     "cell_type": "code",
     "collapsed": false,
     "input": [
      "download_file(url, save_dir=NOTEBOOK_DIR + '/data')"
     ],
     "language": "python",
     "metadata": {},
     "outputs": []
    },
    {
     "cell_type": "markdown",
     "metadata": {},
     "source": [
      "# Selecting a data file"
     ]
    },
    {
     "cell_type": "code",
     "collapsed": false,
     "input": [
      "file_name = \"12d_New_30p_320mW_steer_3.hdf5\""
     ],
     "language": "python",
     "metadata": {},
     "outputs": []
    },
    {
     "cell_type": "code",
     "collapsed": false,
     "input": [
      "# Here the folder is the subfolder \"data\" of current notebook folder\n",
      "folder_name = NOTEBOOK_DIR + '/data/'"
     ],
     "language": "python",
     "metadata": {},
     "outputs": []
    },
    {
     "cell_type": "markdown",
     "metadata": {},
     "source": [
      "Find the full file name:"
     ]
    },
    {
     "cell_type": "code",
     "collapsed": false,
     "input": [
      "full_fname = folder_name + file_name\n",
      "full_fname"
     ],
     "language": "python",
     "metadata": {},
     "outputs": []
    },
    {
     "cell_type": "code",
     "collapsed": false,
     "input": [
      "assert os.path.exists(full_fname)"
     ],
     "language": "python",
     "metadata": {},
     "outputs": []
    },
    {
     "cell_type": "markdown",
     "metadata": {},
     "source": [
      "## Data load and Burst search"
     ]
    },
    {
     "cell_type": "markdown",
     "metadata": {},
     "source": [
      "Load and process the data:"
     ]
    },
    {
     "cell_type": "code",
     "collapsed": false,
     "input": [
      "d = loader.hdf5(fname=full_fname)"
     ],
     "language": "python",
     "metadata": {},
     "outputs": []
    },
    {
     "cell_type": "markdown",
     "metadata": {},
     "source": [
      "Define the leakage (`BT`) and gamma-factor (`gamma`):"
     ]
    },
    {
     "cell_type": "code",
     "collapsed": false,
     "input": [
      "BT = 0.038\n",
      "gamma = 0.43\n",
      "d.add(BT=BT, gamma=gamma)"
     ],
     "language": "python",
     "metadata": {},
     "outputs": []
    },
    {
     "cell_type": "markdown",
     "metadata": {},
     "source": [
      "Compute background and burst search:"
     ]
    },
    {
     "cell_type": "code",
     "collapsed": false,
     "input": [
      "d.calc_bg(bg.exp_fit, time_s=30, tail_min_us='auto', F_bg=1.7)\n",
      "d.burst_search_t(L=10, m=10, F=7)"
     ],
     "language": "python",
     "metadata": {},
     "outputs": []
    },
    {
     "cell_type": "markdown",
     "metadata": {},
     "source": [
      "Perform a background plot as a function of the channel:"
     ]
    },
    {
     "cell_type": "code",
     "collapsed": false,
     "input": [
      "mch_plot_bg(d)"
     ],
     "language": "python",
     "metadata": {},
     "outputs": []
    },
    {
     "cell_type": "markdown",
     "metadata": {},
     "source": [
      "Let's take a look at the photon waiting times histograms and at the fitted background rates:"
     ]
    },
    {
     "cell_type": "code",
     "collapsed": false,
     "input": [
      "dplot(d, hist_bg_fit)\n",
      "plt.ylim(1e-1, 1e5);"
     ],
     "language": "python",
     "metadata": {},
     "outputs": []
    },
    {
     "cell_type": "markdown",
     "metadata": {},
     "source": [
      "Using `dplot` exactly in the same way as for the single-spot data has now generated 8 subplots, one for each channel.\n",
      "\n",
      "Let's plot a timetrace for the background to see is there are significat variations during the measurement:"
     ]
    },
    {
     "cell_type": "code",
     "collapsed": false,
     "input": [
      "dplot(d, timetrace_bg);"
     ],
     "language": "python",
     "metadata": {},
     "outputs": []
    },
    {
     "cell_type": "markdown",
     "metadata": {},
     "source": [
      "We can look at the timetrace of the photon stream (binning):"
     ]
    },
    {
     "cell_type": "code",
     "collapsed": false,
     "input": [
      "dplot(d, timetrace_da)\n",
      "xlim(2, 3); ylim(-100, 100);"
     ],
     "language": "python",
     "metadata": {},
     "outputs": []
    },
    {
     "cell_type": "markdown",
     "metadata": {},
     "source": [
      "We can also open the same plot in an interactive window that allows scrolling:"
     ]
    },
    {
     "cell_type": "code",
     "collapsed": false,
     "input": [
      "%matplotlib qt"
     ],
     "language": "python",
     "metadata": {},
     "outputs": []
    },
    {
     "cell_type": "code",
     "collapsed": false,
     "input": [
      "s = dplot(d, timetrace_da, scroll=True);"
     ],
     "language": "python",
     "metadata": {},
     "outputs": []
    },
    {
     "cell_type": "code",
     "collapsed": false,
     "input": [
      "ylim(-100, 100)"
     ],
     "language": "python",
     "metadata": {},
     "outputs": []
    },
    {
     "cell_type": "code",
     "collapsed": false,
     "input": [
      "%matplotlib inline"
     ],
     "language": "python",
     "metadata": {},
     "outputs": []
    },
    {
     "cell_type": "markdown",
     "metadata": {},
     "source": [
      "## Burst selection and FRET"
     ]
    },
    {
     "cell_type": "markdown",
     "metadata": {},
     "source": [
      "### Selecting bursts by burst size (`select_bursts.size`)"
     ]
    },
    {
     "cell_type": "code",
     "collapsed": false,
     "input": [
      "d.gamma"
     ],
     "language": "python",
     "metadata": {},
     "outputs": []
    },
    {
     "cell_type": "code",
     "collapsed": false,
     "input": [
      "d.update_gamma(1.)\n",
      "ds = Sel(d, select_bursts.size, th1=20, gamma1=1)\n",
      "dplot(ds, hist_fret)#; ylim(0,200);"
     ],
     "language": "python",
     "metadata": {},
     "outputs": []
    },
    {
     "cell_type": "code",
     "collapsed": false,
     "input": [
      "d.update_gamma(gamma)\n",
      "ds = Sel(d, select_bursts.size, th1=15, gamma1=gamma)\n",
      "dplot(ds, hist_fret);"
     ],
     "language": "python",
     "metadata": {},
     "outputs": []
    },
    {
     "cell_type": "code",
     "collapsed": false,
     "input": [
      "dplot(ds, scatter_fret_nd_na); ylim(0,200);"
     ],
     "language": "python",
     "metadata": {},
     "outputs": []
    },
    {
     "cell_type": "markdown",
     "metadata": {},
     "source": [
      "##FRET Fitting"
     ]
    },
    {
     "cell_type": "markdown",
     "metadata": {},
     "source": [
      "###Single Gaussian"
     ]
    },
    {
     "cell_type": "code",
     "collapsed": false,
     "input": [
      "ds.update_gamma(1.)\n",
      "ds.fit_E_generic(E1=0.2, fit_fun=bl.gaussian_fit_hist, weights='size', gamma=gamma)"
     ],
     "language": "python",
     "metadata": {},
     "outputs": []
    },
    {
     "cell_type": "code",
     "collapsed": false,
     "input": [
      "dplot(ds, hist_fret, bins=r_[-0.2:1.2:0.02], show_fit=True, sharey=True);"
     ],
     "language": "python",
     "metadata": {},
     "outputs": []
    },
    {
     "cell_type": "markdown",
     "metadata": {},
     "source": [
      "###2-Gaussian mixture"
     ]
    },
    {
     "cell_type": "code",
     "collapsed": false,
     "input": [
      "ds.fit_E_generic(fit_fun=bl.two_gaussian_fit_hist, weights='size', gamma=gamma)"
     ],
     "language": "python",
     "metadata": {},
     "outputs": []
    },
    {
     "cell_type": "code",
     "collapsed": false,
     "input": [
      "dplot(ds, hist_fret, bins=r_[-0.2:1.2:0.02], show_fit=True, sharey=True);"
     ],
     "language": "python",
     "metadata": {},
     "outputs": []
    },
    {
     "cell_type": "markdown",
     "metadata": {},
     "source": [
      "###Weighted Expectation Maximization\n",
      "\n",
      "The [expectation maximization](http://en.wikipedia.org/wiki/Expectation%E2%80%93maximization_algorithm) (EM) method is particularly suited to resolve population mixtures.\n",
      "\n",
      "FRETBursts include a weighted version of the algorithm that can take into account the burst size.\n",
      "The algorithm and benchmarks with the 2-Gaussian histogram fit are reported [here](http://nbviewer.ipython.org/github/tritemio/notebooks/blob/master/Mixture_Model_Fitting.ipynb).\n",
      "\n",
      "You can find the EM algorithm in `fretbursts/fit/gaussian_fit.py` or typing:\n",
      "\n",
      "`bl.two_gaussian_fit_EM??`\n",
      "\n",
      "in a code cell."
     ]
    },
    {
     "cell_type": "code",
     "collapsed": false,
     "input": [
      "# bl.two_gaussian_fit_EM??"
     ],
     "language": "python",
     "metadata": {},
     "outputs": []
    },
    {
     "cell_type": "code",
     "collapsed": false,
     "input": [
      "ds.fit_E_two_gauss_EM(weights='size', gamma=gamma)"
     ],
     "language": "python",
     "metadata": {},
     "outputs": []
    },
    {
     "cell_type": "code",
     "collapsed": false,
     "input": [
      "dplot(ds, hist_fret, bins=r_[-0.2:1.2:0.02], show_fit=True, sharey=True);"
     ],
     "language": "python",
     "metadata": {},
     "outputs": []
    },
    {
     "cell_type": "markdown",
     "metadata": {},
     "source": [
      "The fitted parameters for each channel are stored in the `fit_E_res` attribute:"
     ]
    },
    {
     "cell_type": "code",
     "collapsed": false,
     "input": [
      "ds.fit_E_res*100"
     ],
     "language": "python",
     "metadata": {},
     "outputs": []
    },
    {
     "cell_type": "code",
     "collapsed": false,
     "input": [],
     "language": "python",
     "metadata": {},
     "outputs": []
    },
    {
     "cell_type": "code",
     "collapsed": false,
     "input": [],
     "language": "python",
     "metadata": {},
     "outputs": []
    },
    {
     "cell_type": "markdown",
     "metadata": {},
     "source": [
      "##Notebook style"
     ]
    },
    {
     "cell_type": "code",
     "collapsed": false,
     "input": [
      "%cd $NOTEBOOK_DIR"
     ],
     "language": "python",
     "metadata": {},
     "outputs": []
    },
    {
     "cell_type": "code",
     "collapsed": false,
     "input": [
      "from IPython.core.display import HTML\n",
      "HTML(open(\"./styles/custom.css\", \"r\").read())"
     ],
     "language": "python",
     "metadata": {},
     "outputs": []
    },
    {
     "cell_type": "code",
     "collapsed": false,
     "input": [],
     "language": "python",
     "metadata": {},
     "outputs": []
    }
   ],
   "metadata": {}
  }
 ]
}