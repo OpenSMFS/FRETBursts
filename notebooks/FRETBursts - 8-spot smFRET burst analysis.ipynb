{
 "metadata": {
  "name": "",
  "signature": "sha256:cd88505f40205b4ab53f49cead3df5e638d3cdcadd311587c408431d4b8b8417"
 },
 "nbformat": 3,
 "nbformat_minor": 0,
 "worksheets": [
  {
   "cells": [
    {
     "cell_type": "markdown",
     "metadata": {},
     "source": [
      "#FRETBursts - 8-spot smFRET burst analysis\n",
      "\n",
      "*This notebook is part of a [tutorial series](https://github.com/tritemio/FRETBursts_notebooks) for the [FRETBursts](http://tritemio.github.io/FRETBursts/) burst analysis software.*"
     ]
    },
    {
     "cell_type": "markdown",
     "metadata": {},
     "source": [
      "> For a step-by-step introduction to FRETBursts usage please refer to [us-ALEX smFRET burst analysis](FRETBursts - us-ALEX smFRET burst analysis.ipynb).\n",
      ">\n",
      "> In this notebook we present a typical [FRETBursts](https://github.com/tritemio/FRETBursts/)\n",
      "> workflow for **multi-spot smFRET burst analysis**. \n",
      "> Briefly, we show how to perform background estimation, burst search, burst selection, \n",
      "> FRET histograms, and FRET efficiency fit using different methods. "
     ]
    },
    {
     "cell_type": "markdown",
     "metadata": {},
     "source": [
      "##Loading the software"
     ]
    },
    {
     "cell_type": "code",
     "collapsed": false,
     "input": [
      "from fretbursts import *"
     ],
     "language": "python",
     "metadata": {},
     "outputs": []
    },
    {
     "cell_type": "code",
     "collapsed": false,
     "input": [
      "sns = init_notebook()"
     ],
     "language": "python",
     "metadata": {},
     "outputs": []
    },
    {
     "cell_type": "markdown",
     "metadata": {},
     "source": [
      "#Downloading the sample data file"
     ]
    },
    {
     "cell_type": "markdown",
     "metadata": {},
     "source": [
      "The complete example dataset can be downloaded from [here](http://dx.doi.org/10.6084/m9.figshare.1019906).\n",
      "\n",
      "Here we download an 8-spot smFRET measurement file using the `download_file` function provided by FRETBursts: "
     ]
    },
    {
     "cell_type": "code",
     "collapsed": false,
     "input": [
      "url = 'http://files.figshare.com/1839122/12d_New_30p_320mW_steer_3.hdf5'"
     ],
     "language": "python",
     "metadata": {},
     "outputs": []
    },
    {
     "cell_type": "code",
     "collapsed": false,
     "input": [
      "download_file(url, save_dir='./data')"
     ],
     "language": "python",
     "metadata": {},
     "outputs": []
    },
    {
     "cell_type": "markdown",
     "metadata": {},
     "source": [
      "# Selecting a data file"
     ]
    },
    {
     "cell_type": "code",
     "collapsed": false,
     "input": [
      "file_name = \"12d_New_30p_320mW_steer_3.hdf5\""
     ],
     "language": "python",
     "metadata": {},
     "outputs": []
    },
    {
     "cell_type": "code",
     "collapsed": false,
     "input": [
      "# Here the folder is the subfolder \"data\" of current notebook folder\n",
      "folder_name = './data/'"
     ],
     "language": "python",
     "metadata": {},
     "outputs": []
    },
    {
     "cell_type": "markdown",
     "metadata": {},
     "source": [
      "Find the full file name:"
     ]
    },
    {
     "cell_type": "code",
     "collapsed": false,
     "input": [
      "full_fname = folder_name + file_name\n",
      "full_fname"
     ],
     "language": "python",
     "metadata": {},
     "outputs": []
    },
    {
     "cell_type": "code",
     "collapsed": false,
     "input": [
      "import os\n",
      "assert os.path.exists(full_fname)"
     ],
     "language": "python",
     "metadata": {},
     "outputs": []
    },
    {
     "cell_type": "markdown",
     "metadata": {},
     "source": [
      "## Data load and Burst search"
     ]
    },
    {
     "cell_type": "markdown",
     "metadata": {},
     "source": [
      "Load and process the data:"
     ]
    },
    {
     "cell_type": "code",
     "collapsed": false,
     "input": [
      "d = loader.hdf5(fname=full_fname)"
     ],
     "language": "python",
     "metadata": {},
     "outputs": []
    },
    {
     "cell_type": "markdown",
     "metadata": {},
     "source": [
      "For convenience we can set the correction coefficients right away so that they will be used in the subsequent analysis. The correction coefficients are: \n",
      "\n",
      "* leakage or bleed-through: `leakage`\n",
      "* direct excitation: `dir_ex` (ALEX-only)\n",
      "* gamma-factor `gamma`\n",
      "\n",
      "The direct excitation cannot be applied to non-ALEX (single-laser) smFRET measurements (like the current one)."
     ]
    },
    {
     "cell_type": "code",
     "collapsed": false,
     "input": [
      "d.leakage = 0.038\n",
      "d.gamma = 0.43"
     ],
     "language": "python",
     "metadata": {},
     "outputs": []
    },
    {
     "cell_type": "markdown",
     "metadata": {},
     "source": [
      "> **NOTE:** at any later moment, after burst search, a simple reassignment of these coefficient will update the burst data with the new correction values."
     ]
    },
    {
     "cell_type": "markdown",
     "metadata": {},
     "source": [
      "Compute background and burst search:"
     ]
    },
    {
     "cell_type": "code",
     "collapsed": false,
     "input": [
      "d.calc_bg(bg.exp_fit, time_s=30, tail_min_us='auto', F_bg=1.7)\n",
      "d.burst_search(L=10, m=10, F=7)"
     ],
     "language": "python",
     "metadata": {},
     "outputs": []
    },
    {
     "cell_type": "markdown",
     "metadata": {},
     "source": [
      "Perform a background plot as a function of the channel:"
     ]
    },
    {
     "cell_type": "code",
     "collapsed": false,
     "input": [
      "mch_plot_bg(d)"
     ],
     "language": "python",
     "metadata": {},
     "outputs": []
    },
    {
     "cell_type": "markdown",
     "metadata": {},
     "source": [
      "Let's take a look at the photon waiting times histograms and at the fitted background rates:"
     ]
    },
    {
     "cell_type": "code",
     "collapsed": false,
     "input": [
      "dplot(d, hist_bg);"
     ],
     "language": "python",
     "metadata": {},
     "outputs": []
    },
    {
     "cell_type": "markdown",
     "metadata": {},
     "source": [
      "Using `dplot` exactly in the same way as for the single-spot data has now generated 8 subplots, one for each channel.\n",
      "\n",
      "Let's plot a timetrace for the background to see is there are significat variations during the measurement:"
     ]
    },
    {
     "cell_type": "code",
     "collapsed": false,
     "input": [
      "dplot(d, timetrace_bg);"
     ],
     "language": "python",
     "metadata": {},
     "outputs": []
    },
    {
     "cell_type": "markdown",
     "metadata": {},
     "source": [
      "We can look at the timetrace of the photon stream (binning):"
     ]
    },
    {
     "cell_type": "code",
     "collapsed": false,
     "input": [
      "dplot(d, timetrace)\n",
      "xlim(2, 3); ylim(-100, 100);"
     ],
     "language": "python",
     "metadata": {},
     "outputs": []
    },
    {
     "cell_type": "markdown",
     "metadata": {},
     "source": [
      "We can also open the same plot in an interactive window that allows scrolling (uncomment the following lines):"
     ]
    },
    {
     "cell_type": "code",
     "collapsed": false,
     "input": [
      "#%matplotlib qt"
     ],
     "language": "python",
     "metadata": {},
     "outputs": []
    },
    {
     "cell_type": "code",
     "collapsed": false,
     "input": [
      "#dplot(d, timetrace, scroll=True);"
     ],
     "language": "python",
     "metadata": {},
     "outputs": []
    },
    {
     "cell_type": "code",
     "collapsed": false,
     "input": [
      "#ylim(-100, 100)"
     ],
     "language": "python",
     "metadata": {},
     "outputs": []
    },
    {
     "cell_type": "code",
     "collapsed": false,
     "input": [
      "#%matplotlib inline"
     ],
     "language": "python",
     "metadata": {},
     "outputs": []
    },
    {
     "cell_type": "markdown",
     "metadata": {},
     "source": [
      "## Burst selection and FRET"
     ]
    },
    {
     "cell_type": "markdown",
     "metadata": {},
     "source": [
      "### Selecting bursts by burst size (`select_bursts.size`)"
     ]
    },
    {
     "cell_type": "code",
     "collapsed": false,
     "input": [
      "gamma = d.gamma\n",
      "gamma"
     ],
     "language": "python",
     "metadata": {},
     "outputs": []
    },
    {
     "cell_type": "code",
     "collapsed": false,
     "input": [
      "d.gamma = 1\n",
      "ds = Sel(d, select_bursts.size, th1=30, gamma1=1)\n",
      "dplot(ds, hist_fret);"
     ],
     "language": "python",
     "metadata": {},
     "outputs": []
    },
    {
     "cell_type": "code",
     "collapsed": false,
     "input": [
      "ds = Sel(d, select_bursts.size, th1=25, gamma1=gamma)\n",
      "dplot(ds, hist_fret);"
     ],
     "language": "python",
     "metadata": {},
     "outputs": []
    },
    {
     "cell_type": "code",
     "collapsed": false,
     "input": [
      "ds = Sel(d, select_bursts.size, th1=25, gamma1=gamma)\n",
      "dplot(ds, hist_fret, weights='size', gamma=gamma);"
     ],
     "language": "python",
     "metadata": {},
     "outputs": []
    },
    {
     "cell_type": "code",
     "collapsed": false,
     "input": [
      "dplot(ds, scatter_fret_nd_na); ylim(0,200);"
     ],
     "language": "python",
     "metadata": {},
     "outputs": []
    },
    {
     "cell_type": "markdown",
     "metadata": {},
     "source": [
      "##FRET Fitting"
     ]
    },
    {
     "cell_type": "markdown",
     "metadata": {},
     "source": [
      "###2-Gaussian mixture"
     ]
    },
    {
     "cell_type": "markdown",
     "metadata": {},
     "source": [
      "Let's fit the $E$ histogram with a 2-Gaussians model:"
     ]
    },
    {
     "cell_type": "code",
     "collapsed": false,
     "input": [
      "ds.gamma = 1.\n",
      "bext.bursts_fitter(ds, weights=None)\n",
      "ds.E_fitter.fit_histogram(mfit.factory_two_gaussians())"
     ],
     "language": "python",
     "metadata": {},
     "outputs": []
    },
    {
     "cell_type": "markdown",
     "metadata": {},
     "source": [
      "The fitted parameters are stored in a pandas DataFrame:"
     ]
    },
    {
     "cell_type": "code",
     "collapsed": false,
     "input": [
      "ds.E_fitter.params"
     ],
     "language": "python",
     "metadata": {},
     "outputs": []
    },
    {
     "cell_type": "code",
     "collapsed": false,
     "input": [
      "dplot(ds, hist_fret, weights=None, show_model=True,\n",
      "      show_fit_stats=True, fit_from='p2_center');"
     ],
     "language": "python",
     "metadata": {},
     "outputs": []
    },
    {
     "cell_type": "markdown",
     "metadata": {},
     "source": [
      "###Weighted Expectation Maximization\n",
      "\n",
      "The [expectation maximization](http://en.wikipedia.org/wiki/Expectation%E2%80%93maximization_algorithm) (EM) method is particularly suited to resolve population mixtures. Note that the EM algorithm does not fir the histogram but the $E$ distribution (one value per burst).\n",
      "\n",
      "FRETBursts include a weighted version of the algorithm that can take into account the burst size.\n",
      "The algorithm and benchmarks with the 2-Gaussian histogram fit are reported [here](http://nbviewer.ipython.org/github/tritemio/notebooks/blob/master/Mixture_Model_Fitting.ipynb).\n",
      "\n",
      "You can find the EM algorithm in `fretbursts/fit/gaussian_fit.py` or typing:\n",
      "\n",
      "`bl.two_gaussian_fit_EM??`\n"
     ]
    },
    {
     "cell_type": "code",
     "collapsed": false,
     "input": [
      "# bl.two_gaussian_fit_EM??"
     ],
     "language": "python",
     "metadata": {},
     "outputs": []
    },
    {
     "cell_type": "code",
     "collapsed": false,
     "input": [
      "EM_results = ds.fit_E_two_gauss_EM(weights=None, gamma=1.)\n",
      "EM_results"
     ],
     "language": "python",
     "metadata": {},
     "outputs": []
    },
    {
     "cell_type": "markdown",
     "metadata": {},
     "source": [
      "The fitted parameters for each channel are stored in the `fit_E_res` attribute:"
     ]
    },
    {
     "cell_type": "code",
     "collapsed": false,
     "input": [
      "ds.fit_E_name, ds.fit_E_res"
     ],
     "language": "python",
     "metadata": {},
     "outputs": []
    },
    {
     "cell_type": "markdown",
     "metadata": {},
     "source": [
      "The model function is stored in:"
     ]
    },
    {
     "cell_type": "code",
     "collapsed": false,
     "input": [
      "ds.fit_E_model"
     ],
     "language": "python",
     "metadata": {},
     "outputs": []
    },
    {
     "cell_type": "markdown",
     "metadata": {},
     "source": [
      "Let's plot the histogram and the model with parameters from the EM fit:"
     ]
    },
    {
     "cell_type": "code",
     "collapsed": false,
     "input": [
      "AX = dplot(ds, hist_fret, weights=None)\n",
      "\n",
      "x = np.r_[-0.2: 1.2 : 0.01]\n",
      "for ich, (ax, E_fit) in enumerate(zip(AX.ravel(), EM_results)):\n",
      "    ax.axvline(E_fit, ls='--', color='r')\n",
      "    ax.plot(x, ds.fit_E_model(x, ds.fit_E_res[ich]))\n",
      "\n",
      "print 'E mean: %.2f%%   E delta: %.2f%%' %\\\n",
      "        (EM_results.mean()*100, (EM_results.max() - EM_results.min())*100)"
     ],
     "language": "python",
     "metadata": {},
     "outputs": []
    },
    {
     "cell_type": "markdown",
     "metadata": {},
     "source": [
      "## Comparing 2-Gaussian and EM fit\n",
      "\n",
      "To quickly compare the 2-Gaussians with the EM fit we convert the EM fit results in a DataFrame:"
     ]
    },
    {
     "cell_type": "code",
     "collapsed": false,
     "input": [
      "import pandas as pd"
     ],
     "language": "python",
     "metadata": {},
     "outputs": []
    },
    {
     "cell_type": "code",
     "collapsed": false,
     "input": [
      "EM_results = pd.DataFrame(ds.fit_E_res, columns=['p1_center', 'p1_sigma', 'p2_center', 'p2_sigma', 'p1_amplitude'])\n",
      "EM_results * 100"
     ],
     "language": "python",
     "metadata": {},
     "outputs": []
    },
    {
     "cell_type": "code",
     "collapsed": false,
     "input": [
      "ds.E_fitter.params * 100"
     ],
     "language": "python",
     "metadata": {},
     "outputs": []
    },
    {
     "cell_type": "markdown",
     "metadata": {},
     "source": [
      "And we compute the difference between the two sets of parameters:"
     ]
    },
    {
     "cell_type": "code",
     "collapsed": false,
     "input": [
      "(ds.E_fitter.params - EM_results) * 100"
     ],
     "language": "python",
     "metadata": {},
     "outputs": []
    },
    {
     "cell_type": "markdown",
     "metadata": {},
     "source": [
      "> **NOTE:** The EM method follows more the \"asymmetry\" of the peaks because the center is a weighted mean of the bursts. On the contrary the 2-Gaussians histogram fit tends to follows more the peak position an less the \"asymmetric\" tails.  "
     ]
    },
    {
     "cell_type": "markdown",
     "metadata": {},
     "source": [
      "\n",
      "##Notebook style"
     ]
    },
    {
     "cell_type": "code",
     "collapsed": false,
     "input": [
      "from IPython.core.display import HTML\n",
      "HTML(open(\"./styles/custom2.css\", \"r\").read())"
     ],
     "language": "python",
     "metadata": {},
     "outputs": []
    },
    {
     "cell_type": "code",
     "collapsed": false,
     "input": [],
     "language": "python",
     "metadata": {},
     "outputs": []
    }
   ],
   "metadata": {}
  }
 ]
}